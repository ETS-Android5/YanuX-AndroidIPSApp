{
 "cells": [
  {
   "cell_type": "markdown",
   "metadata": {},
   "source": [
    "# BLE Proximity Experiment - Random Forest Classifier\n",
    "## Experiment based on the measurements of the BLE RSSI values according to the distance to the BLE Estimote beacon"
   ]
  },
  {
   "cell_type": "markdown",
   "metadata": {},
   "source": [
    "### Imports\n",
    "Imports of required libraries"
   ]
  },
  {
   "cell_type": "code",
   "execution_count": 3,
   "metadata": {},
   "outputs": [
    {
     "data": {
      "text/plain": [
       "<Figure size 432x288 with 0 Axes>"
      ]
     },
     "metadata": {},
     "output_type": "display_data"
    }
   ],
   "source": [
    "#CSV Related\n",
    "import pandas as pd\n",
    "import csv\n",
    "\n",
    "# Machine Learning\n",
    "import numpy as np\n",
    "from sklearn.ensemble import RandomForestClassifier\n",
    "from sklearn.preprocessing import OneHotEncoder,LabelEncoder\n",
    "from sklearn.metrics import classification_report, confusion_matrix, accuracy_score\n",
    "from sklearn.model_selection import train_test_split,KFold,StratifiedKFold\n",
    "from sklearn.model_selection import cross_val_score, cross_val_predict\n",
    "from sklearn.preprocessing import StandardScaler, MinMaxScaler, MaxAbsScaler\n",
    "from sklearn.pipeline import Pipeline\n",
    "from sklearn.model_selection import GridSearchCV, RandomizedSearchCV\n",
    "from sklearn.model_selection import LeaveOneGroupOut\n",
    "from sklearn.pipeline import make_pipeline\n",
    "import sklearn\n",
    "import scipy\n",
    "\n",
    "#Graphical Display\n",
    "%matplotlib inline\n",
    "from IPython.display import display, HTML\n",
    "import matplotlib.pyplot as plt\n",
    "import seaborn as sns\n",
    "sns.set_style(\"whitegrid\")\n",
    "sns.despine()\n",
    "from pandas.plotting import scatter_matrix\n",
    "\n",
    "plt.style.use('seaborn-whitegrid')\n",
    "\n",
    "#Additional Helper Libraries\n",
    "from operator import itemgetter\n",
    "import re"
   ]
  },
  {
   "cell_type": "markdown",
   "metadata": {},
   "source": [
    "### Load File\n",
    "Function that allows to load a file from disk"
   ]
  },
  {
   "cell_type": "code",
   "execution_count": 4,
   "metadata": {},
   "outputs": [],
   "source": [
    "#Function that reads a csv file and structures the data accordingly\n",
    "def load_file(filename):\n",
    "    dataset = pd.read_csv(filename)\n",
    "    return dataset"
   ]
  },
  {
   "cell_type": "markdown",
   "metadata": {},
   "source": [
    "### Replace 0 with Nan RSSI Values"
   ]
  },
  {
   "cell_type": "code",
   "execution_count": 5,
   "metadata": {},
   "outputs": [],
   "source": [
    "def replace_features_nan(dataset):\n",
    "    dataset['rssi_Value'] = dataset['rssi_Value'].replace(0,np.nan)\n",
    "    dataset['rolling_mean_rssi'] = dataset['rolling_mean_rssi'].replace(0,np.nan)"
   ]
  },
  {
   "cell_type": "markdown",
   "metadata": {},
   "source": [
    "### Initialize Dataset\n",
    "Initialization of the data from the file"
   ]
  },
  {
   "cell_type": "code",
   "execution_count": 6,
   "metadata": {},
   "outputs": [
    {
     "data": {
      "text/html": [
       "<div>\n",
       "<style scoped>\n",
       "    .dataframe tbody tr th:only-of-type {\n",
       "        vertical-align: middle;\n",
       "    }\n",
       "\n",
       "    .dataframe tbody tr th {\n",
       "        vertical-align: top;\n",
       "    }\n",
       "\n",
       "    .dataframe thead th {\n",
       "        text-align: right;\n",
       "    }\n",
       "</style>\n",
       "<table border=\"1\" class=\"dataframe\">\n",
       "  <thead>\n",
       "    <tr style=\"text-align: right;\">\n",
       "      <th></th>\n",
       "      <th>coordinate_X</th>\n",
       "      <th>coordinate_Y</th>\n",
       "      <th>rssi_Value</th>\n",
       "      <th>rolling_mean_rssi</th>\n",
       "      <th>zone</th>\n",
       "      <th>distance</th>\n",
       "    </tr>\n",
       "  </thead>\n",
       "  <tbody>\n",
       "    <tr>\n",
       "      <th>0</th>\n",
       "      <td>0.0</td>\n",
       "      <td>0.0</td>\n",
       "      <td>-47</td>\n",
       "      <td>-47.000000</td>\n",
       "      <td>0-1 meters</td>\n",
       "      <td>0.0</td>\n",
       "    </tr>\n",
       "    <tr>\n",
       "      <th>1</th>\n",
       "      <td>0.0</td>\n",
       "      <td>0.0</td>\n",
       "      <td>-46</td>\n",
       "      <td>-46.500000</td>\n",
       "      <td>0-1 meters</td>\n",
       "      <td>0.0</td>\n",
       "    </tr>\n",
       "    <tr>\n",
       "      <th>2</th>\n",
       "      <td>0.0</td>\n",
       "      <td>0.0</td>\n",
       "      <td>-46</td>\n",
       "      <td>-46.333333</td>\n",
       "      <td>0-1 meters</td>\n",
       "      <td>0.0</td>\n",
       "    </tr>\n",
       "    <tr>\n",
       "      <th>3</th>\n",
       "      <td>0.0</td>\n",
       "      <td>0.0</td>\n",
       "      <td>-47</td>\n",
       "      <td>-46.500000</td>\n",
       "      <td>0-1 meters</td>\n",
       "      <td>0.0</td>\n",
       "    </tr>\n",
       "    <tr>\n",
       "      <th>4</th>\n",
       "      <td>0.0</td>\n",
       "      <td>0.0</td>\n",
       "      <td>-47</td>\n",
       "      <td>-46.600000</td>\n",
       "      <td>0-1 meters</td>\n",
       "      <td>0.0</td>\n",
       "    </tr>\n",
       "    <tr>\n",
       "      <th>...</th>\n",
       "      <td>...</td>\n",
       "      <td>...</td>\n",
       "      <td>...</td>\n",
       "      <td>...</td>\n",
       "      <td>...</td>\n",
       "      <td>...</td>\n",
       "    </tr>\n",
       "    <tr>\n",
       "      <th>12470</th>\n",
       "      <td>0.0</td>\n",
       "      <td>3.5</td>\n",
       "      <td>-87</td>\n",
       "      <td>-84.555556</td>\n",
       "      <td>3-4 meters</td>\n",
       "      <td>3.5</td>\n",
       "    </tr>\n",
       "    <tr>\n",
       "      <th>12471</th>\n",
       "      <td>0.0</td>\n",
       "      <td>3.5</td>\n",
       "      <td>-87</td>\n",
       "      <td>-84.684211</td>\n",
       "      <td>3-4 meters</td>\n",
       "      <td>3.5</td>\n",
       "    </tr>\n",
       "    <tr>\n",
       "      <th>12472</th>\n",
       "      <td>0.0</td>\n",
       "      <td>3.5</td>\n",
       "      <td>-87</td>\n",
       "      <td>-84.800000</td>\n",
       "      <td>3-4 meters</td>\n",
       "      <td>3.5</td>\n",
       "    </tr>\n",
       "    <tr>\n",
       "      <th>12473</th>\n",
       "      <td>0.0</td>\n",
       "      <td>3.5</td>\n",
       "      <td>-87</td>\n",
       "      <td>-84.904762</td>\n",
       "      <td>3-4 meters</td>\n",
       "      <td>3.5</td>\n",
       "    </tr>\n",
       "    <tr>\n",
       "      <th>12474</th>\n",
       "      <td>0.0</td>\n",
       "      <td>3.5</td>\n",
       "      <td>-87</td>\n",
       "      <td>-85.000000</td>\n",
       "      <td>3-4 meters</td>\n",
       "      <td>3.5</td>\n",
       "    </tr>\n",
       "  </tbody>\n",
       "</table>\n",
       "<p>12475 rows × 6 columns</p>\n",
       "</div>"
      ],
      "text/plain": [
       "       coordinate_X  coordinate_Y  rssi_Value  rolling_mean_rssi        zone  \\\n",
       "0               0.0           0.0         -47         -47.000000  0-1 meters   \n",
       "1               0.0           0.0         -46         -46.500000  0-1 meters   \n",
       "2               0.0           0.0         -46         -46.333333  0-1 meters   \n",
       "3               0.0           0.0         -47         -46.500000  0-1 meters   \n",
       "4               0.0           0.0         -47         -46.600000  0-1 meters   \n",
       "...             ...           ...         ...                ...         ...   \n",
       "12470           0.0           3.5         -87         -84.555556  3-4 meters   \n",
       "12471           0.0           3.5         -87         -84.684211  3-4 meters   \n",
       "12472           0.0           3.5         -87         -84.800000  3-4 meters   \n",
       "12473           0.0           3.5         -87         -84.904762  3-4 meters   \n",
       "12474           0.0           3.5         -87         -85.000000  3-4 meters   \n",
       "\n",
       "       distance  \n",
       "0           0.0  \n",
       "1           0.0  \n",
       "2           0.0  \n",
       "3           0.0  \n",
       "4           0.0  \n",
       "...         ...  \n",
       "12470       3.5  \n",
       "12471       3.5  \n",
       "12472       3.5  \n",
       "12473       3.5  \n",
       "12474       3.5  \n",
       "\n",
       "[12475 rows x 6 columns]"
      ]
     },
     "metadata": {},
     "output_type": "display_data"
    },
    {
     "data": {
      "text/plain": [
       "(12475, 6)"
      ]
     },
     "metadata": {},
     "output_type": "display_data"
    }
   ],
   "source": [
    "dataset = load_file('../../distance_proximity_experiments.csv')\n",
    "positions = dataset['coordinate_Y']\n",
    "dataset['distance'] = positions\n",
    "replace_features_nan(dataset)\n",
    "display(dataset)\n",
    "display(dataset.shape)"
   ]
  },
  {
   "cell_type": "markdown",
   "metadata": {},
   "source": [
    "### Initialize Test Set"
   ]
  },
  {
   "cell_type": "code",
   "execution_count": 7,
   "metadata": {},
   "outputs": [
    {
     "data": {
      "text/html": [
       "<div>\n",
       "<style scoped>\n",
       "    .dataframe tbody tr th:only-of-type {\n",
       "        vertical-align: middle;\n",
       "    }\n",
       "\n",
       "    .dataframe tbody tr th {\n",
       "        vertical-align: top;\n",
       "    }\n",
       "\n",
       "    .dataframe thead th {\n",
       "        text-align: right;\n",
       "    }\n",
       "</style>\n",
       "<table border=\"1\" class=\"dataframe\">\n",
       "  <thead>\n",
       "    <tr style=\"text-align: right;\">\n",
       "      <th></th>\n",
       "      <th>coordinate_X</th>\n",
       "      <th>coordinate_Y</th>\n",
       "      <th>rssi_Value</th>\n",
       "      <th>rolling_mean_rssi</th>\n",
       "      <th>zone</th>\n",
       "      <th>distance</th>\n",
       "    </tr>\n",
       "  </thead>\n",
       "  <tbody>\n",
       "    <tr>\n",
       "      <th>0</th>\n",
       "      <td>0.0</td>\n",
       "      <td>0.0</td>\n",
       "      <td>-50</td>\n",
       "      <td>-50.000000</td>\n",
       "      <td>0-1 meters</td>\n",
       "      <td>0.0</td>\n",
       "    </tr>\n",
       "    <tr>\n",
       "      <th>1</th>\n",
       "      <td>0.0</td>\n",
       "      <td>0.0</td>\n",
       "      <td>-50</td>\n",
       "      <td>-50.000000</td>\n",
       "      <td>0-1 meters</td>\n",
       "      <td>0.0</td>\n",
       "    </tr>\n",
       "    <tr>\n",
       "      <th>2</th>\n",
       "      <td>0.0</td>\n",
       "      <td>0.0</td>\n",
       "      <td>-53</td>\n",
       "      <td>-51.000000</td>\n",
       "      <td>0-1 meters</td>\n",
       "      <td>0.0</td>\n",
       "    </tr>\n",
       "    <tr>\n",
       "      <th>3</th>\n",
       "      <td>0.0</td>\n",
       "      <td>0.0</td>\n",
       "      <td>-51</td>\n",
       "      <td>-51.000000</td>\n",
       "      <td>0-1 meters</td>\n",
       "      <td>0.0</td>\n",
       "    </tr>\n",
       "    <tr>\n",
       "      <th>4</th>\n",
       "      <td>0.0</td>\n",
       "      <td>0.0</td>\n",
       "      <td>-53</td>\n",
       "      <td>-53.000000</td>\n",
       "      <td>0-1 meters</td>\n",
       "      <td>0.0</td>\n",
       "    </tr>\n",
       "    <tr>\n",
       "      <th>...</th>\n",
       "      <td>...</td>\n",
       "      <td>...</td>\n",
       "      <td>...</td>\n",
       "      <td>...</td>\n",
       "      <td>...</td>\n",
       "      <td>...</td>\n",
       "    </tr>\n",
       "    <tr>\n",
       "      <th>410</th>\n",
       "      <td>0.0</td>\n",
       "      <td>3.5</td>\n",
       "      <td>-86</td>\n",
       "      <td>-83.800000</td>\n",
       "      <td>3-4 meters</td>\n",
       "      <td>3.5</td>\n",
       "    </tr>\n",
       "    <tr>\n",
       "      <th>411</th>\n",
       "      <td>0.0</td>\n",
       "      <td>3.5</td>\n",
       "      <td>-88</td>\n",
       "      <td>-84.500000</td>\n",
       "      <td>3-4 meters</td>\n",
       "      <td>3.5</td>\n",
       "    </tr>\n",
       "    <tr>\n",
       "      <th>412</th>\n",
       "      <td>0.0</td>\n",
       "      <td>3.5</td>\n",
       "      <td>-84</td>\n",
       "      <td>-84.428571</td>\n",
       "      <td>3-4 meters</td>\n",
       "      <td>3.5</td>\n",
       "    </tr>\n",
       "    <tr>\n",
       "      <th>413</th>\n",
       "      <td>0.0</td>\n",
       "      <td>3.5</td>\n",
       "      <td>-83</td>\n",
       "      <td>-84.250000</td>\n",
       "      <td>3-4 meters</td>\n",
       "      <td>3.5</td>\n",
       "    </tr>\n",
       "    <tr>\n",
       "      <th>414</th>\n",
       "      <td>0.0</td>\n",
       "      <td>3.5</td>\n",
       "      <td>-82</td>\n",
       "      <td>-84.000000</td>\n",
       "      <td>3-4 meters</td>\n",
       "      <td>3.5</td>\n",
       "    </tr>\n",
       "  </tbody>\n",
       "</table>\n",
       "<p>415 rows × 6 columns</p>\n",
       "</div>"
      ],
      "text/plain": [
       "     coordinate_X  coordinate_Y  rssi_Value  rolling_mean_rssi        zone  \\\n",
       "0             0.0           0.0         -50         -50.000000  0-1 meters   \n",
       "1             0.0           0.0         -50         -50.000000  0-1 meters   \n",
       "2             0.0           0.0         -53         -51.000000  0-1 meters   \n",
       "3             0.0           0.0         -51         -51.000000  0-1 meters   \n",
       "4             0.0           0.0         -53         -53.000000  0-1 meters   \n",
       "..            ...           ...         ...                ...         ...   \n",
       "410           0.0           3.5         -86         -83.800000  3-4 meters   \n",
       "411           0.0           3.5         -88         -84.500000  3-4 meters   \n",
       "412           0.0           3.5         -84         -84.428571  3-4 meters   \n",
       "413           0.0           3.5         -83         -84.250000  3-4 meters   \n",
       "414           0.0           3.5         -82         -84.000000  3-4 meters   \n",
       "\n",
       "     distance  \n",
       "0         0.0  \n",
       "1         0.0  \n",
       "2         0.0  \n",
       "3         0.0  \n",
       "4         0.0  \n",
       "..        ...  \n",
       "410       3.5  \n",
       "411       3.5  \n",
       "412       3.5  \n",
       "413       3.5  \n",
       "414       3.5  \n",
       "\n",
       "[415 rows x 6 columns]"
      ]
     },
     "metadata": {},
     "output_type": "display_data"
    },
    {
     "data": {
      "text/plain": [
       "(415, 6)"
      ]
     },
     "metadata": {},
     "output_type": "display_data"
    },
    {
     "data": {
      "image/png": "[encoded data removed]",
      "text/plain": [
       "<Figure size 864x432 with 6 Axes>"
      ]
     },
     "metadata": {},
     "output_type": "display_data"
    }
   ],
   "source": [
    "test_dataset = load_file('../../distance_proximity_experiments-checkpoint.csv')\n",
    "positions = test_dataset['coordinate_Y']\n",
    "test_dataset['distance'] = positions\n",
    "replace_features_nan(test_dataset)\n",
    "display(test_dataset)\n",
    "display(test_dataset.shape)\n",
    "test_dataset.hist(bins=50,figsize=(12,6))\n",
    "plt.show()"
   ]
  },
  {
   "cell_type": "markdown",
   "metadata": {},
   "source": [
    "### Initialize Test Set (My Device)"
   ]
  },
  {
   "cell_type": "code",
   "execution_count": 8,
   "metadata": {},
   "outputs": [
    {
     "data": {
      "text/html": [
       "<div>\n",
       "<style scoped>\n",
       "    .dataframe tbody tr th:only-of-type {\n",
       "        vertical-align: middle;\n",
       "    }\n",
       "\n",
       "    .dataframe tbody tr th {\n",
       "        vertical-align: top;\n",
       "    }\n",
       "\n",
       "    .dataframe thead th {\n",
       "        text-align: right;\n",
       "    }\n",
       "</style>\n",
       "<table border=\"1\" class=\"dataframe\">\n",
       "  <thead>\n",
       "    <tr style=\"text-align: right;\">\n",
       "      <th></th>\n",
       "      <th>coordinate_X</th>\n",
       "      <th>coordinate_Y</th>\n",
       "      <th>rssi_Value</th>\n",
       "      <th>rolling_mean_rssi</th>\n",
       "      <th>zone</th>\n",
       "      <th>distance</th>\n",
       "    </tr>\n",
       "  </thead>\n",
       "  <tbody>\n",
       "    <tr>\n",
       "      <th>0</th>\n",
       "      <td>0.0</td>\n",
       "      <td>0.0</td>\n",
       "      <td>-44</td>\n",
       "      <td>-44.000000</td>\n",
       "      <td>0-1 meters</td>\n",
       "      <td>0.0</td>\n",
       "    </tr>\n",
       "    <tr>\n",
       "      <th>1</th>\n",
       "      <td>0.0</td>\n",
       "      <td>0.0</td>\n",
       "      <td>-44</td>\n",
       "      <td>-44.000000</td>\n",
       "      <td>0-1 meters</td>\n",
       "      <td>0.0</td>\n",
       "    </tr>\n",
       "    <tr>\n",
       "      <th>2</th>\n",
       "      <td>0.0</td>\n",
       "      <td>0.0</td>\n",
       "      <td>-44</td>\n",
       "      <td>-44.000000</td>\n",
       "      <td>0-1 meters</td>\n",
       "      <td>0.0</td>\n",
       "    </tr>\n",
       "    <tr>\n",
       "      <th>3</th>\n",
       "      <td>0.0</td>\n",
       "      <td>0.0</td>\n",
       "      <td>-44</td>\n",
       "      <td>-44.000000</td>\n",
       "      <td>0-1 meters</td>\n",
       "      <td>0.0</td>\n",
       "    </tr>\n",
       "    <tr>\n",
       "      <th>4</th>\n",
       "      <td>0.0</td>\n",
       "      <td>0.0</td>\n",
       "      <td>-45</td>\n",
       "      <td>-44.200000</td>\n",
       "      <td>0-1 meters</td>\n",
       "      <td>0.0</td>\n",
       "    </tr>\n",
       "    <tr>\n",
       "      <th>...</th>\n",
       "      <td>...</td>\n",
       "      <td>...</td>\n",
       "      <td>...</td>\n",
       "      <td>...</td>\n",
       "      <td>...</td>\n",
       "      <td>...</td>\n",
       "    </tr>\n",
       "    <tr>\n",
       "      <th>2279</th>\n",
       "      <td>0.0</td>\n",
       "      <td>3.5</td>\n",
       "      <td>-84</td>\n",
       "      <td>-83.944444</td>\n",
       "      <td>3-4 meters</td>\n",
       "      <td>3.5</td>\n",
       "    </tr>\n",
       "    <tr>\n",
       "      <th>2280</th>\n",
       "      <td>0.0</td>\n",
       "      <td>3.5</td>\n",
       "      <td>-85</td>\n",
       "      <td>-84.000000</td>\n",
       "      <td>3-4 meters</td>\n",
       "      <td>3.5</td>\n",
       "    </tr>\n",
       "    <tr>\n",
       "      <th>2281</th>\n",
       "      <td>0.0</td>\n",
       "      <td>3.5</td>\n",
       "      <td>-85</td>\n",
       "      <td>-84.050000</td>\n",
       "      <td>3-4 meters</td>\n",
       "      <td>3.5</td>\n",
       "    </tr>\n",
       "    <tr>\n",
       "      <th>2282</th>\n",
       "      <td>0.0</td>\n",
       "      <td>3.5</td>\n",
       "      <td>-92</td>\n",
       "      <td>-84.428571</td>\n",
       "      <td>3-4 meters</td>\n",
       "      <td>3.5</td>\n",
       "    </tr>\n",
       "    <tr>\n",
       "      <th>2283</th>\n",
       "      <td>0.0</td>\n",
       "      <td>3.5</td>\n",
       "      <td>-92</td>\n",
       "      <td>-84.772727</td>\n",
       "      <td>3-4 meters</td>\n",
       "      <td>3.5</td>\n",
       "    </tr>\n",
       "  </tbody>\n",
       "</table>\n",
       "<p>2284 rows × 6 columns</p>\n",
       "</div>"
      ],
      "text/plain": [
       "      coordinate_X  coordinate_Y  rssi_Value  rolling_mean_rssi        zone  \\\n",
       "0              0.0           0.0         -44         -44.000000  0-1 meters   \n",
       "1              0.0           0.0         -44         -44.000000  0-1 meters   \n",
       "2              0.0           0.0         -44         -44.000000  0-1 meters   \n",
       "3              0.0           0.0         -44         -44.000000  0-1 meters   \n",
       "4              0.0           0.0         -45         -44.200000  0-1 meters   \n",
       "...            ...           ...         ...                ...         ...   \n",
       "2279           0.0           3.5         -84         -83.944444  3-4 meters   \n",
       "2280           0.0           3.5         -85         -84.000000  3-4 meters   \n",
       "2281           0.0           3.5         -85         -84.050000  3-4 meters   \n",
       "2282           0.0           3.5         -92         -84.428571  3-4 meters   \n",
       "2283           0.0           3.5         -92         -84.772727  3-4 meters   \n",
       "\n",
       "      distance  \n",
       "0          0.0  \n",
       "1          0.0  \n",
       "2          0.0  \n",
       "3          0.0  \n",
       "4          0.0  \n",
       "...        ...  \n",
       "2279       3.5  \n",
       "2280       3.5  \n",
       "2281       3.5  \n",
       "2282       3.5  \n",
       "2283       3.5  \n",
       "\n",
       "[2284 rows x 6 columns]"
      ]
     },
     "metadata": {},
     "output_type": "display_data"
    },
    {
     "data": {
      "text/plain": [
       "(2284, 6)"
      ]
     },
     "metadata": {},
     "output_type": "display_data"
    },
    {
     "data": {
      "image/png": "[encoded data removed]",
      "text/plain": [
       "<Figure size 864x432 with 6 Axes>"
      ]
     },
     "metadata": {},
     "output_type": "display_data"
    }
   ],
   "source": [
    "test_dataset_my_device = load_file('../../dataset_test.csv')\n",
    "positions = test_dataset_my_device['coordinate_Y']\n",
    "test_dataset_my_device['distance'] = positions\n",
    "replace_features_nan(test_dataset_my_device)\n",
    "display(test_dataset_my_device)\n",
    "display(test_dataset_my_device.shape)\n",
    "test_dataset_my_device.hist(bins=50,figsize=(12,6))\n",
    "plt.show()"
   ]
  },
  {
   "cell_type": "markdown",
   "metadata": {},
   "source": [
    "### Dataset Overall Info"
   ]
  },
  {
   "cell_type": "code",
   "execution_count": 9,
   "metadata": {},
   "outputs": [
    {
     "name": "stdout",
     "output_type": "stream",
     "text": [
      "<class 'pandas.core.frame.DataFrame'>\n",
      "RangeIndex: 12475 entries, 0 to 12474\n",
      "Data columns (total 6 columns):\n",
      " #   Column             Non-Null Count  Dtype  \n",
      "---  ------             --------------  -----  \n",
      " 0   coordinate_X       12475 non-null  float64\n",
      " 1   coordinate_Y       12475 non-null  float64\n",
      " 2   rssi_Value         12475 non-null  int64  \n",
      " 3   rolling_mean_rssi  12475 non-null  float64\n",
      " 4   zone               12475 non-null  object \n",
      " 5   distance           12475 non-null  float64\n",
      "dtypes: float64(4), int64(1), object(1)\n",
      "memory usage: 584.9+ KB\n"
     ]
    },
    {
     "data": {
      "text/plain": [
       "None"
      ]
     },
     "metadata": {},
     "output_type": "display_data"
    }
   ],
   "source": [
    "display(dataset.info())"
   ]
  },
  {
   "cell_type": "markdown",
   "metadata": {},
   "source": [
    "### File Overall Description\n",
    "Usage of describe pandas function on the dataset"
   ]
  },
  {
   "cell_type": "code",
   "execution_count": 10,
   "metadata": {},
   "outputs": [
    {
     "data": {
      "text/html": [
       "<div>\n",
       "<style scoped>\n",
       "    .dataframe tbody tr th:only-of-type {\n",
       "        vertical-align: middle;\n",
       "    }\n",
       "\n",
       "    .dataframe tbody tr th {\n",
       "        vertical-align: top;\n",
       "    }\n",
       "\n",
       "    .dataframe thead th {\n",
       "        text-align: right;\n",
       "    }\n",
       "</style>\n",
       "<table border=\"1\" class=\"dataframe\">\n",
       "  <thead>\n",
       "    <tr style=\"text-align: right;\">\n",
       "      <th></th>\n",
       "      <th>count</th>\n",
       "      <th>mean</th>\n",
       "      <th>std</th>\n",
       "      <th>min</th>\n",
       "      <th>25%</th>\n",
       "      <th>50%</th>\n",
       "      <th>75%</th>\n",
       "      <th>max</th>\n",
       "    </tr>\n",
       "  </thead>\n",
       "  <tbody>\n",
       "    <tr>\n",
       "      <th>coordinate_X</th>\n",
       "      <td>12475.0</td>\n",
       "      <td>0.000000</td>\n",
       "      <td>0.000000</td>\n",
       "      <td>0.0</td>\n",
       "      <td>0.0</td>\n",
       "      <td>0.000000</td>\n",
       "      <td>0.00</td>\n",
       "      <td>0.0</td>\n",
       "    </tr>\n",
       "    <tr>\n",
       "      <th>coordinate_Y</th>\n",
       "      <td>12475.0</td>\n",
       "      <td>1.728457</td>\n",
       "      <td>1.144743</td>\n",
       "      <td>0.0</td>\n",
       "      <td>0.5</td>\n",
       "      <td>1.500000</td>\n",
       "      <td>2.50</td>\n",
       "      <td>3.5</td>\n",
       "    </tr>\n",
       "    <tr>\n",
       "      <th>rssi_Value</th>\n",
       "      <td>12475.0</td>\n",
       "      <td>-73.416754</td>\n",
       "      <td>12.929039</td>\n",
       "      <td>-102.0</td>\n",
       "      <td>-82.0</td>\n",
       "      <td>-76.000000</td>\n",
       "      <td>-64.00</td>\n",
       "      <td>-45.0</td>\n",
       "    </tr>\n",
       "    <tr>\n",
       "      <th>rolling_mean_rssi</th>\n",
       "      <td>12475.0</td>\n",
       "      <td>-73.454044</td>\n",
       "      <td>12.766312</td>\n",
       "      <td>-98.5</td>\n",
       "      <td>-82.2</td>\n",
       "      <td>-76.285714</td>\n",
       "      <td>-63.75</td>\n",
       "      <td>-46.0</td>\n",
       "    </tr>\n",
       "    <tr>\n",
       "      <th>distance</th>\n",
       "      <td>12475.0</td>\n",
       "      <td>1.728457</td>\n",
       "      <td>1.144743</td>\n",
       "      <td>0.0</td>\n",
       "      <td>0.5</td>\n",
       "      <td>1.500000</td>\n",
       "      <td>2.50</td>\n",
       "      <td>3.5</td>\n",
       "    </tr>\n",
       "  </tbody>\n",
       "</table>\n",
       "</div>"
      ],
      "text/plain": [
       "                     count       mean        std    min   25%        50%  \\\n",
       "coordinate_X       12475.0   0.000000   0.000000    0.0   0.0   0.000000   \n",
       "coordinate_Y       12475.0   1.728457   1.144743    0.0   0.5   1.500000   \n",
       "rssi_Value         12475.0 -73.416754  12.929039 -102.0 -82.0 -76.000000   \n",
       "rolling_mean_rssi  12475.0 -73.454044  12.766312  -98.5 -82.2 -76.285714   \n",
       "distance           12475.0   1.728457   1.144743    0.0   0.5   1.500000   \n",
       "\n",
       "                     75%   max  \n",
       "coordinate_X        0.00   0.0  \n",
       "coordinate_Y        2.50   3.5  \n",
       "rssi_Value        -64.00 -45.0  \n",
       "rolling_mean_rssi -63.75 -46.0  \n",
       "distance            2.50   3.5  "
      ]
     },
     "metadata": {},
     "output_type": "display_data"
    }
   ],
   "source": [
    "display(dataset.describe().transpose())"
   ]
  },
  {
   "cell_type": "markdown",
   "metadata": {},
   "source": [
    "### % of Missing Values"
   ]
  },
  {
   "cell_type": "code",
   "execution_count": 11,
   "metadata": {},
   "outputs": [],
   "source": [
    "def compute_missing_values(dataset): \n",
    "    missing_values = dataset.isnull().sum()\n",
    "    missing_values_dataset = pd.DataFrame(missing_values,columns=['Missing Values'])\n",
    "    missing_percentage = (dataset.isnull().sum() / dataset.count()) * 100\n",
    "    missing_percentage_dataset = pd.DataFrame(missing_percentage,columns=['% of Missing Values'])\n",
    "    missing_dataset = missing_values_dataset.join(missing_percentage_dataset)\n",
    "    display(missing_dataset)"
   ]
  },
  {
   "cell_type": "code",
   "execution_count": 12,
   "metadata": {},
   "outputs": [
    {
     "data": {
      "text/html": [
       "<div>\n",
       "<style scoped>\n",
       "    .dataframe tbody tr th:only-of-type {\n",
       "        vertical-align: middle;\n",
       "    }\n",
       "\n",
       "    .dataframe tbody tr th {\n",
       "        vertical-align: top;\n",
       "    }\n",
       "\n",
       "    .dataframe thead th {\n",
       "        text-align: right;\n",
       "    }\n",
       "</style>\n",
       "<table border=\"1\" class=\"dataframe\">\n",
       "  <thead>\n",
       "    <tr style=\"text-align: right;\">\n",
       "      <th></th>\n",
       "      <th>Missing Values</th>\n",
       "      <th>% of Missing Values</th>\n",
       "    </tr>\n",
       "  </thead>\n",
       "  <tbody>\n",
       "    <tr>\n",
       "      <th>coordinate_X</th>\n",
       "      <td>0</td>\n",
       "      <td>0.0</td>\n",
       "    </tr>\n",
       "    <tr>\n",
       "      <th>coordinate_Y</th>\n",
       "      <td>0</td>\n",
       "      <td>0.0</td>\n",
       "    </tr>\n",
       "    <tr>\n",
       "      <th>rssi_Value</th>\n",
       "      <td>0</td>\n",
       "      <td>0.0</td>\n",
       "    </tr>\n",
       "    <tr>\n",
       "      <th>rolling_mean_rssi</th>\n",
       "      <td>0</td>\n",
       "      <td>0.0</td>\n",
       "    </tr>\n",
       "    <tr>\n",
       "      <th>zone</th>\n",
       "      <td>0</td>\n",
       "      <td>0.0</td>\n",
       "    </tr>\n",
       "    <tr>\n",
       "      <th>distance</th>\n",
       "      <td>0</td>\n",
       "      <td>0.0</td>\n",
       "    </tr>\n",
       "  </tbody>\n",
       "</table>\n",
       "</div>"
      ],
      "text/plain": [
       "                   Missing Values  % of Missing Values\n",
       "coordinate_X                    0                  0.0\n",
       "coordinate_Y                    0                  0.0\n",
       "rssi_Value                      0                  0.0\n",
       "rolling_mean_rssi               0                  0.0\n",
       "zone                            0                  0.0\n",
       "distance                        0                  0.0"
      ]
     },
     "metadata": {},
     "output_type": "display_data"
    }
   ],
   "source": [
    "compute_missing_values(dataset)"
   ]
  },
  {
   "cell_type": "markdown",
   "metadata": {},
   "source": [
    "### Overall Histogram of dataset atributes"
   ]
  },
  {
   "cell_type": "code",
   "execution_count": 13,
   "metadata": {},
   "outputs": [
    {
     "data": {
      "image/png": "[encoded data removed]",
      "text/plain": [
       "<Figure size 864x432 with 6 Axes>"
      ]
     },
     "metadata": {},
     "output_type": "display_data"
    }
   ],
   "source": [
    "dataset.hist(bins=50,figsize=(12,6))\n",
    "plt.show()"
   ]
  },
  {
   "cell_type": "markdown",
   "metadata": {},
   "source": [
    "### Target Attribute - Zone\n",
    "Graphical display of the zones scanned in the experiment"
   ]
  },
  {
   "cell_type": "code",
   "execution_count": 14,
   "metadata": {},
   "outputs": [
    {
     "data": {
      "text/plain": [
       "<matplotlib.axes._subplots.AxesSubplot at 0x1f378e82188>"
      ]
     },
     "execution_count": 14,
     "metadata": {},
     "output_type": "execute_result"
    },
    {
     "data": {
      "image/png": "[encoded data removed]",
      "text/plain": [
       "<Figure size 432x288 with 1 Axes>"
      ]
     },
     "metadata": {},
     "output_type": "display_data"
    }
   ],
   "source": [
    "reference_points = dataset.groupby(['zone'])\n",
    "reference_points.size().plot(kind=\"bar\")"
   ]
  },
  {
   "cell_type": "code",
   "execution_count": 15,
   "metadata": {},
   "outputs": [
    {
     "data": {
      "text/plain": [
       "<matplotlib.axes._subplots.AxesSubplot at 0x1f378e40fc8>"
      ]
     },
     "execution_count": 15,
     "metadata": {},
     "output_type": "execute_result"
    },
    {
     "data": {
      "image/png": "[encoded data removed]",
      "text/plain": [
       "<Figure size 432x288 with 1 Axes>"
      ]
     },
     "metadata": {},
     "output_type": "display_data"
    }
   ],
   "source": [
    "reference_points = dataset.groupby(['zone','distance'])\n",
    "reference_points.size().plot(kind=\"bar\")"
   ]
  },
  {
   "cell_type": "markdown",
   "metadata": {},
   "source": [
    "### Beacon RSSI Display\n",
    "Graphical display of the rssi values recorded at each position"
   ]
  },
  {
   "cell_type": "code",
   "execution_count": 16,
   "metadata": {},
   "outputs": [
    {
     "data": {
      "image/png": "[encoded data removed]",
      "text/plain": [
       "<Figure size 432x216 with 1 Axes>"
      ]
     },
     "metadata": {},
     "output_type": "display_data"
    }
   ],
   "source": [
    "plt.figure(figsize=(6,3))\n",
    "# Title\n",
    "plt.title('RSSI Probability Distribution')\n",
    "\n",
    "sns.distplot(dataset['rssi_Value'])\n",
    "# The X Label\n",
    "plt.xlabel('RSSI (dB)')\n",
    "# The Y Label\n",
    "plt.ylabel('Probability')\n",
    "# Show the plot\n",
    "plt.show()"
   ]
  },
  {
   "cell_type": "markdown",
   "metadata": {},
   "source": [
    "### Beacon Rolling Mean RSSI Display\n",
    "Graphical adisplay of the rolling mean value recorded at each position"
   ]
  },
  {
   "cell_type": "code",
   "execution_count": 17,
   "metadata": {},
   "outputs": [
    {
     "data": {
      "image/png": "[encoded data removed]",
      "text/plain": [
       "<Figure size 432x216 with 1 Axes>"
      ]
     },
     "metadata": {},
     "output_type": "display_data"
    }
   ],
   "source": [
    "plt.figure(figsize=(6,3))\n",
    "# Title\n",
    "plt.title('RSSI Rolling Mean Probability Distribution')\n",
    "# The KDE plot for the Rolling Mean column\n",
    "sns.distplot(dataset['rolling_mean_rssi'])\n",
    "# The X Label\n",
    "plt.xlabel('RSSI (dB)')\n",
    "# The Y Label\n",
    "plt.ylabel('Probability')\n",
    "# Show the plot\n",
    "plt.show()"
   ]
  },
  {
   "cell_type": "markdown",
   "metadata": {},
   "source": [
    "### Graphical Display of RSSI/Rolling Mean Distribution\n",
    "Graphical display of the previous measures - rssi and rolling mean"
   ]
  },
  {
   "cell_type": "code",
   "execution_count": 18,
   "metadata": {},
   "outputs": [
    {
     "data": {
      "image/png": "[encoded data removed]",
      "text/plain": [
       "<Figure size 432x216 with 1 Axes>"
      ]
     },
     "metadata": {},
     "output_type": "display_data"
    }
   ],
   "source": [
    "plt.figure(figsize=(6,3))\n",
    "# Title\n",
    "plt.title('RSSI Probability Distribution')\n",
    "# The KDE plot for the RSSI column\n",
    "sns.kdeplot(dataset['rssi_Value'], label='RSSI')\n",
    "# The KDE plot for the Rolling Mean column\n",
    "sns.kdeplot(dataset['rolling_mean_rssi'], label='Rolling Mean RSSI')\n",
    "# The X Label\n",
    "plt.xlabel('RSSI (dB)')\n",
    "# The Y Label\n",
    "plt.ylabel('Probability')\n",
    "# Show the plot\n",
    "plt.show()"
   ]
  },
  {
   "cell_type": "markdown",
   "metadata": {},
   "source": [
    "### Correlations\n",
    "Check how much each attribute collerates with each other. Valures frange from -1 to 1. Close to 1 means a strong positive correlation."
   ]
  },
  {
   "cell_type": "code",
   "execution_count": 19,
   "metadata": {},
   "outputs": [],
   "source": [
    "def compute_correlations(dataset):\n",
    "    corr_matrix = dataset.corr()\n",
    "    display(corr_matrix)\n",
    "    display(corr_matrix['distance'].sort_values(ascending=False))\n",
    "    attributes = [\"distance\",\"rssi_Value\", \"rolling_mean_rssi\"]\n",
    "    scatter_matrix(dataset[attributes], figsize=(12, 8))"
   ]
  },
  {
   "cell_type": "code",
   "execution_count": 20,
   "metadata": {},
   "outputs": [
    {
     "data": {
      "text/html": [
       "<div>\n",
       "<style scoped>\n",
       "    .dataframe tbody tr th:only-of-type {\n",
       "        vertical-align: middle;\n",
       "    }\n",
       "\n",
       "    .dataframe tbody tr th {\n",
       "        vertical-align: top;\n",
       "    }\n",
       "\n",
       "    .dataframe thead th {\n",
       "        text-align: right;\n",
       "    }\n",
       "</style>\n",
       "<table border=\"1\" class=\"dataframe\">\n",
       "  <thead>\n",
       "    <tr style=\"text-align: right;\">\n",
       "      <th></th>\n",
       "      <th>coordinate_X</th>\n",
       "      <th>coordinate_Y</th>\n",
       "      <th>rssi_Value</th>\n",
       "      <th>rolling_mean_rssi</th>\n",
       "      <th>distance</th>\n",
       "    </tr>\n",
       "  </thead>\n",
       "  <tbody>\n",
       "    <tr>\n",
       "      <th>coordinate_X</th>\n",
       "      <td>NaN</td>\n",
       "      <td>NaN</td>\n",
       "      <td>NaN</td>\n",
       "      <td>NaN</td>\n",
       "      <td>NaN</td>\n",
       "    </tr>\n",
       "    <tr>\n",
       "      <th>coordinate_Y</th>\n",
       "      <td>NaN</td>\n",
       "      <td>1.000000</td>\n",
       "      <td>-0.864615</td>\n",
       "      <td>-0.873980</td>\n",
       "      <td>1.000000</td>\n",
       "    </tr>\n",
       "    <tr>\n",
       "      <th>rssi_Value</th>\n",
       "      <td>NaN</td>\n",
       "      <td>-0.864615</td>\n",
       "      <td>1.000000</td>\n",
       "      <td>0.981441</td>\n",
       "      <td>-0.864615</td>\n",
       "    </tr>\n",
       "    <tr>\n",
       "      <th>rolling_mean_rssi</th>\n",
       "      <td>NaN</td>\n",
       "      <td>-0.873980</td>\n",
       "      <td>0.981441</td>\n",
       "      <td>1.000000</td>\n",
       "      <td>-0.873980</td>\n",
       "    </tr>\n",
       "    <tr>\n",
       "      <th>distance</th>\n",
       "      <td>NaN</td>\n",
       "      <td>1.000000</td>\n",
       "      <td>-0.864615</td>\n",
       "      <td>-0.873980</td>\n",
       "      <td>1.000000</td>\n",
       "    </tr>\n",
       "  </tbody>\n",
       "</table>\n",
       "</div>"
      ],
      "text/plain": [
       "                   coordinate_X  coordinate_Y  rssi_Value  rolling_mean_rssi  \\\n",
       "coordinate_X                NaN           NaN         NaN                NaN   \n",
       "coordinate_Y                NaN      1.000000   -0.864615          -0.873980   \n",
       "rssi_Value                  NaN     -0.864615    1.000000           0.981441   \n",
       "rolling_mean_rssi           NaN     -0.873980    0.981441           1.000000   \n",
       "distance                    NaN      1.000000   -0.864615          -0.873980   \n",
       "\n",
       "                   distance  \n",
       "coordinate_X            NaN  \n",
       "coordinate_Y       1.000000  \n",
       "rssi_Value        -0.864615  \n",
       "rolling_mean_rssi -0.873980  \n",
       "distance           1.000000  "
      ]
     },
     "metadata": {},
     "output_type": "display_data"
    },
    {
     "data": {
      "text/plain": [
       "distance             1.000000\n",
       "coordinate_Y         1.000000\n",
       "rssi_Value          -0.864615\n",
       "rolling_mean_rssi   -0.873980\n",
       "coordinate_X              NaN\n",
       "Name: distance, dtype: float64"
      ]
     },
     "metadata": {},
     "output_type": "display_data"
    },
    {
     "data": {
      "image/png": "[encoded data removed]",
      "text/plain": [
       "<Figure size 864x576 with 9 Axes>"
      ]
     },
     "metadata": {},
     "output_type": "display_data"
    }
   ],
   "source": [
    "compute_correlations(dataset)"
   ]
  },
  {
   "cell_type": "markdown",
   "metadata": {},
   "source": [
    "### Data Cleaning\n",
    "Fill in missing values and fix/remove outliers"
   ]
  },
  {
   "cell_type": "code",
   "execution_count": 21,
   "metadata": {},
   "outputs": [],
   "source": [
    "def compute_data_cleaning(dataset,feature):\n",
    "    nan_filler = dataset[feature].min()*1.010\n",
    "    dataset[feature] = dataset[feature].fillna(nan_filler) # Fill missing values"
   ]
  },
  {
   "cell_type": "code",
   "execution_count": 22,
   "metadata": {},
   "outputs": [],
   "source": [
    "compute_data_cleaning(dataset,'rssi_Value')\n",
    "compute_data_cleaning(dataset,'rolling_mean_rssi')\n",
    "compute_data_cleaning(test_dataset,'rssi_Value')\n",
    "compute_data_cleaning(test_dataset,'rolling_mean_rssi')\n",
    "compute_data_cleaning(test_dataset_my_device,'rssi_Value')\n",
    "compute_data_cleaning(test_dataset_my_device,'rolling_mean_rssi')"
   ]
  },
  {
   "cell_type": "markdown",
   "metadata": {},
   "source": [
    "### Dealing with Categorical Data\n",
    "Using Hot-Encoder or Label Encoder to convert text/categorical data into numerical data. ML algorithms prefer it"
   ]
  },
  {
   "cell_type": "code",
   "execution_count": 23,
   "metadata": {},
   "outputs": [],
   "source": [
    "label_encoder = LabelEncoder()\n",
    "def compute_encoder(categorical_data,flag):\n",
    "    if flag == 0:\n",
    "        labels = label_encoder.fit_transform(categorical_data)\n",
    "    else:\n",
    "        labels = label_encoder.transform(categorical_data)\n",
    "    return labels"
   ]
  },
  {
   "cell_type": "code",
   "execution_count": 24,
   "metadata": {},
   "outputs": [
    {
     "name": "stdout",
     "output_type": "stream",
     "text": [
      "Previous Categorical Data\n"
     ]
    },
    {
     "data": {
      "text/html": [
       "<div>\n",
       "<style scoped>\n",
       "    .dataframe tbody tr th:only-of-type {\n",
       "        vertical-align: middle;\n",
       "    }\n",
       "\n",
       "    .dataframe tbody tr th {\n",
       "        vertical-align: top;\n",
       "    }\n",
       "\n",
       "    .dataframe thead th {\n",
       "        text-align: right;\n",
       "    }\n",
       "</style>\n",
       "<table border=\"1\" class=\"dataframe\">\n",
       "  <thead>\n",
       "    <tr style=\"text-align: right;\">\n",
       "      <th></th>\n",
       "      <th>zone</th>\n",
       "    </tr>\n",
       "  </thead>\n",
       "  <tbody>\n",
       "    <tr>\n",
       "      <th>0</th>\n",
       "      <td>0-1 meters</td>\n",
       "    </tr>\n",
       "    <tr>\n",
       "      <th>1</th>\n",
       "      <td>0-1 meters</td>\n",
       "    </tr>\n",
       "    <tr>\n",
       "      <th>2</th>\n",
       "      <td>0-1 meters</td>\n",
       "    </tr>\n",
       "    <tr>\n",
       "      <th>3</th>\n",
       "      <td>0-1 meters</td>\n",
       "    </tr>\n",
       "    <tr>\n",
       "      <th>4</th>\n",
       "      <td>0-1 meters</td>\n",
       "    </tr>\n",
       "    <tr>\n",
       "      <th>...</th>\n",
       "      <td>...</td>\n",
       "    </tr>\n",
       "    <tr>\n",
       "      <th>12470</th>\n",
       "      <td>3-4 meters</td>\n",
       "    </tr>\n",
       "    <tr>\n",
       "      <th>12471</th>\n",
       "      <td>3-4 meters</td>\n",
       "    </tr>\n",
       "    <tr>\n",
       "      <th>12472</th>\n",
       "      <td>3-4 meters</td>\n",
       "    </tr>\n",
       "    <tr>\n",
       "      <th>12473</th>\n",
       "      <td>3-4 meters</td>\n",
       "    </tr>\n",
       "    <tr>\n",
       "      <th>12474</th>\n",
       "      <td>3-4 meters</td>\n",
       "    </tr>\n",
       "  </tbody>\n",
       "</table>\n",
       "<p>12475 rows × 1 columns</p>\n",
       "</div>"
      ],
      "text/plain": [
       "             zone\n",
       "0      0-1 meters\n",
       "1      0-1 meters\n",
       "2      0-1 meters\n",
       "3      0-1 meters\n",
       "4      0-1 meters\n",
       "...           ...\n",
       "12470  3-4 meters\n",
       "12471  3-4 meters\n",
       "12472  3-4 meters\n",
       "12473  3-4 meters\n",
       "12474  3-4 meters\n",
       "\n",
       "[12475 rows x 1 columns]"
      ]
     },
     "metadata": {},
     "output_type": "display_data"
    },
    {
     "ename": "NameError",
     "evalue": "name 'commpute_encoder' is not defined",
     "output_type": "error",
     "traceback": [
      "\u001b[1;31m---------------------------------------------------------------------------\u001b[0m",
      "\u001b[1;31mNameError\u001b[0m                                 Traceback (most recent call last)",
      "\u001b[1;32m<ipython-input-24-532264e8a218>\u001b[0m in \u001b[0;36m<module>\u001b[1;34m\u001b[0m\n\u001b[0;32m      2\u001b[0m \u001b[0mprint\u001b[0m\u001b[1;33m(\u001b[0m\u001b[1;34m\"Previous Categorical Data\"\u001b[0m\u001b[1;33m)\u001b[0m\u001b[1;33m\u001b[0m\u001b[1;33m\u001b[0m\u001b[0m\n\u001b[0;32m      3\u001b[0m \u001b[0mdisplay\u001b[0m\u001b[1;33m(\u001b[0m\u001b[0mcategorical_zone\u001b[0m\u001b[1;33m)\u001b[0m\u001b[1;33m\u001b[0m\u001b[1;33m\u001b[0m\u001b[0m\n\u001b[1;32m----> 4\u001b[1;33m \u001b[0mzone_changed\u001b[0m \u001b[1;33m=\u001b[0m \u001b[0mcommpute_encoder\u001b[0m\u001b[1;33m(\u001b[0m\u001b[0mcategorical_zone\u001b[0m\u001b[1;33m,\u001b[0m\u001b[1;36m0\u001b[0m\u001b[1;33m)\u001b[0m\u001b[1;33m\u001b[0m\u001b[1;33m\u001b[0m\u001b[0m\n\u001b[0m\u001b[0;32m      5\u001b[0m \u001b[0mprint\u001b[0m\u001b[1;33m(\u001b[0m\u001b[1;34m\"After One Hot Encoder\"\u001b[0m\u001b[1;33m)\u001b[0m\u001b[1;33m\u001b[0m\u001b[1;33m\u001b[0m\u001b[0m\n\u001b[0;32m      6\u001b[0m \u001b[0mdataset\u001b[0m\u001b[1;33m[\u001b[0m\u001b[1;34m'labels'\u001b[0m\u001b[1;33m]\u001b[0m \u001b[1;33m=\u001b[0m \u001b[0mzone_changed\u001b[0m\u001b[1;33m\u001b[0m\u001b[1;33m\u001b[0m\u001b[0m\n",
      "\u001b[1;31mNameError\u001b[0m: name 'commpute_encoder' is not defined"
     ]
    }
   ],
   "source": [
    "categorical_zone = dataset[['zone']]\n",
    "print(\"Previous Categorical Data\")\n",
    "display(categorical_zone)\n",
    "zone_changed = compute_encoder(categorical_zone,0)\n",
    "print(\"After One Hot Encoder\")\n",
    "dataset['labels'] = zone_changed\n",
    "train_Y = dataset['labels'].values.reshape(-1,1)\n",
    "display(train_Y)"
   ]
  },
  {
   "cell_type": "code",
   "execution_count": null,
   "metadata": {},
   "outputs": [],
   "source": []
  },
  {
   "cell_type": "markdown",
   "metadata": {},
   "source": [
    "### Initialize Training Data\n",
    "Training Data intialization for predictions purposes"
   ]
  },
  {
   "cell_type": "code",
   "execution_count": null,
   "metadata": {},
   "outputs": [],
   "source": [
    "train_X_rssi = pd.DataFrame(dataset['rssi_Value']).values.reshape(-1,1)\n",
    "train_X_rolling_mean = pd.DataFrame(dataset['rolling_mean_rssi']).values.reshape(-1,1)\n",
    "train_Y = pd.DataFrame(dataset['zone']).values.reshape(-1,1)\n",
    "combination_features_X = dataset[['rssi_Value','rolling_mean_rssi']]\n",
    "default_groups = dataset['zone'].map(str)\n",
    "data_plot_means = dataset.groupby(['zone'])[['rssi_Value','rolling_mean_rssi']].mean()\n",
    "display(data_plot_means)"
   ]
  },
  {
   "cell_type": "markdown",
   "metadata": {},
   "source": [
    "### Initialize Hyperparameters for tunning"
   ]
  },
  {
   "cell_type": "code",
   "execution_count": null,
   "metadata": {},
   "outputs": [],
   "source": [
    "#Preprocessing options\n",
    "scaler = [StandardScaler(),MaxAbsScaler(),MinMaxScaler(),None]\n",
    "# Number of trees in random forest\n",
    "initial_linespace = [int(x) for x in np.linspace(start = 200, stop = 2000, num = 10)] \n",
    "n_estimators = [10,100] + initial_linespace\n",
    "# Criterion to consider at every split\n",
    "criterion_metric = ['gini','entropy']\n",
    "# Number of features to consider at every split\n",
    "max_features = ['auto', 'sqrt','log2']\n",
    "# Maximum number of levels in tree\n",
    "max_depth = [int(x) for x in np.linspace(10, 110, num = 11)]\n",
    "max_depth.append(None)\n",
    "# Minimum number of samples required to split a node\n",
    "min_samples_split = [2, 5, 10]\n",
    "# Minimum number of samples required at each leaf node\n",
    "min_samples_leaf = [1, 2, 4]\n",
    "# Method of selecting samples for training each tree\n",
    "bootstrap = [True, False]\n",
    "# Create the random grid\n",
    "random_grid = {'rf__n_estimators': n_estimators,\n",
    "               'rf__criterion': criterion_metric,\n",
    "               'rf__max_features': max_features,\n",
    "               'rf__max_depth': max_depth,\n",
    "               'rf__min_samples_split': min_samples_split,\n",
    "               'rf__min_samples_leaf': min_samples_leaf,\n",
    "               'rf__bootstrap': bootstrap}\n",
    "print(random_grid)"
   ]
  },
  {
   "cell_type": "markdown",
   "metadata": {},
   "source": [
    "### Plot Training Data\n",
    "Graphical Display of the observations in the dataset"
   ]
  },
  {
   "cell_type": "code",
   "execution_count": null,
   "metadata": {},
   "outputs": [],
   "source": [
    "plt.figure(figsize=(14,5))\n",
    "plt.scatter(dataset['zone'],dataset['rssi_Value'],label='RSSI Value',color='blue')\n",
    "plt.scatter(dataset['zone'],dataset['rolling_mean_rssi'],label='Rolling Mean RSSI Value',color='orange')\n",
    "plt.title('Observations')  \n",
    "plt.xlabel('Zone')  \n",
    "plt.ylabel('RSSI(dB)')  \n",
    "plt.legend(loc='upper right');\n",
    "plt.show()"
   ]
  },
  {
   "cell_type": "markdown",
   "metadata": {},
   "source": [
    "### Statistics Output Format\n",
    "Structure of the statistical output of each call to the machine learning algorithm"
   ]
  },
  {
   "cell_type": "code",
   "execution_count": null,
   "metadata": {},
   "outputs": [],
   "source": [
    "def structure_data(data,precision,accuracy,f1score):\n",
    "    mae = data['error'].abs().mean()\n",
    "    mse = np.power(data['error'],2).mean()\n",
    "    rsme = np.sqrt(mse)\n",
    "    precision = precision\n",
    "    accuracy = accuracy\n",
    "    f1score = f1score\n",
    "    statistical_results = [mae,mse,rsme,precision,accuracy,f1score]\n",
    "    return statistical_results"
   ]
  },
  {
   "cell_type": "markdown",
   "metadata": {},
   "source": [
    "### Random Forest Classifier Experiments\n",
    "Experiments with RF algorithm"
   ]
  },
  {
   "cell_type": "code",
   "execution_count": null,
   "metadata": {},
   "outputs": [],
   "source": [
    "def compute_RF_Classification(flag=0,colors=None,\n",
    "                              trainX_data = None,fold=None, trainY_data = None,\n",
    "                              testX_data = None,testY_data = None, \n",
    "                              scaler = None,cross_validation = None,\n",
    "                              n_estimators_parameter = 100, criterion_parameter = 'gini',\n",
    "                              max_depth_parameter = None,min_samples_split_parameter = 2,\n",
    "                              min_samples_leaf_parameter = 1,max_features_parameter = 'auto',\n",
    "                              bootstrap_parameter = True, random_state_parameter = 6):\n",
    "    random_forest_estimator = RandomForestClassifier(n_estimators=n_estimators_parameter,criterion=criterion_parameter,\n",
    "                                                    max_features=max_features_parameter,max_depth=max_depth_parameter,\n",
    "                                                    min_samples_leaf=min_samples_leaf_parameter,min_samples_split=min_samples_split_parameter,\n",
    "                                                    bootstrap=bootstrap_parameter,random_state=random_state_parameter)\n",
    "    if scaler is not None:\n",
    "        # Make pipeline using scaler transformation\n",
    "        main_estimator = make_pipeline(scaler,random_forest_estimator)\n",
    "    else:\n",
    "        main_estimator = random_forest_estimator\n",
    "    if cross_validation is None:\n",
    "        # Fit the training data\n",
    "        main_estimator.fit(trainX_data,trainY_data)\n",
    "        # Predict the results of the testing data features\n",
    "        predict_test = main_estimator.predict(testX_data)\n",
    "        matrix = confusion_matrix(testY_data, predict_test)\n",
    "        report = classification_report(testY_data, predict_test,output_dict=True)\n",
    "        accuracy = accuracy_score(testY_data,predict_test)\n",
    "    else:\n",
    "        main_estimator.fit(testX_data,testY_data)\n",
    "        predict_test = cross_val_predict(main_estimator,testX_data,testY_data,cv = cross_validation,groups=default_groups)\n",
    "        matrix = confusion_matrix(testY_data, predict_test)\n",
    "        report = classification_report(testY_data, predict_test,output_dict=True)\n",
    "        accuracy = accuracy_score(testY_data,predict_test)\n",
    "    statistical_array = list()\n",
    "    statistics = pd.DataFrame(report).transpose()\n",
    "    error_dataframe = pd.DataFrame({'Actual': testY_data.flatten(), 'Predicted':predict_test.flatten()})\n",
    "    if flag == 1:\n",
    "        print(\"Confusion Matrix:\")\n",
    "        print(matrix)\n",
    "        display(statistics)\n",
    "        display(error_dataframe)\n",
    "        error_dataframe.apply(pd.value_counts).plot(kind='bar', subplots=True)\n",
    "        plt.figure(figsize=(12,6))\n",
    "        plt.scatter(dataset['zone'],dataset['rssi_Value'],label='RSSI Value',color='blue')\n",
    "        plt.scatter(dataset['zone'],dataset['rolling_mean_rssi'],label='Rolling Mean RSSI Value',color='orange')\n",
    "        if colors is not None:\n",
    "            plt.plot(predict_test, testX_data,'s',color=colors,label='RF Classification' + ' CV : ' +str(fold))\n",
    "        else:\n",
    "            plt.plot(predict_test, testX_data,'s',color='red',label='RF Classification')\n",
    "        # Show and place the legent\n",
    "        plt.legend(loc='upper right')\n",
    "        plt.show()\n",
    "    if flag == 2:\n",
    "        print(\"Feature Selection Computation\")\n",
    "        display(random_forest_estimator.feature_importances_)\n",
    "        feature_imp = pd.Series(random_forest_estimator.feature_importances_,index=trainX_data.columns).sort_values(ascending=False)\n",
    "        display(feature_imp)\n",
    "        # Creating a bar plot\n",
    "        sns.barplot(x=feature_imp, y=feature_imp.index)\n",
    "        # Add labels to your graph\n",
    "        plt.xlabel('Feature Importance Score')\n",
    "        plt.ylabel('Features')\n",
    "        plt.title(\"Visualizing Important Features\")\n",
    "        plt.show()\n",
    "    display('Number of Classes Predicted: ' + str(random_forest_estimator.n_classes_))\n",
    "    display('Number of Features Used: ' + str(random_forest_estimator.n_features_))\n",
    "    error = pd.DataFrame(np.where(error_dataframe['Actual'] != error_dataframe['Predicted'],1,0), columns=[\"error\"])\n",
    "    result = pd.DataFrame(train_Y,columns=[\"zone\"]).join(error)\n",
    "    return structure_data(result,statistics['precision'].mean(),accuracy,statistics['f1-score'].mean())"
   ]
  },
  {
   "cell_type": "markdown",
   "metadata": {},
   "source": [
    "#### Feature Selection & OverFitting Scenario"
   ]
  },
  {
   "cell_type": "code",
   "execution_count": null,
   "metadata": {},
   "outputs": [],
   "source": [
    "statistical_cols = ['mae','mse','rmse','precision','accuracy','f1-score']\n",
    "result = compute_RF_Classification(flag=2,trainX_data=combination_features_X,trainY_data=train_Y.ravel(),\n",
    "                                   testX_data=combination_features_X,testY_data=train_Y.ravel(),\n",
    "                                   scaler=StandardScaler())\n",
    "statistical_results = [result]\n",
    "statistics = pd.DataFrame(columns=statistical_cols,data=statistical_results)\n",
    "display(statistics)"
   ]
  },
  {
   "cell_type": "markdown",
   "metadata": {},
   "source": [
    "#### 1st Experiment - Check Overfitting scenario (Without Testing Data) Using RSSI\n",
    "Use Random Forest to check the results on the training data alone"
   ]
  },
  {
   "cell_type": "code",
   "execution_count": null,
   "metadata": {},
   "outputs": [],
   "source": [
    "statistical_cols = ['mae','mse','rmse','precision','accuracy','f1-score']\n",
    "result = compute_RF_Classification(flag=1,trainX_data=train_X_rssi,trainY_data=train_Y.ravel(),\n",
    "                                   testX_data=train_X_rssi,testY_data=train_Y.ravel(),\n",
    "                                   scaler=StandardScaler())\n",
    "statistical_results = [result]\n",
    "statistics = pd.DataFrame(columns=statistical_cols,data=statistical_results)\n",
    "display(statistics)"
   ]
  },
  {
   "cell_type": "markdown",
   "metadata": {},
   "source": [
    "#### 2nd Experiment - Check Overfitting scenario (Without Testing Data) Using Rolling Mean\n",
    "Use Random Forest to check the results on the training data alone"
   ]
  },
  {
   "cell_type": "code",
   "execution_count": null,
   "metadata": {},
   "outputs": [],
   "source": [
    "statistical_cols = ['mae','mse','rmse','precision','accuracy','f1-score']\n",
    "result = compute_RF_Classification(flag=1,trainX_data=train_X_rolling_mean,trainY_data=train_Y.ravel(),\n",
    "                                   testX_data=train_X_rolling_mean,testY_data=train_Y.ravel(),\n",
    "                                   scaler=StandardScaler())\n",
    "statistical_results = [result]\n",
    "statistics = pd.DataFrame(columns=statistical_cols,data=statistical_results)\n",
    "display(statistics)"
   ]
  },
  {
   "cell_type": "markdown",
   "metadata": {},
   "source": [
    "#### 3rd Experiment - Random Forest with StratifiedKFold (RSSI pure)\n",
    "Experiment using cross validation approach of StratifiedKFold"
   ]
  },
  {
   "cell_type": "code",
   "execution_count": null,
   "metadata": {},
   "outputs": [],
   "source": [
    "statistical_cols = ['mae','mse','rmse','precision','accuracy','f1-score']\n",
    "cross_validation_list = np.arange(2,6)\n",
    "colors = ['red','blue','yellow','green']\n",
    "counter = 0\n",
    "results = list()\n",
    "for cv in cross_validation_list:\n",
    "    result = compute_RF_Classification(flag = 1,colors=colors[counter],fold=cv,testX_data=train_X_rssi,testY_data=train_Y.ravel(),scaler=StandardScaler(),cross_validation = cv)  \n",
    "    result.append(cv)\n",
    "    results.append(result)\n",
    "    counter = counter + 1\n",
    "statistical_cols.append('folds')\n",
    "statistics = pd.DataFrame(columns=statistical_cols,data=results)\n",
    "display(statistics.sort_values(by=['mae']))\n",
    "plt.plot(statistics['folds'],statistics['mae'])\n",
    "selected_fold = statistics.sort_values(by=['mae'])['folds'].head(1).values[0]\n",
    "print(\"Number of Folds: \",selected_fold)"
   ]
  },
  {
   "cell_type": "markdown",
   "metadata": {},
   "source": [
    "#### 4th Experiment - Random Forest with StratifiedKFold (Rolling Mean)\n",
    "Experiment using cross validation approach of StratifiedKFold"
   ]
  },
  {
   "cell_type": "code",
   "execution_count": null,
   "metadata": {},
   "outputs": [],
   "source": [
    "statistical_cols = ['mae','mse','rmse','precision','accuracy','f1-score']\n",
    "cross_validation_list = np.arange(2,6)\n",
    "colors = ['red','blue','yellow','green']\n",
    "counter = 0\n",
    "results = list()\n",
    "for cv in cross_validation_list:\n",
    "    result = compute_RF_Classification(flag = 1,colors=colors[counter],fold=cv,testX_data=train_X_rolling_mean,testY_data=train_Y.ravel(),scaler=StandardScaler(),cross_validation = cv)  \n",
    "    result.append(cv)\n",
    "    results.append(result)\n",
    "    counter = counter + 1\n",
    "statistical_cols.append('folds')\n",
    "statistics = pd.DataFrame(columns=statistical_cols,data=results)\n",
    "display(statistics.sort_values(by=['mae']))\n",
    "plt.plot(statistics['folds'],statistics['mae'])\n",
    "selected_fold = statistics.sort_values(by=['mae'])['folds'].head(1).values[0]\n",
    "print(\"Number of Folds: \",selected_fold)"
   ]
  },
  {
   "cell_type": "markdown",
   "metadata": {},
   "source": [
    "#### Combination of Features - Stratified KFold Experiment"
   ]
  },
  {
   "cell_type": "code",
   "execution_count": null,
   "metadata": {},
   "outputs": [],
   "source": [
    "statistical_cols = ['mae','mse','rmse','precision','accuracy','f1-score']\n",
    "cross_validation_list = np.arange(2,6)\n",
    "colors = ['red','blue','yellow','green']\n",
    "counter = 0\n",
    "results = list()\n",
    "for cv in cross_validation_list:\n",
    "    result = compute_RF_Classification(flag = 1,colors=colors[counter],fold=cv,testX_data=combination_features_X,testY_data=train_Y.ravel(),scaler=StandardScaler(),cross_validation = cv)  \n",
    "    result.append(cv)\n",
    "    results.append(result)\n",
    "    counter = counter + 1\n",
    "statistical_cols.append('folds')\n",
    "statistics = pd.DataFrame(columns=statistical_cols,data=results)\n",
    "display(statistics.sort_values(by=['mae']))\n",
    "plt.plot(statistics['folds'],statistics['mae'])\n",
    "selected_fold = statistics.sort_values(by=['mae'])['folds'].head(1).values[0]\n",
    "print(\"Number of Folds: \",selected_fold)"
   ]
  },
  {
   "cell_type": "markdown",
   "metadata": {},
   "source": [
    "#### 5th Experiment - Random Forest with HoldOut (RSSI pure)\n",
    "Experiment using cross validation approach of HoldOut (Train test split)"
   ]
  },
  {
   "cell_type": "code",
   "execution_count": null,
   "metadata": {},
   "outputs": [],
   "source": [
    "statistical_cols = ['mae','mse','rmse','precision','accuracy','f1-score']\n",
    "test_sizes =[0.1,0.2,0.3,0.4,0.5,0.6,0.7,0.8,0.9]\n",
    "results = list()\n",
    "for size in test_sizes:\n",
    "    X_train_split, X_test_split, y_train_split, y_test_split = train_test_split(train_X_rssi,train_Y.ravel(), test_size = size, random_state = 6,stratify=default_groups)\n",
    "    result = compute_RF_Classification(trainX_data=X_train_split,trainY_data=y_train_split,testX_data=X_test_split,testY_data=y_test_split,scaler=StandardScaler())\n",
    "    result.append(size)\n",
    "    results.append(result)\n",
    "statistical_cols.append('test_size')\n",
    "statistics = pd.DataFrame(columns=statistical_cols,data=results)\n",
    "display(statistics.sort_values(by=['f1-score'],ascending=False))\n",
    "plt.plot(statistics['test_size'],statistics['f1-score'])"
   ]
  },
  {
   "cell_type": "markdown",
   "metadata": {},
   "source": [
    "#### 6th Experiment - Random Forest with HoldOut (Rolling Mean)\n",
    "Experiment using cross validation approach of HoldOut (Train test split)"
   ]
  },
  {
   "cell_type": "code",
   "execution_count": null,
   "metadata": {},
   "outputs": [],
   "source": [
    "statistical_cols = ['mae','mse','rmse','precision','accuracy','f1-score']\n",
    "test_sizes =[0.1,0.2,0.3,0.4,0.5,0.6,0.7,0.8,0.9]\n",
    "results = list()\n",
    "for size in test_sizes:\n",
    "    X_train_split, X_test_split, y_train_split, y_test_split = train_test_split(train_X_rolling_mean,train_Y.ravel(), test_size = size, random_state = 6,stratify=default_groups)\n",
    "    result = compute_RF_Classification(trainX_data=X_train_split,trainY_data=y_train_split,testX_data=X_test_split,testY_data=y_test_split,scaler=StandardScaler())\n",
    "    result.append(size)\n",
    "    results.append(result)\n",
    "statistical_cols.append('test_size')\n",
    "statistics = pd.DataFrame(columns=statistical_cols,data=results)\n",
    "display(statistics.sort_values(by=['f1-score'],ascending=False))\n",
    "plt.plot(statistics['test_size'],statistics['f1-score'])"
   ]
  },
  {
   "cell_type": "markdown",
   "metadata": {},
   "source": [
    "#### Combination of Features - HoldOut Experiment"
   ]
  },
  {
   "cell_type": "code",
   "execution_count": null,
   "metadata": {},
   "outputs": [],
   "source": [
    "statistical_cols = ['mae','mse','rmse','precision','accuracy','f1-score']\n",
    "test_sizes =[0.1,0.2,0.3,0.4,0.5,0.6,0.7,0.8,0.9]\n",
    "results = list()\n",
    "for size in test_sizes:\n",
    "    X_train_split, X_test_split, y_train_split, y_test_split = train_test_split(combination_features_X,train_Y.ravel(), test_size = size, random_state = 6,stratify=default_groups)\n",
    "    result = compute_RF_Classification(trainX_data=X_train_split,trainY_data=y_train_split,testX_data=X_test_split,testY_data=y_test_split,scaler=StandardScaler())\n",
    "    result.append(size)\n",
    "    results.append(result)\n",
    "statistical_cols.append('test_size')\n",
    "statistics = pd.DataFrame(columns=statistical_cols,data=results)\n",
    "display(statistics.sort_values(by=['f1-score'],ascending=False))\n",
    "plt.plot(statistics['test_size'],statistics['f1-score'])"
   ]
  },
  {
   "cell_type": "markdown",
   "metadata": {},
   "source": [
    "#### 7th Experiment - Random Forest with LOGO (RSSI)\n",
    "Experiment using cross validation approach of Leave One Group Out"
   ]
  },
  {
   "cell_type": "code",
   "execution_count": null,
   "metadata": {},
   "outputs": [],
   "source": [
    "statistical_cols = ['mae','mse','rmse','precision','accuracy','f1-score']\n",
    "results = list()\n",
    "cv = LeaveOneGroupOut()\n",
    "splited = cv.split(train_X_rssi,train_Y.ravel(),groups=default_groups)\n",
    "loo = compute_RF_Classification(testX_data=train_X_rssi,testY_data=train_Y.ravel(),scaler=StandardScaler(),cross_validation = splited)  \n",
    "results.append(loo)\n",
    "statistics = pd.DataFrame(columns=statistical_cols,data=results)\n",
    "display(statistics.sort_values(by=['mae']))"
   ]
  },
  {
   "cell_type": "markdown",
   "metadata": {},
   "source": [
    "#### 8th Experiment - Random Forest with LOGO (Rolling Mean)\n",
    "Experiment using cross validation approach of Leave One Group Out"
   ]
  },
  {
   "cell_type": "code",
   "execution_count": null,
   "metadata": {},
   "outputs": [],
   "source": [
    "statistical_cols = ['mae','mse','rmse','precision','accuracy','f1-score']\n",
    "results = list()\n",
    "cv = LeaveOneGroupOut()\n",
    "splited = cv.split(train_X_rolling_mean,train_Y.ravel(),groups=default_groups)\n",
    "loo = compute_RF_Classification(testX_data=train_X_rolling_mean,testY_data=train_Y.ravel(),scaler=StandardScaler(),cross_validation = splited)  \n",
    "results.append(loo)\n",
    "statistics = pd.DataFrame(columns=statistical_cols,data=results)\n",
    "display(statistics.sort_values(by=['mae']))"
   ]
  },
  {
   "cell_type": "markdown",
   "metadata": {},
   "source": [
    "#### Combination of Features - LOGO Experiment"
   ]
  },
  {
   "cell_type": "code",
   "execution_count": null,
   "metadata": {},
   "outputs": [],
   "source": [
    "statistical_cols = ['mae','mse','rmse','precision','accuracy','f1-score']\n",
    "results = list()\n",
    "cv = LeaveOneGroupOut()\n",
    "splited = cv.split(combination_features_X,train_Y.ravel(),groups=default_groups)\n",
    "loo = compute_RF_Classification(testX_data=combination_features_X,testY_data=train_Y.ravel(),scaler=StandardScaler(),cross_validation = splited)  \n",
    "results.append(loo)\n",
    "statistics = pd.DataFrame(columns=statistical_cols,data=results)\n",
    "display(statistics.sort_values(by=['mae']))"
   ]
  },
  {
   "cell_type": "markdown",
   "metadata": {},
   "source": [
    "#### 9th Experiment - Best cross-validation technique\n",
    "Best parameters found using RF"
   ]
  },
  {
   "cell_type": "code",
   "execution_count": null,
   "metadata": {},
   "outputs": [],
   "source": [
    "statistical_cols = ['mae','mse','rmse','precision','accuracy','f1-score','method','type']\n",
    "types = ['RSSI Only','Rolling Mean RSSI','Both']\n",
    "results = list()\n",
    "for scannedType in types:\n",
    "    if scannedType == 'RSSI Only':\n",
    "        trainX_data = train_X_rssi\n",
    "    elif scannedType == 'Rolling Mean RSSI':\n",
    "        trainX_data = train_X_rolling_mean\n",
    "    else:\n",
    "        trainX_data = combination_features_X\n",
    "    X_train_split, X_test_split, y_train_split, y_test_split = train_test_split(trainX_data,train_Y.ravel(), test_size = 0.3, random_state = 6,stratify=default_groups)\n",
    "    holdout = compute_RF_Classification(trainX_data=X_train_split,trainY_data=y_train_split,testX_data=X_test_split,testY_data=y_test_split,scaler=StandardScaler())\n",
    "    cv = LeaveOneGroupOut()\n",
    "    splited = cv.split(trainX_data,train_Y.ravel(),groups=default_groups)\n",
    "    loo = compute_RF_Classification(testX_data=trainX_data,testY_data=train_Y.ravel(),scaler=StandardScaler(),cross_validation = splited)  \n",
    "    loo.append('LOO')\n",
    "    loo.append(scannedType)\n",
    "    results.append(loo)\n",
    "    holdout.append('HoldOut')\n",
    "    holdout.append(scannedType)\n",
    "    results.append(holdout)\n",
    "    skfold = compute_RF_Classification(testX_data=trainX_data,testY_data=train_Y.ravel(),scaler=StandardScaler(),cross_validation = selected_fold)\n",
    "    skfold.append('Stratified K-Fold')\n",
    "    skfold.append(scannedType)\n",
    "    results.append(skfold)\n",
    "statistics = pd.DataFrame(columns=statistical_cols,data=results)\n",
    "display(statistics.sort_values(by=['mae']))\n",
    "plt.plot(statistics['method'],statistics['mae'],'o')\n",
    "selected_method = statistics.sort_values(by=['mae'])['method'].head(1).values[0]\n",
    "print(\"Selected cross validation method: \",selected_method)"
   ]
  },
  {
   "cell_type": "markdown",
   "metadata": {},
   "source": [
    "#### 10th Experiment - Best preprocessing technique\n",
    "Experiment with the different preprocessing techniques"
   ]
  },
  {
   "cell_type": "code",
   "execution_count": null,
   "metadata": {},
   "outputs": [],
   "source": [
    "statistical_cols = ['mae','mse','rmse','precision','accuracy','f1-score','preprocessing','preprocessingFunc','type']\n",
    "types = ['RSSI Only','Rolling Mean RSSI','Both']\n",
    "results = list()\n",
    "for scannedType in types:\n",
    "    if scannedType == 'RSSI Only':\n",
    "        trainX_data = train_X_rssi\n",
    "    elif scannedType == 'Rolling Mean RSSI':\n",
    "        trainX_data = train_X_rolling_mean\n",
    "    else:\n",
    "        trainX_data = combination_features_X\n",
    "    for preprocess in scaler:\n",
    "        if selected_method == 'LOO':\n",
    "            cv = LeaveOneGroupOut()\n",
    "            splited = cv.split(trainX_data,train_Y.ravel(),groups=default_groups)\n",
    "            result = compute_RF_Classification(testX_data=trainX_data,testY_data=train_Y.ravel(),scaler=preprocess,cross_validation = splited)  \n",
    "        elif selected_method =='Stratified K-Fold':\n",
    "            result = compute_RF_Classification(testX_data=trainX_data,testY_data=train_Y.ravel(),scaler=preprocess,cross_validation = selected_fold)\n",
    "        else:\n",
    "            X_train_split, X_test_split, y_train_split, y_test_split = train_test_split(trainX_data,train_Y.ravel(), test_size = 0.3, random_state = 6,stratify=default_groups)\n",
    "            result = compute_RF_Classification(trainX_data=X_train_split,trainY_data=y_train_split,testX_data=X_test_split,testY_data=y_test_split,scaler=preprocess)\n",
    "        if(preprocess is None):\n",
    "            regex = 'None'\n",
    "        else:\n",
    "            regex = re.search('(\\w+)\\(',str(preprocess)).group(1)\n",
    "        result.append(regex)\n",
    "        result.append(preprocess)\n",
    "        result.append(scannedType)\n",
    "        results.append(result)\n",
    "statistics = pd.DataFrame(columns=statistical_cols,data=results)\n",
    "display(statistics.sort_values(by=['mae']))\n",
    "plt.plot(statistics['preprocessing'],statistics['mae'])\n",
    "selected_preprocessing = statistics.sort_values(by=['mae'])['preprocessing'].head(1).values[0]\n",
    "selected_preprocesssing_func = statistics.sort_values(by=['mae'])['preprocessingFunc'].head(1).values[0]\n",
    "print(\"Selected Preprocessing: \",selected_preprocessing)"
   ]
  },
  {
   "cell_type": "markdown",
   "metadata": {},
   "source": [
    "#### 11th Experiment - Running the RF function with the different number of decision trees"
   ]
  },
  {
   "cell_type": "code",
   "execution_count": null,
   "metadata": {},
   "outputs": [],
   "source": [
    "statistical_cols = ['mae','mse','rmse','precision','accuracy','f1-score','n_estimator','type']\n",
    "types = ['RSSI Only','Rolling Mean RSSI','Both']\n",
    "results = list()\n",
    "for scannedType in types:\n",
    "    if scannedType == 'RSSI Only':\n",
    "        trainX_data = train_X_rssi\n",
    "    elif scannedType == 'Rolling Mean RSSI':\n",
    "        trainX_data = train_X_rolling_mean\n",
    "    else:\n",
    "        trainX_data = combination_features_X\n",
    "    for n in n_estimators:\n",
    "        if selected_method == 'LOO':\n",
    "            cv = LeaveOneGroupOut()\n",
    "            splited = cv.split(trainX_data,train_Y.ravel(),groups=default_groups)\n",
    "            result = compute_RF_Classification(testX_data=trainX_data,testY_data=train_Y.ravel(),scaler=StandardScaler(),cross_validation = splited,\n",
    "                                n_estimators_parameter=n)  \n",
    "        elif selected_method =='Stratified K-Fold':\n",
    "            result = compute_RF_Classification(testX_data=trainX_data,testY_data=train_Y.ravel(),scaler=StandardScaler(),\n",
    "                                                 cross_validation = selected_fold,\n",
    "                                 n_estimators_parameter=n)\n",
    "        else:\n",
    "            X_train_split, X_test_split, y_train_split, y_test_split = train_test_split(trainX_data,train_Y.ravel(), test_size = 0.3, random_state = 6,stratify=default_groups)\n",
    "            result = compute_RF_Classification(trainX_data=X_train_split,trainY_data=y_train_split,testX_data=X_test_split,testY_data=y_test_split,\n",
    "                                 scaler=StandardScaler(), n_estimators_parameter=n)\n",
    "        result.append(n)\n",
    "        result.append(scannedType)\n",
    "        results.append(result)\n",
    "statistics = pd.DataFrame(columns=statistical_cols,data=results)\n",
    "display(statistics.sort_values(by=['mae']))\n",
    "plt.plot(statistics['n_estimator'],statistics['mae'])\n",
    "selected_estimator_size = statistics.sort_values(by=['mae'])['n_estimator'].head(1).values[0]\n",
    "print(\"Selected Estimator Size: \",selected_estimator_size)"
   ]
  },
  {
   "cell_type": "markdown",
   "metadata": {},
   "source": [
    "#### 12th Experiment - Running the RF function with the different criterias"
   ]
  },
  {
   "cell_type": "code",
   "execution_count": null,
   "metadata": {},
   "outputs": [],
   "source": [
    "statistical_cols = ['mae','mse','rmse','precision','accuracy','f1-score','criterion','type']\n",
    "types = ['RSSI Only','Rolling Mean RSSI','Both']\n",
    "results = list()\n",
    "for scannedType in types:\n",
    "    if scannedType == 'RSSI Only':\n",
    "        trainX_data = train_X_rssi\n",
    "    elif scannedType == 'Rolling Mean RSSI':\n",
    "        trainX_data = train_X_rolling_mean\n",
    "    else:\n",
    "        trainX_data = combination_features_X\n",
    "    for metric in criterion_metric:\n",
    "        if selected_method == 'LOO':\n",
    "            cv = LeaveOneGroupOut()\n",
    "            splited = cv.split(trainX_data,train_Y.ravel(),groups=default_groups)\n",
    "            result = compute_RF_Classification(testX_data=trainX_data,testY_data=train_Y.ravel(),scaler=StandardScaler(),cross_validation = splited,\n",
    "                                criterion_parameter=metric)  \n",
    "        elif selected_method =='Stratified K-Fold':\n",
    "            result = compute_RF_Classification(testX_data=trainX_data,testY_data=train_Y.ravel(),scaler=StandardScaler(),\n",
    "                                                 cross_validation = selected_fold,\n",
    "                                 criterion_parameter=metric)\n",
    "        else:\n",
    "            X_train_split, X_test_split, y_train_split, y_test_split = train_test_split(trainX_data,train_Y.ravel(), test_size = 0.3, random_state = 6,stratify=default_groups)\n",
    "            result = compute_RF_Classification(trainX_data=X_train_split,trainY_data=y_train_split,testX_data=X_test_split,testY_data=y_test_split,\n",
    "                                 scaler=StandardScaler(), criterion_parameter=metric)\n",
    "        result.append(metric)\n",
    "        result.append(scannedType)\n",
    "        results.append(result)\n",
    "statistics = pd.DataFrame(columns=statistical_cols,data=results)\n",
    "display(statistics.sort_values(by=['mae']))\n",
    "plt.plot(statistics['criterion'],statistics['mae'])\n",
    "selected_criterion = statistics.sort_values(by=['mae'])['criterion'].head(1).values[0]\n",
    "print(\"Selected Criterion: \",selected_criterion)"
   ]
  },
  {
   "cell_type": "markdown",
   "metadata": {},
   "source": [
    "#### 13th Experiment - Running the RF function with the different max_features "
   ]
  },
  {
   "cell_type": "code",
   "execution_count": null,
   "metadata": {},
   "outputs": [],
   "source": [
    "statistical_cols = ['mae','mse','rmse','precision','accuracy','f1-score','max_feature','type']\n",
    "types = ['RSSI Only','Rolling Mean RSSI','Both']\n",
    "results = list()\n",
    "for scannedType in types:\n",
    "    if scannedType == 'RSSI Only':\n",
    "        trainX_data = train_X_rssi\n",
    "    elif scannedType == 'Rolling Mean RSSI':\n",
    "        trainX_data = train_X_rolling_mean\n",
    "    else:\n",
    "        trainX_data = combination_features_X\n",
    "    for max_feature in max_features:\n",
    "        if selected_method == 'LOO':\n",
    "            cv = LeaveOneGroupOut()\n",
    "            splited = cv.split(trainX_data,train_Y.ravel(),groups=default_groups)\n",
    "            result = compute_RF_Classification(testX_data=trainX_data,testY_data=train_Y.ravel(),scaler=StandardScaler(),cross_validation = splited,\n",
    "                                max_features_parameter=max_feature)  \n",
    "        elif selected_method =='Stratified K-Fold':\n",
    "            result = compute_RF_Classification(testX_data=trainX_data,testY_data=train_Y.ravel(),scaler=StandardScaler(),\n",
    "                                                 cross_validation = selected_fold,\n",
    "                                 max_features_parameter=max_feature)\n",
    "        else:\n",
    "            X_train_split, X_test_split, y_train_split, y_test_split = train_test_split(trainX_data,train_Y.ravel(), test_size = 0.3, random_state = 6,stratify=default_groups)\n",
    "            result = compute_RF_Classification(trainX_data=X_train_split,trainY_data=y_train_split,testX_data=X_test_split,testY_data=y_test_split,\n",
    "                                 scaler=StandardScaler(), max_features_parameter=max_feature)\n",
    "        result.append(max_feature)\n",
    "        result.append(scannedType)\n",
    "        results.append(result)\n",
    "statistics = pd.DataFrame(columns=statistical_cols,data=results)\n",
    "display(statistics.sort_values(by=['mae']))\n",
    "plt.plot(statistics['max_feature'],statistics['mae'])\n",
    "selected_max_feature = statistics.sort_values(by=['mae'])['max_feature'].head(1).values[0]\n",
    "print(\"Selected max_feature: \",selected_max_feature)"
   ]
  },
  {
   "cell_type": "markdown",
   "metadata": {},
   "source": [
    "#### 14th Experiment - Running the RF function with the different max_depth metric"
   ]
  },
  {
   "cell_type": "code",
   "execution_count": null,
   "metadata": {},
   "outputs": [],
   "source": [
    "statistical_cols = ['mae','mse','rmse','precision','accuracy','f1-score','max_depth','type']\n",
    "types = ['RSSI Only','Rolling Mean RSSI','Both']\n",
    "results = list()\n",
    "for scannedType in types:\n",
    "    if scannedType == 'RSSI Only':\n",
    "        trainX_data = train_X_rssi\n",
    "    elif scannedType == 'Rolling Mean RSSI':\n",
    "        trainX_data = train_X_rolling_mean\n",
    "    else:\n",
    "        trainX_data = combination_features_X\n",
    "    for depth in max_depth:\n",
    "        if selected_method == 'LOO':\n",
    "            cv = LeaveOneGroupOut()\n",
    "            splited = cv.split(trainX_data,train_Y.ravel(),groups=default_groups)\n",
    "            result = compute_RF_Classification(testX_data=trainX_data,testY_data=train_Y.ravel(),scaler=StandardScaler(),cross_validation = splited,\n",
    "                                max_depth_parameter=depth)  \n",
    "        elif selected_method =='Stratified K-Fold':\n",
    "            result = compute_RF_Classification(testX_data=trainX_data,testY_data=train_Y.ravel(),scaler=StandardScaler(),\n",
    "                                                 cross_validation = selected_fold,\n",
    "                                 max_depth_parameter=depth)\n",
    "        else:\n",
    "            X_train_split, X_test_split, y_train_split, y_test_split = train_test_split(trainX_data,train_Y.ravel(), test_size = 0.3, random_state = 6,stratify=default_groups)\n",
    "            result = compute_RF_Classification(trainX_data=X_train_split,trainY_data=y_train_split,testX_data=X_test_split,testY_data=y_test_split,\n",
    "                                 scaler=StandardScaler(), max_depth_parameter=depth)\n",
    "        result.append(depth)\n",
    "        result.append(scannedType)\n",
    "        results.append(result)\n",
    "statistics = pd.DataFrame(columns=statistical_cols,data=results)\n",
    "display(statistics.sort_values(by=['mae']))\n",
    "plt.plot(statistics['max_depth'],statistics['mae'])\n",
    "selected_max_depth = statistics.sort_values(by=['mae'])['max_depth'].head(1).values[0]\n",
    "print(\"Selected max_depth: \",selected_max_depth)"
   ]
  },
  {
   "cell_type": "markdown",
   "metadata": {},
   "source": [
    "#### 15th Experiment: Running the RF function with the different min_samples_split metric"
   ]
  },
  {
   "cell_type": "code",
   "execution_count": null,
   "metadata": {},
   "outputs": [],
   "source": [
    "statistical_cols = ['mae','mse','rmse','precision','accuracy','f1-score','min_samples_split','type']\n",
    "types = ['RSSI Only','Rolling Mean RSSI','Both']\n",
    "results = list()\n",
    "for scannedType in types:\n",
    "    if scannedType == 'RSSI Only':\n",
    "        trainX_data = train_X_rssi\n",
    "    elif scannedType == 'Rolling Mean RSSI':\n",
    "        trainX_data = train_X_rolling_mean\n",
    "    else:\n",
    "        trainX_data = combination_features_X\n",
    "    for s in min_samples_split:\n",
    "        if selected_method == 'LOO':\n",
    "            cv = LeaveOneGroupOut()\n",
    "            splited = cv.split(trainX_data,train_Y.ravel(),groups=default_groups)\n",
    "            result = compute_RF_Classification(testX_data=trainX_data,testY_data=train_Y.ravel(),scaler=StandardScaler(),cross_validation = splited,\n",
    "                                min_samples_split_parameter=s)  \n",
    "        elif selected_method =='Stratified K-Fold':\n",
    "            result = compute_RF_Classification(testX_data=trainX_data,testY_data=train_Y.ravel(),scaler=StandardScaler(),\n",
    "                                                 cross_validation = selected_fold,\n",
    "                                 min_samples_split_parameter=s)\n",
    "        else:\n",
    "            X_train_split, X_test_split, y_train_split, y_test_split = train_test_split(trainX_data,train_Y.ravel(), test_size = 0.3, random_state = 6,stratify=default_groups)\n",
    "            result = compute_RF_Classification(trainX_data=X_train_split,trainY_data=y_train_split,testX_data=X_test_split,testY_data=y_test_split,\n",
    "                                 scaler=StandardScaler(), min_samples_split_parameter=s)\n",
    "        result.append(s)\n",
    "        result.append(scannedType)\n",
    "        results.append(result)\n",
    "statistics = pd.DataFrame(columns=statistical_cols,data=results)\n",
    "display(statistics.sort_values(by=['mae']))\n",
    "plt.plot(statistics['min_samples_split'],statistics['mae'])\n",
    "selected_min_samples_splith = statistics.sort_values(by=['mae'])['min_samples_split'].head(1).values[0]\n",
    "print(\"Selected min_samples_split: \",selected_min_samples_splith)"
   ]
  },
  {
   "cell_type": "markdown",
   "metadata": {},
   "source": [
    "#### 16th Experiment: Running the RF function with the different min_samples_leaf metric"
   ]
  },
  {
   "cell_type": "code",
   "execution_count": null,
   "metadata": {},
   "outputs": [],
   "source": [
    "statistical_cols = ['mae','mse','rmse','precision','accuracy','f1-score','min_samples_leaf','type']\n",
    "types = ['RSSI Only','Rolling Mean RSSI','Both']\n",
    "results = list()\n",
    "for scannedType in types:\n",
    "    if scannedType == 'RSSI Only':\n",
    "        trainX_data = train_X_rssi\n",
    "    elif scannedType == 'Rolling Mean RSSI':\n",
    "        trainX_data = train_X_rolling_mean\n",
    "    else:\n",
    "        trainX_data = combination_features_X\n",
    "    for leaf in min_samples_leaf:\n",
    "        if selected_method == 'LOO':\n",
    "            cv = LeaveOneGroupOut()\n",
    "            splited = cv.split(trainX_data,train_Y.ravel(),groups=default_groups)\n",
    "            result = compute_RF_Classification(testX_data=trainX_data,testY_data=train_Y.ravel(),scaler=StandardScaler(),cross_validation = splited,\n",
    "                                min_samples_leaf_parameter=leaf)  \n",
    "        elif selected_method =='Stratified K-Fold':\n",
    "            result = compute_RF_Classification(testX_data=trainX_data,testY_data=train_Y.ravel(),scaler=StandardScaler(),\n",
    "                                                 cross_validation = selected_fold,\n",
    "                                 min_samples_leaf_parameter=leaf)\n",
    "        else:\n",
    "            X_train_split, X_test_split, y_train_split, y_test_split = train_test_split(trainX_data,train_Y.ravel(), test_size = 0.3, random_state = 6,stratify=default_groups)\n",
    "            result = compute_RF_Classification(trainX_data=X_train_split,trainY_data=y_train_split,testX_data=X_test_split,testY_data=y_test_split,\n",
    "                                 scaler=StandardScaler(), min_samples_leaf_parameter=leaf)\n",
    "        result.append(leaf)\n",
    "        result.append(scannedType)\n",
    "        results.append(result)\n",
    "statistics = pd.DataFrame(columns=statistical_cols,data=results)\n",
    "display(statistics.sort_values(by=['mae']))\n",
    "plt.plot(statistics['min_samples_leaf'],statistics['mae'])\n",
    "selected_min_samples_leaf = statistics.sort_values(by=['mae'])['min_samples_leaf'].head(1).values[0]\n",
    "print(\"Selected min_samples_leaf: \",selected_min_samples_leaf)"
   ]
  },
  {
   "cell_type": "markdown",
   "metadata": {},
   "source": [
    "### Run RandomSearchCV for parameter tunning"
   ]
  },
  {
   "cell_type": "code",
   "execution_count": null,
   "metadata": {},
   "outputs": [],
   "source": [
    "results = []\n",
    "pipe = Pipeline([('standardizer', StandardScaler()), ('rf', RandomForestClassifier())])\n",
    "clf = RandomizedSearchCV(\n",
    "   pipe, param_distributions = random_grid, n_iter = 100, cv=selected_fold,n_jobs=-1,verbose=1\n",
    ")\n",
    "clf.fit(train_X_rolling_mean,train_Y.ravel())\n",
    "results.append(clf.best_params_)\n",
    "gridcv_results = pd.DataFrame(results)\n",
    "display(gridcv_results)"
   ]
  },
  {
   "cell_type": "markdown",
   "metadata": {},
   "source": [
    "### Best Parameters\n",
    "Display the best parameters tunned throughout the experiments"
   ]
  },
  {
   "cell_type": "code",
   "execution_count": null,
   "metadata": {},
   "outputs": [],
   "source": [
    "conclusion_cols=['Cross_Validation','Number of Estimators','Max Features','Max Depth','Criterion','Min_Samples_Leaf','Min_Samples_Split','Preprocessing']\n",
    "conclusion_list = [selected_method,selected_estimator_size,selected_max_feature,selected_max_depth,selected_criterion,\n",
    "                   selected_min_samples_leaf,selected_min_samples_splith,selected_preprocessing]\n",
    "conclusion_pd = pd.DataFrame([conclusion_list],columns= conclusion_cols)\n",
    "display(conclusion_pd)"
   ]
  },
  {
   "cell_type": "markdown",
   "metadata": {},
   "source": [
    "### Best Results\n",
    "Compute RF with the best parameters tuned by RandomGridSearchCV and manually tuned"
   ]
  },
  {
   "cell_type": "code",
   "execution_count": null,
   "metadata": {},
   "outputs": [],
   "source": [
    "statistical_cols = ['mae','mse','rmse','precision','accuracy','f1-score','run','type']\n",
    "types = ['RSSI Only','Rolling Mean RSSI','Both']\n",
    "results = list()\n",
    "final_Type = ''\n",
    "for i in range(3):\n",
    "    if i == 0: #Default Run\n",
    "        final_Type = 'DEFAULT'\n",
    "        criterion = 'gini'\n",
    "        estimators = 100\n",
    "        depth = None\n",
    "        max_feat = 'auto'\n",
    "        min_samples_split = 2\n",
    "        min_samples_leaf = 1\n",
    "    if i == 1:#Manually Tuned Run\n",
    "        final_Type = 'MANUALLY TUNED'\n",
    "        criterion = selected_criterion\n",
    "        estimators = selected_estimator_size\n",
    "        depth = selected_max_depth\n",
    "        max_feat = selected_max_feature\n",
    "        min_samples_split = selected_min_samples_splith\n",
    "        min_samples_leaf = selected_min_samples_leaf\n",
    "    if i == 2: #Grid Run\n",
    "        final_Type = 'GRID TUNED'\n",
    "        criterion = clf.best_params_['rf__criterion']\n",
    "        estimators = clf.best_params_['rf__n_estimators']\n",
    "        depth = clf.best_params_['rf__max_depth']\n",
    "        max_feat = clf.best_params_['rf__max_features']\n",
    "        min_samples_split = clf.best_params_['rf__min_samples_split']\n",
    "        min_samples_leaf = clf.best_params_['rf__min_samples_leaf']\n",
    "    for scannedType in types:\n",
    "        if scannedType == 'RSSI Only':\n",
    "            trainX_data = train_X_rssi\n",
    "        elif scannedType == 'Rolling Mean RSSI':\n",
    "            trainX_data = train_X_rolling_mean\n",
    "        else:\n",
    "            trainX_data = combination_features_X\n",
    "        if selected_method == 'LOO':\n",
    "            cv = LeaveOneGroupOut()\n",
    "            splited = cv.split(trainX_data,train_Y.ravel(),groups=default_groups)\n",
    "            result = compute_RF_Classification(testX_data=trainX_data,testY_data=train_Y.ravel(),scaler=StandardScaler(),cross_validation = splited,\n",
    "                                n_estimators_parameter=estimators,criterion_parameter=criterion,\n",
    "                                              max_depth_parameter=depth, max_features_parameter=max_feat,\n",
    "                                              min_samples_leaf_parameter=min_samples_leaf,\n",
    "                                              min_samples_split_parameter=min_samples_split)  \n",
    "        elif selected_method =='Stratified K-Fold':\n",
    "            result = compute_RF_Classification(testX_data=trainX_data,testY_data=train_Y.ravel(),scaler=StandardScaler(),\n",
    "                                                 cross_validation = selected_fold,\n",
    "                                n_estimators_parameter=estimators,criterion_parameter=criterion,\n",
    "                                              max_depth_parameter=depth, max_features_parameter=max_feat,\n",
    "                                              min_samples_leaf_parameter=min_samples_leaf,\n",
    "                                              min_samples_split_parameter=min_samples_split) \n",
    "        else:\n",
    "            X_train_split, X_test_split, y_train_split, y_test_split = train_test_split(trainX_data,train_Y.ravel(), test_size = 0.3, random_state = 6,stratify=default_groups)\n",
    "            result = compute_RF_Classification(trainX_data=X_train_split,trainY_data=y_train_split,testX_data=X_test_split,testY_data=y_test_split,\n",
    "                                 scaler=StandardScaler(),n_estimators_parameter=estimators,criterion_parameter=criterion,\n",
    "                                              max_depth_parameter=depth, max_features_parameter=max_feat,\n",
    "                                              min_samples_leaf_parameter=min_samples_leaf,\n",
    "                                              min_samples_split_parameter=min_samples_split) \n",
    "        result.append(final_Type)\n",
    "        result.append(scannedType)\n",
    "        results.append(result)\n",
    "statistics = pd.DataFrame(columns=statistical_cols,data=results)\n",
    "display(statistics.sort_values(by=['f1-score'],ascending = False))\n",
    "statistical_cols_csv = ['mae','mse','rmse']\n",
    "statistical_cols_csv.append('Experimentation')\n",
    "result_csv = result[0:3]\n",
    "result_csv.append('RF Classification')\n",
    "results_csv = [result_csv]\n",
    "results_df = pd.DataFrame(columns=statistical_cols_csv,data=results_csv)\n",
    "results_df.to_csv('../proximity_results.csv',mode='a',index=False,header=False)\n",
    "dataset = load_file('../proximity_results.csv')\n",
    "dataset = dataset.sort_values(by=['mae'])\n",
    "dataset.to_csv('../proximity_results.csv',index=False)"
   ]
  },
  {
   "cell_type": "markdown",
   "metadata": {},
   "source": [
    "### Best Results - Testing data being 1000 plot points\n",
    "Experiment with testing data of 1000 plot points"
   ]
  },
  {
   "cell_type": "code",
   "execution_count": null,
   "metadata": {},
   "outputs": [],
   "source": [
    "testX_data = np.linspace(dataset['rssi_Value'].min(), dataset['rssi_Value'].max(), 1000).reshape(-1,1)\n",
    "statistical_cols = ['mae','mse','rmse','precision','accuracy','f1-score']\n",
    "svc_estimator = RandomForestClassifier()\n",
    "main_estimator = make_pipeline(StandardScaler(),svc_estimator)\n",
    "main_estimator.fit(train_X_rolling_mean,train_Y.ravel())\n",
    "predict_test = main_estimator.predict(testX_data)\n",
    "plt.show()\n",
    "plt.figure(figsize=(18,10))\n",
    "plt.scatter(dataset['zone'],dataset['rssi_Value'],label='RSSI Value',color='blue')\n",
    "plt.scatter(dataset['zone'],dataset['rolling_mean_rssi'],label='Rolling Mean RSSI Value',color='orange')\n",
    "plt.plot(predict_test, testX_data,'s',color='red', label='SVM Classifier')\n",
    "# Show and place the legent\n",
    "plt.legend(loc='upper right')\n",
    "plt.show()"
   ]
  }
 ],
 "metadata": {
  "kernelspec": {
   "display_name": "Python 3",
   "language": "python",
   "name": "python3"
  },
  "language_info": {
   "codemirror_mode": {
    "name": "ipython",
    "version": 3
   },
   "file_extension": ".py",
   "mimetype": "text/x-python",
   "name": "python",
   "nbconvert_exporter": "python",
   "pygments_lexer": "ipython3",
   "version": "3.7.6"
  }
 },
 "nbformat": 4,
 "nbformat_minor": 4
}
