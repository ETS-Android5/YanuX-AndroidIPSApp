{
 "cells": [
  {
   "cell_type": "markdown",
   "metadata": {},
   "source": [
    "# BLE Proximity Experiment - Multi-Layered Perceptron Regressor\n",
    "## Experiment based on the measurements of the BLE RSSI values according to the distance to the BLE Estimote beacon"
   ]
  },
  {
   "cell_type": "markdown",
   "metadata": {},
   "source": [
    "### Imports\n",
    "Imports of required libraries"
   ]
  },
  {
   "cell_type": "code",
   "execution_count": 2,
   "metadata": {},
   "outputs": [
    {
     "name": "stderr",
     "output_type": "stream",
     "text": [
      "Using TensorFlow backend.\n",
      "D:\\Programs\\Anaconda\\lib\\site-packages\\tensorflow\\python\\framework\\dtypes.py:526: FutureWarning: Passing (type, 1) or '1type' as a synonym of type is deprecated; in a future version of numpy, it will be understood as (type, (1,)) / '(1,)type'.\n",
      "  _np_qint8 = np.dtype([(\"qint8\", np.int8, 1)])\n",
      "D:\\Programs\\Anaconda\\lib\\site-packages\\tensorflow\\python\\framework\\dtypes.py:527: FutureWarning: Passing (type, 1) or '1type' as a synonym of type is deprecated; in a future version of numpy, it will be understood as (type, (1,)) / '(1,)type'.\n",
      "  _np_quint8 = np.dtype([(\"quint8\", np.uint8, 1)])\n",
      "D:\\Programs\\Anaconda\\lib\\site-packages\\tensorflow\\python\\framework\\dtypes.py:528: FutureWarning: Passing (type, 1) or '1type' as a synonym of type is deprecated; in a future version of numpy, it will be understood as (type, (1,)) / '(1,)type'.\n",
      "  _np_qint16 = np.dtype([(\"qint16\", np.int16, 1)])\n",
      "D:\\Programs\\Anaconda\\lib\\site-packages\\tensorflow\\python\\framework\\dtypes.py:529: FutureWarning: Passing (type, 1) or '1type' as a synonym of type is deprecated; in a future version of numpy, it will be understood as (type, (1,)) / '(1,)type'.\n",
      "  _np_quint16 = np.dtype([(\"quint16\", np.uint16, 1)])\n",
      "D:\\Programs\\Anaconda\\lib\\site-packages\\tensorflow\\python\\framework\\dtypes.py:530: FutureWarning: Passing (type, 1) or '1type' as a synonym of type is deprecated; in a future version of numpy, it will be understood as (type, (1,)) / '(1,)type'.\n",
      "  _np_qint32 = np.dtype([(\"qint32\", np.int32, 1)])\n",
      "D:\\Programs\\Anaconda\\lib\\site-packages\\tensorflow\\python\\framework\\dtypes.py:535: FutureWarning: Passing (type, 1) or '1type' as a synonym of type is deprecated; in a future version of numpy, it will be understood as (type, (1,)) / '(1,)type'.\n",
      "  np_resource = np.dtype([(\"resource\", np.ubyte, 1)])\n"
     ]
    },
    {
     "data": {
      "text/plain": [
       "<Figure size 432x288 with 0 Axes>"
      ]
     },
     "metadata": {},
     "output_type": "display_data"
    }
   ],
   "source": [
    "#CSV Related\n",
    "import pandas as pd\n",
    "import csv\n",
    "\n",
    "# Machine Learning\n",
    "import numpy as np\n",
    "from keras.models import Sequential\n",
    "from keras.layers import Dense\n",
    "from keras.wrappers.scikit_learn import KerasRegressor\n",
    "from sklearn.ensemble import RandomForestRegressor\n",
    "from sklearn.metrics import  accuracy_score\n",
    "from sklearn.preprocessing import OneHotEncoder,LabelEncoder\n",
    "from sklearn.model_selection import train_test_split,KFold,StratifiedKFold\n",
    "from sklearn.model_selection import cross_val_score, cross_val_predict\n",
    "from sklearn.preprocessing import StandardScaler, MinMaxScaler, MaxAbsScaler, LabelEncoder\n",
    "from sklearn.pipeline import Pipeline\n",
    "from sklearn.model_selection import GridSearchCV, RandomizedSearchCV\n",
    "from sklearn.model_selection import LeaveOneGroupOut\n",
    "from sklearn.pipeline import make_pipeline\n",
    "import sklearn\n",
    "import scipy\n",
    "\n",
    "#Graphical Display\n",
    "%matplotlib inline\n",
    "from IPython.display import display, HTML\n",
    "import matplotlib.pyplot as plt\n",
    "import seaborn as sns\n",
    "sns.set_style(\"whitegrid\")\n",
    "sns.despine()\n",
    "from pandas.plotting import scatter_matrix\n",
    "\n",
    "plt.style.use('seaborn-whitegrid')\n",
    "\n",
    "#Additional Helper Libraries\n",
    "from operator import itemgetter\n",
    "import re"
   ]
  },
  {
   "cell_type": "markdown",
   "metadata": {},
   "source": [
    "### Load File\n",
    "Function that allows to load a file from disk"
   ]
  },
  {
   "cell_type": "code",
   "execution_count": 3,
   "metadata": {},
   "outputs": [],
   "source": [
    "#Function that reads a csv file and structures the data accordingly\n",
    "def load_file(filename):\n",
    "    dataset = pd.read_csv(filename)\n",
    "    return dataset"
   ]
  },
  {
   "cell_type": "markdown",
   "metadata": {},
   "source": [
    "### Replace 0 with Nan RSSI Values"
   ]
  },
  {
   "cell_type": "code",
   "execution_count": 4,
   "metadata": {},
   "outputs": [],
   "source": [
    "def replace_features_nan(dataset):\n",
    "    dataset['rssi_Value'] = dataset['rssi_Value'].replace(0,np.nan)\n",
    "    dataset['rolling_mean_rssi'] = dataset['rolling_mean_rssi'].replace(0,np.nan)"
   ]
  },
  {
   "cell_type": "markdown",
   "metadata": {},
   "source": [
    "### Initialize Dataset\n",
    "Initialization of the data from the file"
   ]
  },
  {
   "cell_type": "code",
   "execution_count": 5,
   "metadata": {},
   "outputs": [
    {
     "data": {
      "text/html": [
       "<div>\n",
       "<style scoped>\n",
       "    .dataframe tbody tr th:only-of-type {\n",
       "        vertical-align: middle;\n",
       "    }\n",
       "\n",
       "    .dataframe tbody tr th {\n",
       "        vertical-align: top;\n",
       "    }\n",
       "\n",
       "    .dataframe thead th {\n",
       "        text-align: right;\n",
       "    }\n",
       "</style>\n",
       "<table border=\"1\" class=\"dataframe\">\n",
       "  <thead>\n",
       "    <tr style=\"text-align: right;\">\n",
       "      <th></th>\n",
       "      <th>coordinate_X</th>\n",
       "      <th>coordinate_Y</th>\n",
       "      <th>rssi_Value</th>\n",
       "      <th>rolling_mean_rssi</th>\n",
       "      <th>zone</th>\n",
       "      <th>distance</th>\n",
       "    </tr>\n",
       "  </thead>\n",
       "  <tbody>\n",
       "    <tr>\n",
       "      <th>0</th>\n",
       "      <td>0.0</td>\n",
       "      <td>0.0</td>\n",
       "      <td>-48</td>\n",
       "      <td>-48.000000</td>\n",
       "      <td>Personal</td>\n",
       "      <td>0.0</td>\n",
       "    </tr>\n",
       "    <tr>\n",
       "      <th>1</th>\n",
       "      <td>0.0</td>\n",
       "      <td>0.0</td>\n",
       "      <td>-48</td>\n",
       "      <td>-48.000000</td>\n",
       "      <td>Personal</td>\n",
       "      <td>0.0</td>\n",
       "    </tr>\n",
       "    <tr>\n",
       "      <th>2</th>\n",
       "      <td>0.0</td>\n",
       "      <td>0.0</td>\n",
       "      <td>-48</td>\n",
       "      <td>-48.000000</td>\n",
       "      <td>Personal</td>\n",
       "      <td>0.0</td>\n",
       "    </tr>\n",
       "    <tr>\n",
       "      <th>3</th>\n",
       "      <td>0.0</td>\n",
       "      <td>0.0</td>\n",
       "      <td>-48</td>\n",
       "      <td>-48.000000</td>\n",
       "      <td>Personal</td>\n",
       "      <td>0.0</td>\n",
       "    </tr>\n",
       "    <tr>\n",
       "      <th>4</th>\n",
       "      <td>0.0</td>\n",
       "      <td>0.0</td>\n",
       "      <td>-46</td>\n",
       "      <td>-47.600000</td>\n",
       "      <td>Personal</td>\n",
       "      <td>0.0</td>\n",
       "    </tr>\n",
       "    <tr>\n",
       "      <th>...</th>\n",
       "      <td>...</td>\n",
       "      <td>...</td>\n",
       "      <td>...</td>\n",
       "      <td>...</td>\n",
       "      <td>...</td>\n",
       "      <td>...</td>\n",
       "    </tr>\n",
       "    <tr>\n",
       "      <th>24829</th>\n",
       "      <td>0.0</td>\n",
       "      <td>4.5</td>\n",
       "      <td>-92</td>\n",
       "      <td>-90.480000</td>\n",
       "      <td>Public</td>\n",
       "      <td>4.5</td>\n",
       "    </tr>\n",
       "    <tr>\n",
       "      <th>24830</th>\n",
       "      <td>0.0</td>\n",
       "      <td>4.5</td>\n",
       "      <td>-93</td>\n",
       "      <td>-90.576923</td>\n",
       "      <td>Public</td>\n",
       "      <td>4.5</td>\n",
       "    </tr>\n",
       "    <tr>\n",
       "      <th>24831</th>\n",
       "      <td>0.0</td>\n",
       "      <td>4.5</td>\n",
       "      <td>-90</td>\n",
       "      <td>-90.555556</td>\n",
       "      <td>Public</td>\n",
       "      <td>4.5</td>\n",
       "    </tr>\n",
       "    <tr>\n",
       "      <th>24832</th>\n",
       "      <td>0.0</td>\n",
       "      <td>4.5</td>\n",
       "      <td>-90</td>\n",
       "      <td>-90.535714</td>\n",
       "      <td>Public</td>\n",
       "      <td>4.5</td>\n",
       "    </tr>\n",
       "    <tr>\n",
       "      <th>24833</th>\n",
       "      <td>0.0</td>\n",
       "      <td>4.5</td>\n",
       "      <td>-87</td>\n",
       "      <td>-90.413793</td>\n",
       "      <td>Public</td>\n",
       "      <td>4.5</td>\n",
       "    </tr>\n",
       "  </tbody>\n",
       "</table>\n",
       "<p>24834 rows × 6 columns</p>\n",
       "</div>"
      ],
      "text/plain": [
       "       coordinate_X  coordinate_Y  rssi_Value  rolling_mean_rssi      zone  \\\n",
       "0               0.0           0.0         -48         -48.000000  Personal   \n",
       "1               0.0           0.0         -48         -48.000000  Personal   \n",
       "2               0.0           0.0         -48         -48.000000  Personal   \n",
       "3               0.0           0.0         -48         -48.000000  Personal   \n",
       "4               0.0           0.0         -46         -47.600000  Personal   \n",
       "...             ...           ...         ...                ...       ...   \n",
       "24829           0.0           4.5         -92         -90.480000    Public   \n",
       "24830           0.0           4.5         -93         -90.576923    Public   \n",
       "24831           0.0           4.5         -90         -90.555556    Public   \n",
       "24832           0.0           4.5         -90         -90.535714    Public   \n",
       "24833           0.0           4.5         -87         -90.413793    Public   \n",
       "\n",
       "       distance  \n",
       "0           0.0  \n",
       "1           0.0  \n",
       "2           0.0  \n",
       "3           0.0  \n",
       "4           0.0  \n",
       "...         ...  \n",
       "24829       4.5  \n",
       "24830       4.5  \n",
       "24831       4.5  \n",
       "24832       4.5  \n",
       "24833       4.5  \n",
       "\n",
       "[24834 rows x 6 columns]"
      ]
     },
     "metadata": {},
     "output_type": "display_data"
    },
    {
     "data": {
      "text/plain": [
       "(24834, 6)"
      ]
     },
     "metadata": {},
     "output_type": "display_data"
    }
   ],
   "source": [
    "dataset = load_file('../../dataset_train_university.csv')\n",
    "positions = dataset['coordinate_Y']\n",
    "dataset['distance'] = positions\n",
    "replace_features_nan(dataset)\n",
    "display(dataset)\n",
    "display(dataset.shape)"
   ]
  },
  {
   "cell_type": "markdown",
   "metadata": {},
   "source": [
    "### Initialize Test Set"
   ]
  },
  {
   "cell_type": "code",
   "execution_count": 6,
   "metadata": {},
   "outputs": [
    {
     "data": {
      "text/html": [
       "<div>\n",
       "<style scoped>\n",
       "    .dataframe tbody tr th:only-of-type {\n",
       "        vertical-align: middle;\n",
       "    }\n",
       "\n",
       "    .dataframe tbody tr th {\n",
       "        vertical-align: top;\n",
       "    }\n",
       "\n",
       "    .dataframe thead th {\n",
       "        text-align: right;\n",
       "    }\n",
       "</style>\n",
       "<table border=\"1\" class=\"dataframe\">\n",
       "  <thead>\n",
       "    <tr style=\"text-align: right;\">\n",
       "      <th></th>\n",
       "      <th>coordinate_X</th>\n",
       "      <th>coordinate_Y</th>\n",
       "      <th>rssi_Value</th>\n",
       "      <th>rolling_mean_rssi</th>\n",
       "      <th>zone</th>\n",
       "      <th>distance</th>\n",
       "    </tr>\n",
       "  </thead>\n",
       "  <tbody>\n",
       "    <tr>\n",
       "      <th>0</th>\n",
       "      <td>0.0</td>\n",
       "      <td>4.5</td>\n",
       "      <td>-86</td>\n",
       "      <td>-86.000000</td>\n",
       "      <td>Public</td>\n",
       "      <td>4.5</td>\n",
       "    </tr>\n",
       "    <tr>\n",
       "      <th>1</th>\n",
       "      <td>0.0</td>\n",
       "      <td>4.5</td>\n",
       "      <td>-84</td>\n",
       "      <td>-85.000000</td>\n",
       "      <td>Public</td>\n",
       "      <td>4.5</td>\n",
       "    </tr>\n",
       "    <tr>\n",
       "      <th>2</th>\n",
       "      <td>0.0</td>\n",
       "      <td>4.5</td>\n",
       "      <td>-83</td>\n",
       "      <td>-84.333333</td>\n",
       "      <td>Public</td>\n",
       "      <td>4.5</td>\n",
       "    </tr>\n",
       "    <tr>\n",
       "      <th>3</th>\n",
       "      <td>0.0</td>\n",
       "      <td>4.5</td>\n",
       "      <td>-84</td>\n",
       "      <td>-84.250000</td>\n",
       "      <td>Public</td>\n",
       "      <td>4.5</td>\n",
       "    </tr>\n",
       "    <tr>\n",
       "      <th>4</th>\n",
       "      <td>0.0</td>\n",
       "      <td>4.5</td>\n",
       "      <td>-92</td>\n",
       "      <td>-85.800000</td>\n",
       "      <td>Public</td>\n",
       "      <td>4.5</td>\n",
       "    </tr>\n",
       "    <tr>\n",
       "      <th>...</th>\n",
       "      <td>...</td>\n",
       "      <td>...</td>\n",
       "      <td>...</td>\n",
       "      <td>...</td>\n",
       "      <td>...</td>\n",
       "      <td>...</td>\n",
       "    </tr>\n",
       "    <tr>\n",
       "      <th>3672</th>\n",
       "      <td>0.0</td>\n",
       "      <td>0.0</td>\n",
       "      <td>-57</td>\n",
       "      <td>-56.814815</td>\n",
       "      <td>Personal</td>\n",
       "      <td>0.0</td>\n",
       "    </tr>\n",
       "    <tr>\n",
       "      <th>3673</th>\n",
       "      <td>0.0</td>\n",
       "      <td>0.0</td>\n",
       "      <td>-56</td>\n",
       "      <td>-56.785714</td>\n",
       "      <td>Personal</td>\n",
       "      <td>0.0</td>\n",
       "    </tr>\n",
       "    <tr>\n",
       "      <th>3674</th>\n",
       "      <td>0.0</td>\n",
       "      <td>0.0</td>\n",
       "      <td>-56</td>\n",
       "      <td>-56.758621</td>\n",
       "      <td>Personal</td>\n",
       "      <td>0.0</td>\n",
       "    </tr>\n",
       "    <tr>\n",
       "      <th>3675</th>\n",
       "      <td>0.0</td>\n",
       "      <td>0.0</td>\n",
       "      <td>-56</td>\n",
       "      <td>-56.733333</td>\n",
       "      <td>Personal</td>\n",
       "      <td>0.0</td>\n",
       "    </tr>\n",
       "    <tr>\n",
       "      <th>3676</th>\n",
       "      <td>0.0</td>\n",
       "      <td>0.0</td>\n",
       "      <td>-56</td>\n",
       "      <td>-56.709677</td>\n",
       "      <td>Personal</td>\n",
       "      <td>0.0</td>\n",
       "    </tr>\n",
       "  </tbody>\n",
       "</table>\n",
       "<p>3677 rows × 6 columns</p>\n",
       "</div>"
      ],
      "text/plain": [
       "      coordinate_X  coordinate_Y  rssi_Value  rolling_mean_rssi      zone  \\\n",
       "0              0.0           4.5         -86         -86.000000    Public   \n",
       "1              0.0           4.5         -84         -85.000000    Public   \n",
       "2              0.0           4.5         -83         -84.333333    Public   \n",
       "3              0.0           4.5         -84         -84.250000    Public   \n",
       "4              0.0           4.5         -92         -85.800000    Public   \n",
       "...            ...           ...         ...                ...       ...   \n",
       "3672           0.0           0.0         -57         -56.814815  Personal   \n",
       "3673           0.0           0.0         -56         -56.785714  Personal   \n",
       "3674           0.0           0.0         -56         -56.758621  Personal   \n",
       "3675           0.0           0.0         -56         -56.733333  Personal   \n",
       "3676           0.0           0.0         -56         -56.709677  Personal   \n",
       "\n",
       "      distance  \n",
       "0          4.5  \n",
       "1          4.5  \n",
       "2          4.5  \n",
       "3          4.5  \n",
       "4          4.5  \n",
       "...        ...  \n",
       "3672       0.0  \n",
       "3673       0.0  \n",
       "3674       0.0  \n",
       "3675       0.0  \n",
       "3676       0.0  \n",
       "\n",
       "[3677 rows x 6 columns]"
      ]
     },
     "metadata": {},
     "output_type": "display_data"
    },
    {
     "data": {
      "text/plain": [
       "(3677, 6)"
      ]
     },
     "metadata": {},
     "output_type": "display_data"
    },
    {
     "data": {
      "image/png": "[encoded data removed]",
      "text/plain": [
       "<Figure size 864x432 with 6 Axes>"
      ]
     },
     "metadata": {},
     "output_type": "display_data"
    }
   ],
   "source": [
    "test_dataset = load_file('../../dataset_test_university.csv')\n",
    "positions = test_dataset['coordinate_Y']\n",
    "test_dataset['distance'] = positions\n",
    "replace_features_nan(test_dataset)\n",
    "display(test_dataset)\n",
    "display(test_dataset.shape)\n",
    "test_dataset.hist(bins=50,figsize=(12,6))\n",
    "plt.show()"
   ]
  },
  {
   "cell_type": "markdown",
   "metadata": {},
   "source": [
    "### Initialize Test Set (HOME | BIG DATASET SAMSUNG)"
   ]
  },
  {
   "cell_type": "code",
   "execution_count": 7,
   "metadata": {},
   "outputs": [
    {
     "data": {
      "text/html": [
       "<div>\n",
       "<style scoped>\n",
       "    .dataframe tbody tr th:only-of-type {\n",
       "        vertical-align: middle;\n",
       "    }\n",
       "\n",
       "    .dataframe tbody tr th {\n",
       "        vertical-align: top;\n",
       "    }\n",
       "\n",
       "    .dataframe thead th {\n",
       "        text-align: right;\n",
       "    }\n",
       "</style>\n",
       "<table border=\"1\" class=\"dataframe\">\n",
       "  <thead>\n",
       "    <tr style=\"text-align: right;\">\n",
       "      <th></th>\n",
       "      <th>coordinate_X</th>\n",
       "      <th>coordinate_Y</th>\n",
       "      <th>rssi_Value</th>\n",
       "      <th>rolling_mean_rssi</th>\n",
       "      <th>zone</th>\n",
       "      <th>distance</th>\n",
       "    </tr>\n",
       "  </thead>\n",
       "  <tbody>\n",
       "    <tr>\n",
       "      <th>0</th>\n",
       "      <td>0.0</td>\n",
       "      <td>0.0</td>\n",
       "      <td>-47</td>\n",
       "      <td>-47.000000</td>\n",
       "      <td>Personal</td>\n",
       "      <td>0.0</td>\n",
       "    </tr>\n",
       "    <tr>\n",
       "      <th>1</th>\n",
       "      <td>0.0</td>\n",
       "      <td>0.0</td>\n",
       "      <td>-46</td>\n",
       "      <td>-46.500000</td>\n",
       "      <td>Personal</td>\n",
       "      <td>0.0</td>\n",
       "    </tr>\n",
       "    <tr>\n",
       "      <th>2</th>\n",
       "      <td>0.0</td>\n",
       "      <td>0.0</td>\n",
       "      <td>-46</td>\n",
       "      <td>-46.333333</td>\n",
       "      <td>Personal</td>\n",
       "      <td>0.0</td>\n",
       "    </tr>\n",
       "    <tr>\n",
       "      <th>3</th>\n",
       "      <td>0.0</td>\n",
       "      <td>0.0</td>\n",
       "      <td>-47</td>\n",
       "      <td>-46.500000</td>\n",
       "      <td>Personal</td>\n",
       "      <td>0.0</td>\n",
       "    </tr>\n",
       "    <tr>\n",
       "      <th>4</th>\n",
       "      <td>0.0</td>\n",
       "      <td>0.0</td>\n",
       "      <td>-47</td>\n",
       "      <td>-46.600000</td>\n",
       "      <td>Personal</td>\n",
       "      <td>0.0</td>\n",
       "    </tr>\n",
       "    <tr>\n",
       "      <th>...</th>\n",
       "      <td>...</td>\n",
       "      <td>...</td>\n",
       "      <td>...</td>\n",
       "      <td>...</td>\n",
       "      <td>...</td>\n",
       "      <td>...</td>\n",
       "    </tr>\n",
       "    <tr>\n",
       "      <th>12470</th>\n",
       "      <td>0.0</td>\n",
       "      <td>3.5</td>\n",
       "      <td>-87</td>\n",
       "      <td>-84.555556</td>\n",
       "      <td>Social</td>\n",
       "      <td>3.5</td>\n",
       "    </tr>\n",
       "    <tr>\n",
       "      <th>12471</th>\n",
       "      <td>0.0</td>\n",
       "      <td>3.5</td>\n",
       "      <td>-87</td>\n",
       "      <td>-84.684211</td>\n",
       "      <td>Social</td>\n",
       "      <td>3.5</td>\n",
       "    </tr>\n",
       "    <tr>\n",
       "      <th>12472</th>\n",
       "      <td>0.0</td>\n",
       "      <td>3.5</td>\n",
       "      <td>-87</td>\n",
       "      <td>-84.800000</td>\n",
       "      <td>Social</td>\n",
       "      <td>3.5</td>\n",
       "    </tr>\n",
       "    <tr>\n",
       "      <th>12473</th>\n",
       "      <td>0.0</td>\n",
       "      <td>3.5</td>\n",
       "      <td>-87</td>\n",
       "      <td>-84.904762</td>\n",
       "      <td>Social</td>\n",
       "      <td>3.5</td>\n",
       "    </tr>\n",
       "    <tr>\n",
       "      <th>12474</th>\n",
       "      <td>0.0</td>\n",
       "      <td>3.5</td>\n",
       "      <td>-87</td>\n",
       "      <td>-85.000000</td>\n",
       "      <td>Social</td>\n",
       "      <td>3.5</td>\n",
       "    </tr>\n",
       "  </tbody>\n",
       "</table>\n",
       "<p>12475 rows × 6 columns</p>\n",
       "</div>"
      ],
      "text/plain": [
       "       coordinate_X  coordinate_Y  rssi_Value  rolling_mean_rssi      zone  \\\n",
       "0               0.0           0.0         -47         -47.000000  Personal   \n",
       "1               0.0           0.0         -46         -46.500000  Personal   \n",
       "2               0.0           0.0         -46         -46.333333  Personal   \n",
       "3               0.0           0.0         -47         -46.500000  Personal   \n",
       "4               0.0           0.0         -47         -46.600000  Personal   \n",
       "...             ...           ...         ...                ...       ...   \n",
       "12470           0.0           3.5         -87         -84.555556    Social   \n",
       "12471           0.0           3.5         -87         -84.684211    Social   \n",
       "12472           0.0           3.5         -87         -84.800000    Social   \n",
       "12473           0.0           3.5         -87         -84.904762    Social   \n",
       "12474           0.0           3.5         -87         -85.000000    Social   \n",
       "\n",
       "       distance  \n",
       "0           0.0  \n",
       "1           0.0  \n",
       "2           0.0  \n",
       "3           0.0  \n",
       "4           0.0  \n",
       "...         ...  \n",
       "12470       3.5  \n",
       "12471       3.5  \n",
       "12472       3.5  \n",
       "12473       3.5  \n",
       "12474       3.5  \n",
       "\n",
       "[12475 rows x 6 columns]"
      ]
     },
     "metadata": {},
     "output_type": "display_data"
    },
    {
     "data": {
      "text/plain": [
       "(12475, 6)"
      ]
     },
     "metadata": {},
     "output_type": "display_data"
    },
    {
     "data": {
      "image/png": "[encoded data removed]",
      "text/plain": [
       "<Figure size 864x432 with 6 Axes>"
      ]
     },
     "metadata": {},
     "output_type": "display_data"
    }
   ],
   "source": [
    "test_dataset_home_big = load_file('../../dataset_test_home_big.csv')\n",
    "positions = test_dataset_home_big['coordinate_Y']\n",
    "test_dataset_home_big['distance'] = positions\n",
    "replace_features_nan(test_dataset_home_big)\n",
    "display(test_dataset_home_big)\n",
    "display(test_dataset_home_big.shape)\n",
    "test_dataset_home_big.hist(bins=50,figsize=(12,6))\n",
    "plt.show()"
   ]
  },
  {
   "cell_type": "markdown",
   "metadata": {},
   "source": [
    "### Initialize Test Set (HOME | SMALL DATASET SAMSUNG)"
   ]
  },
  {
   "cell_type": "code",
   "execution_count": 8,
   "metadata": {},
   "outputs": [
    {
     "data": {
      "text/html": [
       "<div>\n",
       "<style scoped>\n",
       "    .dataframe tbody tr th:only-of-type {\n",
       "        vertical-align: middle;\n",
       "    }\n",
       "\n",
       "    .dataframe tbody tr th {\n",
       "        vertical-align: top;\n",
       "    }\n",
       "\n",
       "    .dataframe thead th {\n",
       "        text-align: right;\n",
       "    }\n",
       "</style>\n",
       "<table border=\"1\" class=\"dataframe\">\n",
       "  <thead>\n",
       "    <tr style=\"text-align: right;\">\n",
       "      <th></th>\n",
       "      <th>coordinate_X</th>\n",
       "      <th>coordinate_Y</th>\n",
       "      <th>rssi_Value</th>\n",
       "      <th>rolling_mean_rssi</th>\n",
       "      <th>zone</th>\n",
       "      <th>distance</th>\n",
       "    </tr>\n",
       "  </thead>\n",
       "  <tbody>\n",
       "    <tr>\n",
       "      <th>0</th>\n",
       "      <td>0.0</td>\n",
       "      <td>0.0</td>\n",
       "      <td>-44</td>\n",
       "      <td>-44.000000</td>\n",
       "      <td>Personal</td>\n",
       "      <td>0.0</td>\n",
       "    </tr>\n",
       "    <tr>\n",
       "      <th>1</th>\n",
       "      <td>0.0</td>\n",
       "      <td>0.0</td>\n",
       "      <td>-44</td>\n",
       "      <td>-44.000000</td>\n",
       "      <td>Personal</td>\n",
       "      <td>0.0</td>\n",
       "    </tr>\n",
       "    <tr>\n",
       "      <th>2</th>\n",
       "      <td>0.0</td>\n",
       "      <td>0.0</td>\n",
       "      <td>-44</td>\n",
       "      <td>-44.000000</td>\n",
       "      <td>Personal</td>\n",
       "      <td>0.0</td>\n",
       "    </tr>\n",
       "    <tr>\n",
       "      <th>3</th>\n",
       "      <td>0.0</td>\n",
       "      <td>0.0</td>\n",
       "      <td>-44</td>\n",
       "      <td>-44.000000</td>\n",
       "      <td>Personal</td>\n",
       "      <td>0.0</td>\n",
       "    </tr>\n",
       "    <tr>\n",
       "      <th>4</th>\n",
       "      <td>0.0</td>\n",
       "      <td>0.0</td>\n",
       "      <td>-45</td>\n",
       "      <td>-44.200000</td>\n",
       "      <td>Personal</td>\n",
       "      <td>0.0</td>\n",
       "    </tr>\n",
       "    <tr>\n",
       "      <th>...</th>\n",
       "      <td>...</td>\n",
       "      <td>...</td>\n",
       "      <td>...</td>\n",
       "      <td>...</td>\n",
       "      <td>...</td>\n",
       "      <td>...</td>\n",
       "    </tr>\n",
       "    <tr>\n",
       "      <th>2279</th>\n",
       "      <td>0.0</td>\n",
       "      <td>3.5</td>\n",
       "      <td>-84</td>\n",
       "      <td>-83.944444</td>\n",
       "      <td>Social</td>\n",
       "      <td>3.5</td>\n",
       "    </tr>\n",
       "    <tr>\n",
       "      <th>2280</th>\n",
       "      <td>0.0</td>\n",
       "      <td>3.5</td>\n",
       "      <td>-85</td>\n",
       "      <td>-84.000000</td>\n",
       "      <td>Social</td>\n",
       "      <td>3.5</td>\n",
       "    </tr>\n",
       "    <tr>\n",
       "      <th>2281</th>\n",
       "      <td>0.0</td>\n",
       "      <td>3.5</td>\n",
       "      <td>-85</td>\n",
       "      <td>-84.050000</td>\n",
       "      <td>Social</td>\n",
       "      <td>3.5</td>\n",
       "    </tr>\n",
       "    <tr>\n",
       "      <th>2282</th>\n",
       "      <td>0.0</td>\n",
       "      <td>3.5</td>\n",
       "      <td>-92</td>\n",
       "      <td>-84.428571</td>\n",
       "      <td>Social</td>\n",
       "      <td>3.5</td>\n",
       "    </tr>\n",
       "    <tr>\n",
       "      <th>2283</th>\n",
       "      <td>0.0</td>\n",
       "      <td>3.5</td>\n",
       "      <td>-92</td>\n",
       "      <td>-84.772727</td>\n",
       "      <td>Social</td>\n",
       "      <td>3.5</td>\n",
       "    </tr>\n",
       "  </tbody>\n",
       "</table>\n",
       "<p>2284 rows × 6 columns</p>\n",
       "</div>"
      ],
      "text/plain": [
       "      coordinate_X  coordinate_Y  rssi_Value  rolling_mean_rssi      zone  \\\n",
       "0              0.0           0.0         -44         -44.000000  Personal   \n",
       "1              0.0           0.0         -44         -44.000000  Personal   \n",
       "2              0.0           0.0         -44         -44.000000  Personal   \n",
       "3              0.0           0.0         -44         -44.000000  Personal   \n",
       "4              0.0           0.0         -45         -44.200000  Personal   \n",
       "...            ...           ...         ...                ...       ...   \n",
       "2279           0.0           3.5         -84         -83.944444    Social   \n",
       "2280           0.0           3.5         -85         -84.000000    Social   \n",
       "2281           0.0           3.5         -85         -84.050000    Social   \n",
       "2282           0.0           3.5         -92         -84.428571    Social   \n",
       "2283           0.0           3.5         -92         -84.772727    Social   \n",
       "\n",
       "      distance  \n",
       "0          0.0  \n",
       "1          0.0  \n",
       "2          0.0  \n",
       "3          0.0  \n",
       "4          0.0  \n",
       "...        ...  \n",
       "2279       3.5  \n",
       "2280       3.5  \n",
       "2281       3.5  \n",
       "2282       3.5  \n",
       "2283       3.5  \n",
       "\n",
       "[2284 rows x 6 columns]"
      ]
     },
     "metadata": {},
     "output_type": "display_data"
    },
    {
     "data": {
      "text/plain": [
       "(2284, 6)"
      ]
     },
     "metadata": {},
     "output_type": "display_data"
    },
    {
     "data": {
      "image/png": "[encoded data removed]",
      "text/plain": [
       "<Figure size 864x432 with 6 Axes>"
      ]
     },
     "metadata": {},
     "output_type": "display_data"
    }
   ],
   "source": [
    "test_dataset_home_small = load_file('../../dataset_test_home.csv')\n",
    "positions = test_dataset_home_small['coordinate_Y']\n",
    "test_dataset_home_small['distance'] = positions\n",
    "replace_features_nan(test_dataset_home_small)\n",
    "display(test_dataset_home_small)\n",
    "display(test_dataset_home_small.shape)\n",
    "test_dataset_home_small.hist(bins=50,figsize=(12,6))\n",
    "plt.show()"
   ]
  },
  {
   "cell_type": "markdown",
   "metadata": {},
   "source": [
    "### Initialize Test Set (HOME | SMALL DATASET ASUS)"
   ]
  },
  {
   "cell_type": "code",
   "execution_count": 9,
   "metadata": {},
   "outputs": [
    {
     "data": {
      "text/html": [
       "<div>\n",
       "<style scoped>\n",
       "    .dataframe tbody tr th:only-of-type {\n",
       "        vertical-align: middle;\n",
       "    }\n",
       "\n",
       "    .dataframe tbody tr th {\n",
       "        vertical-align: top;\n",
       "    }\n",
       "\n",
       "    .dataframe thead th {\n",
       "        text-align: right;\n",
       "    }\n",
       "</style>\n",
       "<table border=\"1\" class=\"dataframe\">\n",
       "  <thead>\n",
       "    <tr style=\"text-align: right;\">\n",
       "      <th></th>\n",
       "      <th>coordinate_X</th>\n",
       "      <th>coordinate_Y</th>\n",
       "      <th>rssi_Value</th>\n",
       "      <th>rolling_mean_rssi</th>\n",
       "      <th>zone</th>\n",
       "      <th>distance</th>\n",
       "    </tr>\n",
       "  </thead>\n",
       "  <tbody>\n",
       "    <tr>\n",
       "      <th>0</th>\n",
       "      <td>0.0</td>\n",
       "      <td>0.0</td>\n",
       "      <td>-50</td>\n",
       "      <td>-50.000000</td>\n",
       "      <td>Personal</td>\n",
       "      <td>0.0</td>\n",
       "    </tr>\n",
       "    <tr>\n",
       "      <th>1</th>\n",
       "      <td>0.0</td>\n",
       "      <td>0.0</td>\n",
       "      <td>-50</td>\n",
       "      <td>-50.000000</td>\n",
       "      <td>Personal</td>\n",
       "      <td>0.0</td>\n",
       "    </tr>\n",
       "    <tr>\n",
       "      <th>2</th>\n",
       "      <td>0.0</td>\n",
       "      <td>0.0</td>\n",
       "      <td>-53</td>\n",
       "      <td>-51.000000</td>\n",
       "      <td>Personal</td>\n",
       "      <td>0.0</td>\n",
       "    </tr>\n",
       "    <tr>\n",
       "      <th>3</th>\n",
       "      <td>0.0</td>\n",
       "      <td>0.0</td>\n",
       "      <td>-51</td>\n",
       "      <td>-51.000000</td>\n",
       "      <td>Personal</td>\n",
       "      <td>0.0</td>\n",
       "    </tr>\n",
       "    <tr>\n",
       "      <th>4</th>\n",
       "      <td>0.0</td>\n",
       "      <td>0.0</td>\n",
       "      <td>-53</td>\n",
       "      <td>-53.000000</td>\n",
       "      <td>Personal</td>\n",
       "      <td>0.0</td>\n",
       "    </tr>\n",
       "    <tr>\n",
       "      <th>...</th>\n",
       "      <td>...</td>\n",
       "      <td>...</td>\n",
       "      <td>...</td>\n",
       "      <td>...</td>\n",
       "      <td>...</td>\n",
       "      <td>...</td>\n",
       "    </tr>\n",
       "    <tr>\n",
       "      <th>410</th>\n",
       "      <td>0.0</td>\n",
       "      <td>3.5</td>\n",
       "      <td>-86</td>\n",
       "      <td>-83.800000</td>\n",
       "      <td>Social</td>\n",
       "      <td>3.5</td>\n",
       "    </tr>\n",
       "    <tr>\n",
       "      <th>411</th>\n",
       "      <td>0.0</td>\n",
       "      <td>3.5</td>\n",
       "      <td>-88</td>\n",
       "      <td>-84.500000</td>\n",
       "      <td>Social</td>\n",
       "      <td>3.5</td>\n",
       "    </tr>\n",
       "    <tr>\n",
       "      <th>412</th>\n",
       "      <td>0.0</td>\n",
       "      <td>3.5</td>\n",
       "      <td>-84</td>\n",
       "      <td>-84.428571</td>\n",
       "      <td>Social</td>\n",
       "      <td>3.5</td>\n",
       "    </tr>\n",
       "    <tr>\n",
       "      <th>413</th>\n",
       "      <td>0.0</td>\n",
       "      <td>3.5</td>\n",
       "      <td>-83</td>\n",
       "      <td>-84.250000</td>\n",
       "      <td>Social</td>\n",
       "      <td>3.5</td>\n",
       "    </tr>\n",
       "    <tr>\n",
       "      <th>414</th>\n",
       "      <td>0.0</td>\n",
       "      <td>3.5</td>\n",
       "      <td>-82</td>\n",
       "      <td>-84.000000</td>\n",
       "      <td>Social</td>\n",
       "      <td>3.5</td>\n",
       "    </tr>\n",
       "  </tbody>\n",
       "</table>\n",
       "<p>415 rows × 6 columns</p>\n",
       "</div>"
      ],
      "text/plain": [
       "     coordinate_X  coordinate_Y  rssi_Value  rolling_mean_rssi      zone  \\\n",
       "0             0.0           0.0         -50         -50.000000  Personal   \n",
       "1             0.0           0.0         -50         -50.000000  Personal   \n",
       "2             0.0           0.0         -53         -51.000000  Personal   \n",
       "3             0.0           0.0         -51         -51.000000  Personal   \n",
       "4             0.0           0.0         -53         -53.000000  Personal   \n",
       "..            ...           ...         ...                ...       ...   \n",
       "410           0.0           3.5         -86         -83.800000    Social   \n",
       "411           0.0           3.5         -88         -84.500000    Social   \n",
       "412           0.0           3.5         -84         -84.428571    Social   \n",
       "413           0.0           3.5         -83         -84.250000    Social   \n",
       "414           0.0           3.5         -82         -84.000000    Social   \n",
       "\n",
       "     distance  \n",
       "0         0.0  \n",
       "1         0.0  \n",
       "2         0.0  \n",
       "3         0.0  \n",
       "4         0.0  \n",
       "..        ...  \n",
       "410       3.5  \n",
       "411       3.5  \n",
       "412       3.5  \n",
       "413       3.5  \n",
       "414       3.5  \n",
       "\n",
       "[415 rows x 6 columns]"
      ]
     },
     "metadata": {},
     "output_type": "display_data"
    },
    {
     "data": {
      "text/plain": [
       "(415, 6)"
      ]
     },
     "metadata": {},
     "output_type": "display_data"
    },
    {
     "data": {
      "image/png": "[encoded data removed]",
      "text/plain": [
       "<Figure size 864x432 with 6 Axes>"
      ]
     },
     "metadata": {},
     "output_type": "display_data"
    }
   ],
   "source": [
    "test_dataset_home_asus = load_file('../../dataset_test_home_asus.csv')\n",
    "positions = test_dataset_home_asus['coordinate_Y']\n",
    "test_dataset_home_asus['distance'] = positions\n",
    "replace_features_nan(test_dataset_home_asus)\n",
    "display(test_dataset_home_asus)\n",
    "display(test_dataset_home_asus.shape)\n",
    "test_dataset_home_asus.hist(bins=50,figsize=(12,6))\n",
    "plt.show()"
   ]
  },
  {
   "cell_type": "markdown",
   "metadata": {},
   "source": [
    "### Dataset Overall Info"
   ]
  },
  {
   "cell_type": "code",
   "execution_count": 10,
   "metadata": {},
   "outputs": [
    {
     "name": "stdout",
     "output_type": "stream",
     "text": [
      "<class 'pandas.core.frame.DataFrame'>\n",
      "RangeIndex: 24834 entries, 0 to 24833\n",
      "Data columns (total 6 columns):\n",
      " #   Column             Non-Null Count  Dtype  \n",
      "---  ------             --------------  -----  \n",
      " 0   coordinate_X       24834 non-null  float64\n",
      " 1   coordinate_Y       24834 non-null  float64\n",
      " 2   rssi_Value         24834 non-null  int64  \n",
      " 3   rolling_mean_rssi  24834 non-null  float64\n",
      " 4   zone               24834 non-null  object \n",
      " 5   distance           24834 non-null  float64\n",
      "dtypes: float64(4), int64(1), object(1)\n",
      "memory usage: 1.1+ MB\n"
     ]
    },
    {
     "data": {
      "text/plain": [
       "None"
      ]
     },
     "metadata": {},
     "output_type": "display_data"
    }
   ],
   "source": [
    "display(dataset.info())"
   ]
  },
  {
   "cell_type": "markdown",
   "metadata": {},
   "source": [
    "### File Overall Description\n",
    "Usage of describe pandas function on the dataset"
   ]
  },
  {
   "cell_type": "code",
   "execution_count": 11,
   "metadata": {},
   "outputs": [
    {
     "data": {
      "text/html": [
       "<div>\n",
       "<style scoped>\n",
       "    .dataframe tbody tr th:only-of-type {\n",
       "        vertical-align: middle;\n",
       "    }\n",
       "\n",
       "    .dataframe tbody tr th {\n",
       "        vertical-align: top;\n",
       "    }\n",
       "\n",
       "    .dataframe thead th {\n",
       "        text-align: right;\n",
       "    }\n",
       "</style>\n",
       "<table border=\"1\" class=\"dataframe\">\n",
       "  <thead>\n",
       "    <tr style=\"text-align: right;\">\n",
       "      <th></th>\n",
       "      <th>count</th>\n",
       "      <th>mean</th>\n",
       "      <th>std</th>\n",
       "      <th>min</th>\n",
       "      <th>25%</th>\n",
       "      <th>50%</th>\n",
       "      <th>75%</th>\n",
       "      <th>max</th>\n",
       "    </tr>\n",
       "  </thead>\n",
       "  <tbody>\n",
       "    <tr>\n",
       "      <th>coordinate_X</th>\n",
       "      <td>24834.0</td>\n",
       "      <td>0.000000</td>\n",
       "      <td>0.000000</td>\n",
       "      <td>0.0</td>\n",
       "      <td>0.000000</td>\n",
       "      <td>0.0</td>\n",
       "      <td>0.000000</td>\n",
       "      <td>0.0</td>\n",
       "    </tr>\n",
       "    <tr>\n",
       "      <th>coordinate_Y</th>\n",
       "      <td>24834.0</td>\n",
       "      <td>2.210196</td>\n",
       "      <td>1.436557</td>\n",
       "      <td>0.0</td>\n",
       "      <td>1.000000</td>\n",
       "      <td>2.0</td>\n",
       "      <td>3.500000</td>\n",
       "      <td>4.5</td>\n",
       "    </tr>\n",
       "    <tr>\n",
       "      <th>rssi_Value</th>\n",
       "      <td>24834.0</td>\n",
       "      <td>-76.687243</td>\n",
       "      <td>11.255077</td>\n",
       "      <td>-102.0</td>\n",
       "      <td>-84.000000</td>\n",
       "      <td>-78.0</td>\n",
       "      <td>-73.000000</td>\n",
       "      <td>-46.0</td>\n",
       "    </tr>\n",
       "    <tr>\n",
       "      <th>rolling_mean_rssi</th>\n",
       "      <td>24834.0</td>\n",
       "      <td>-76.677952</td>\n",
       "      <td>10.969519</td>\n",
       "      <td>-99.0</td>\n",
       "      <td>-83.666667</td>\n",
       "      <td>-78.5</td>\n",
       "      <td>-73.767308</td>\n",
       "      <td>-46.0</td>\n",
       "    </tr>\n",
       "    <tr>\n",
       "      <th>distance</th>\n",
       "      <td>24834.0</td>\n",
       "      <td>2.210196</td>\n",
       "      <td>1.436557</td>\n",
       "      <td>0.0</td>\n",
       "      <td>1.000000</td>\n",
       "      <td>2.0</td>\n",
       "      <td>3.500000</td>\n",
       "      <td>4.5</td>\n",
       "    </tr>\n",
       "  </tbody>\n",
       "</table>\n",
       "</div>"
      ],
      "text/plain": [
       "                     count       mean        std    min        25%   50%  \\\n",
       "coordinate_X       24834.0   0.000000   0.000000    0.0   0.000000   0.0   \n",
       "coordinate_Y       24834.0   2.210196   1.436557    0.0   1.000000   2.0   \n",
       "rssi_Value         24834.0 -76.687243  11.255077 -102.0 -84.000000 -78.0   \n",
       "rolling_mean_rssi  24834.0 -76.677952  10.969519  -99.0 -83.666667 -78.5   \n",
       "distance           24834.0   2.210196   1.436557    0.0   1.000000   2.0   \n",
       "\n",
       "                         75%   max  \n",
       "coordinate_X        0.000000   0.0  \n",
       "coordinate_Y        3.500000   4.5  \n",
       "rssi_Value        -73.000000 -46.0  \n",
       "rolling_mean_rssi -73.767308 -46.0  \n",
       "distance            3.500000   4.5  "
      ]
     },
     "metadata": {},
     "output_type": "display_data"
    }
   ],
   "source": [
    "display(dataset.describe().transpose())"
   ]
  },
  {
   "cell_type": "markdown",
   "metadata": {},
   "source": [
    "### % of Missing Values"
   ]
  },
  {
   "cell_type": "code",
   "execution_count": 12,
   "metadata": {},
   "outputs": [],
   "source": [
    "def compute_missing_values(dataset): \n",
    "    missing_values = dataset.isnull().sum()\n",
    "    missing_values_dataset = pd.DataFrame(missing_values,columns=['Missing Values'])\n",
    "    missing_percentage = (dataset.isnull().sum() / dataset.count())\n",
    "    missing_percentage_dataset = pd.DataFrame(missing_percentage,columns=['% of Missing Values'])\n",
    "    missing_dataset = missing_values_dataset.join(missing_percentage_dataset)\n",
    "    display(missing_dataset)"
   ]
  },
  {
   "cell_type": "code",
   "execution_count": 13,
   "metadata": {},
   "outputs": [
    {
     "data": {
      "text/html": [
       "<div>\n",
       "<style scoped>\n",
       "    .dataframe tbody tr th:only-of-type {\n",
       "        vertical-align: middle;\n",
       "    }\n",
       "\n",
       "    .dataframe tbody tr th {\n",
       "        vertical-align: top;\n",
       "    }\n",
       "\n",
       "    .dataframe thead th {\n",
       "        text-align: right;\n",
       "    }\n",
       "</style>\n",
       "<table border=\"1\" class=\"dataframe\">\n",
       "  <thead>\n",
       "    <tr style=\"text-align: right;\">\n",
       "      <th></th>\n",
       "      <th>Missing Values</th>\n",
       "      <th>% of Missing Values</th>\n",
       "    </tr>\n",
       "  </thead>\n",
       "  <tbody>\n",
       "    <tr>\n",
       "      <th>coordinate_X</th>\n",
       "      <td>0</td>\n",
       "      <td>0.0</td>\n",
       "    </tr>\n",
       "    <tr>\n",
       "      <th>coordinate_Y</th>\n",
       "      <td>0</td>\n",
       "      <td>0.0</td>\n",
       "    </tr>\n",
       "    <tr>\n",
       "      <th>rssi_Value</th>\n",
       "      <td>0</td>\n",
       "      <td>0.0</td>\n",
       "    </tr>\n",
       "    <tr>\n",
       "      <th>rolling_mean_rssi</th>\n",
       "      <td>0</td>\n",
       "      <td>0.0</td>\n",
       "    </tr>\n",
       "    <tr>\n",
       "      <th>zone</th>\n",
       "      <td>0</td>\n",
       "      <td>0.0</td>\n",
       "    </tr>\n",
       "    <tr>\n",
       "      <th>distance</th>\n",
       "      <td>0</td>\n",
       "      <td>0.0</td>\n",
       "    </tr>\n",
       "  </tbody>\n",
       "</table>\n",
       "</div>"
      ],
      "text/plain": [
       "                   Missing Values  % of Missing Values\n",
       "coordinate_X                    0                  0.0\n",
       "coordinate_Y                    0                  0.0\n",
       "rssi_Value                      0                  0.0\n",
       "rolling_mean_rssi               0                  0.0\n",
       "zone                            0                  0.0\n",
       "distance                        0                  0.0"
      ]
     },
     "metadata": {},
     "output_type": "display_data"
    }
   ],
   "source": [
    "compute_missing_values(dataset)"
   ]
  },
  {
   "cell_type": "markdown",
   "metadata": {},
   "source": [
    "### Overall Histogram of dataset atributes"
   ]
  },
  {
   "cell_type": "code",
   "execution_count": 14,
   "metadata": {},
   "outputs": [
    {
     "data": {
      "image/png": "[encoded data removed]",
      "text/plain": [
       "<Figure size 864x432 with 6 Axes>"
      ]
     },
     "metadata": {},
     "output_type": "display_data"
    }
   ],
   "source": [
    "dataset.hist(bins=50,figsize=(12,6))\n",
    "plt.show()"
   ]
  },
  {
   "cell_type": "markdown",
   "metadata": {},
   "source": [
    "### Target Attribute - Distance\n",
    "Graphical display of the distances beacon/smartphone scanned in the experiment"
   ]
  },
  {
   "cell_type": "code",
   "execution_count": 15,
   "metadata": {},
   "outputs": [
    {
     "data": {
      "text/plain": [
       "<matplotlib.axes._subplots.AxesSubplot at 0x2abbb12c888>"
      ]
     },
     "execution_count": 15,
     "metadata": {},
     "output_type": "execute_result"
    },
    {
     "data": {
      "image/png": "[encoded data removed]",
      "text/plain": [
       "<Figure size 432x288 with 1 Axes>"
      ]
     },
     "metadata": {},
     "output_type": "display_data"
    }
   ],
   "source": [
    "reference_points = dataset.groupby(['distance'])\n",
    "reference_points.size().plot(kind=\"bar\")"
   ]
  },
  {
   "cell_type": "markdown",
   "metadata": {},
   "source": [
    "### Beacon RSSI Display\n",
    "Graphical display of the rssi values recorded at each position"
   ]
  },
  {
   "cell_type": "code",
   "execution_count": 16,
   "metadata": {},
   "outputs": [
    {
     "data": {
      "image/png": "[encoded data removed]",
      "text/plain": [
       "<Figure size 432x216 with 1 Axes>"
      ]
     },
     "metadata": {},
     "output_type": "display_data"
    }
   ],
   "source": [
    "plt.figure(figsize=(6,3))\n",
    "# Title\n",
    "plt.title('RSSI Probability Distribution')\n",
    "\n",
    "sns.distplot(dataset['rssi_Value'])\n",
    "# The X Label\n",
    "plt.xlabel('RSSI (dB)')\n",
    "# The Y Label\n",
    "plt.ylabel('Probability')\n",
    "# Show the plot\n",
    "plt.show()"
   ]
  },
  {
   "cell_type": "markdown",
   "metadata": {},
   "source": [
    "### Beacon Rolling Mean RSSI Display\n",
    "Graphical adisplay of the rolling mean value recorded at each position"
   ]
  },
  {
   "cell_type": "code",
   "execution_count": 17,
   "metadata": {},
   "outputs": [
    {
     "data": {
      "image/png": "[encoded data removed]",
      "text/plain": [
       "<Figure size 432x216 with 1 Axes>"
      ]
     },
     "metadata": {},
     "output_type": "display_data"
    }
   ],
   "source": [
    "plt.figure(figsize=(6,3))\n",
    "# Title\n",
    "plt.title('RSSI Rolling Mean Probability Distribution')\n",
    "# The KDE plot for the Rolling Mean column\n",
    "sns.distplot(dataset['rolling_mean_rssi'])\n",
    "# The X Label\n",
    "plt.xlabel('RSSI (dB)')\n",
    "# The Y Label\n",
    "plt.ylabel('Probability')\n",
    "# Show the plot\n",
    "plt.show()"
   ]
  },
  {
   "cell_type": "markdown",
   "metadata": {},
   "source": [
    "### Graphical Display of RSSI/Rolling Mean Distribution\n",
    "Graphical display of the previous measures - rssi and rolling mean"
   ]
  },
  {
   "cell_type": "code",
   "execution_count": 18,
   "metadata": {},
   "outputs": [
    {
     "data": {
      "image/png": "[encoded data removed]",
      "text/plain": [
       "<Figure size 432x216 with 1 Axes>"
      ]
     },
     "metadata": {},
     "output_type": "display_data"
    }
   ],
   "source": [
    "plt.figure(figsize=(6,3))\n",
    "# Title\n",
    "plt.title('RSSI Probability Distribution')\n",
    "# The KDE plot for the RSSI column\n",
    "sns.kdeplot(dataset['rssi_Value'], label='RSSI')\n",
    "# The KDE plot for the Rolling Mean column\n",
    "sns.kdeplot(dataset['rolling_mean_rssi'], label='Rolling Mean RSSI')\n",
    "# The X Label\n",
    "plt.xlabel('RSSI (dB)')\n",
    "# The Y Label\n",
    "plt.ylabel('Probability')\n",
    "# Show the plot\n",
    "plt.show()"
   ]
  },
  {
   "cell_type": "markdown",
   "metadata": {},
   "source": [
    "### Correlations\n",
    "Check how much each attribute collerates with each other. Valures frange from -1 to 1. Close to 1 means a strong positive correlation."
   ]
  },
  {
   "cell_type": "code",
   "execution_count": 19,
   "metadata": {},
   "outputs": [],
   "source": [
    "def compute_correlations(dataset):\n",
    "    corr_matrix = dataset.corr()\n",
    "    display(corr_matrix)\n",
    "    display(corr_matrix['distance'].sort_values(ascending=False))\n",
    "    attributes = [\"distance\",\"rssi_Value\", \"rolling_mean_rssi\"]\n",
    "    scatter_matrix(dataset[attributes], figsize=(12, 8))"
   ]
  },
  {
   "cell_type": "code",
   "execution_count": 20,
   "metadata": {},
   "outputs": [
    {
     "data": {
      "text/html": [
       "<div>\n",
       "<style scoped>\n",
       "    .dataframe tbody tr th:only-of-type {\n",
       "        vertical-align: middle;\n",
       "    }\n",
       "\n",
       "    .dataframe tbody tr th {\n",
       "        vertical-align: top;\n",
       "    }\n",
       "\n",
       "    .dataframe thead th {\n",
       "        text-align: right;\n",
       "    }\n",
       "</style>\n",
       "<table border=\"1\" class=\"dataframe\">\n",
       "  <thead>\n",
       "    <tr style=\"text-align: right;\">\n",
       "      <th></th>\n",
       "      <th>coordinate_X</th>\n",
       "      <th>coordinate_Y</th>\n",
       "      <th>rssi_Value</th>\n",
       "      <th>rolling_mean_rssi</th>\n",
       "      <th>distance</th>\n",
       "    </tr>\n",
       "  </thead>\n",
       "  <tbody>\n",
       "    <tr>\n",
       "      <th>coordinate_X</th>\n",
       "      <td>NaN</td>\n",
       "      <td>NaN</td>\n",
       "      <td>NaN</td>\n",
       "      <td>NaN</td>\n",
       "      <td>NaN</td>\n",
       "    </tr>\n",
       "    <tr>\n",
       "      <th>coordinate_Y</th>\n",
       "      <td>NaN</td>\n",
       "      <td>1.000000</td>\n",
       "      <td>-0.723705</td>\n",
       "      <td>-0.741381</td>\n",
       "      <td>1.000000</td>\n",
       "    </tr>\n",
       "    <tr>\n",
       "      <th>rssi_Value</th>\n",
       "      <td>NaN</td>\n",
       "      <td>-0.723705</td>\n",
       "      <td>1.000000</td>\n",
       "      <td>0.958999</td>\n",
       "      <td>-0.723705</td>\n",
       "    </tr>\n",
       "    <tr>\n",
       "      <th>rolling_mean_rssi</th>\n",
       "      <td>NaN</td>\n",
       "      <td>-0.741381</td>\n",
       "      <td>0.958999</td>\n",
       "      <td>1.000000</td>\n",
       "      <td>-0.741381</td>\n",
       "    </tr>\n",
       "    <tr>\n",
       "      <th>distance</th>\n",
       "      <td>NaN</td>\n",
       "      <td>1.000000</td>\n",
       "      <td>-0.723705</td>\n",
       "      <td>-0.741381</td>\n",
       "      <td>1.000000</td>\n",
       "    </tr>\n",
       "  </tbody>\n",
       "</table>\n",
       "</div>"
      ],
      "text/plain": [
       "                   coordinate_X  coordinate_Y  rssi_Value  rolling_mean_rssi  \\\n",
       "coordinate_X                NaN           NaN         NaN                NaN   \n",
       "coordinate_Y                NaN      1.000000   -0.723705          -0.741381   \n",
       "rssi_Value                  NaN     -0.723705    1.000000           0.958999   \n",
       "rolling_mean_rssi           NaN     -0.741381    0.958999           1.000000   \n",
       "distance                    NaN      1.000000   -0.723705          -0.741381   \n",
       "\n",
       "                   distance  \n",
       "coordinate_X            NaN  \n",
       "coordinate_Y       1.000000  \n",
       "rssi_Value        -0.723705  \n",
       "rolling_mean_rssi -0.741381  \n",
       "distance           1.000000  "
      ]
     },
     "metadata": {},
     "output_type": "display_data"
    },
    {
     "data": {
      "text/plain": [
       "distance             1.000000\n",
       "coordinate_Y         1.000000\n",
       "rssi_Value          -0.723705\n",
       "rolling_mean_rssi   -0.741381\n",
       "coordinate_X              NaN\n",
       "Name: distance, dtype: float64"
      ]
     },
     "metadata": {},
     "output_type": "display_data"
    },
    {
     "data": {
      "image/png": "[encoded data removed]",
      "text/plain": [
       "<Figure size 864x576 with 9 Axes>"
      ]
     },
     "metadata": {},
     "output_type": "display_data"
    }
   ],
   "source": [
    "compute_correlations(dataset)"
   ]
  },
  {
   "cell_type": "markdown",
   "metadata": {},
   "source": [
    "### Data Cleaning\n",
    "Fill in missing values and fix/remove outliers"
   ]
  },
  {
   "cell_type": "code",
   "execution_count": 21,
   "metadata": {},
   "outputs": [],
   "source": [
    "def compute_data_cleaning(dataset,feature):\n",
    "    nan_filler = dataset[feature].min()*1.010\n",
    "    dataset[feature] = dataset[feature].fillna(nan_filler) # Fill missing values"
   ]
  },
  {
   "cell_type": "code",
   "execution_count": 22,
   "metadata": {},
   "outputs": [],
   "source": [
    "compute_data_cleaning(dataset,'rssi_Value')\n",
    "compute_data_cleaning(dataset,'rolling_mean_rssi')\n",
    "compute_data_cleaning(test_dataset,'rssi_Value')\n",
    "compute_data_cleaning(test_dataset,'rolling_mean_rssi')\n",
    "compute_data_cleaning(test_dataset_home_big,'rssi_Value')\n",
    "compute_data_cleaning(test_dataset_home_big,'rolling_mean_rssi')\n",
    "compute_data_cleaning(test_dataset_home_small,'rssi_Value')\n",
    "compute_data_cleaning(test_dataset_home_small,'rolling_mean_rssi')\n",
    "compute_data_cleaning(test_dataset_home_asus,'rssi_Value')\n",
    "compute_data_cleaning(test_dataset_home_asus,'rolling_mean_rssi')"
   ]
  },
  {
   "cell_type": "markdown",
   "metadata": {},
   "source": [
    "### Dealing with Categorical Data\n",
    "Using Hot-Encoder or Label Encoder to convert text/categorical data into numerical data. ML algorithms prefer it"
   ]
  },
  {
   "cell_type": "code",
   "execution_count": 23,
   "metadata": {},
   "outputs": [],
   "source": [
    "label_encoder = LabelEncoder()\n",
    "def compute_encoder(categorical_data,flag):\n",
    "    if flag == 0:\n",
    "        labels = label_encoder.fit_transform(categorical_data)\n",
    "    else:\n",
    "        labels = label_encoder.transform(categorical_data)\n",
    "    return labels"
   ]
  },
  {
   "cell_type": "code",
   "execution_count": 24,
   "metadata": {},
   "outputs": [
    {
     "name": "stdout",
     "output_type": "stream",
     "text": [
      "Previous Categorical Data\n"
     ]
    },
    {
     "data": {
      "text/html": [
       "<div>\n",
       "<style scoped>\n",
       "    .dataframe tbody tr th:only-of-type {\n",
       "        vertical-align: middle;\n",
       "    }\n",
       "\n",
       "    .dataframe tbody tr th {\n",
       "        vertical-align: top;\n",
       "    }\n",
       "\n",
       "    .dataframe thead th {\n",
       "        text-align: right;\n",
       "    }\n",
       "</style>\n",
       "<table border=\"1\" class=\"dataframe\">\n",
       "  <thead>\n",
       "    <tr style=\"text-align: right;\">\n",
       "      <th></th>\n",
       "      <th>zone</th>\n",
       "    </tr>\n",
       "  </thead>\n",
       "  <tbody>\n",
       "    <tr>\n",
       "      <th>0</th>\n",
       "      <td>Personal</td>\n",
       "    </tr>\n",
       "    <tr>\n",
       "      <th>1</th>\n",
       "      <td>Personal</td>\n",
       "    </tr>\n",
       "    <tr>\n",
       "      <th>2</th>\n",
       "      <td>Personal</td>\n",
       "    </tr>\n",
       "    <tr>\n",
       "      <th>3</th>\n",
       "      <td>Personal</td>\n",
       "    </tr>\n",
       "    <tr>\n",
       "      <th>4</th>\n",
       "      <td>Personal</td>\n",
       "    </tr>\n",
       "    <tr>\n",
       "      <th>...</th>\n",
       "      <td>...</td>\n",
       "    </tr>\n",
       "    <tr>\n",
       "      <th>24829</th>\n",
       "      <td>Public</td>\n",
       "    </tr>\n",
       "    <tr>\n",
       "      <th>24830</th>\n",
       "      <td>Public</td>\n",
       "    </tr>\n",
       "    <tr>\n",
       "      <th>24831</th>\n",
       "      <td>Public</td>\n",
       "    </tr>\n",
       "    <tr>\n",
       "      <th>24832</th>\n",
       "      <td>Public</td>\n",
       "    </tr>\n",
       "    <tr>\n",
       "      <th>24833</th>\n",
       "      <td>Public</td>\n",
       "    </tr>\n",
       "  </tbody>\n",
       "</table>\n",
       "<p>24834 rows × 1 columns</p>\n",
       "</div>"
      ],
      "text/plain": [
       "           zone\n",
       "0      Personal\n",
       "1      Personal\n",
       "2      Personal\n",
       "3      Personal\n",
       "4      Personal\n",
       "...         ...\n",
       "24829    Public\n",
       "24830    Public\n",
       "24831    Public\n",
       "24832    Public\n",
       "24833    Public\n",
       "\n",
       "[24834 rows x 1 columns]"
      ]
     },
     "metadata": {},
     "output_type": "display_data"
    },
    {
     "name": "stdout",
     "output_type": "stream",
     "text": [
      "After One Hot Encoder\n"
     ]
    },
    {
     "name": "stderr",
     "output_type": "stream",
     "text": [
      "D:\\Programs\\Anaconda\\lib\\site-packages\\sklearn\\preprocessing\\_label.py:251: DataConversionWarning: A column-vector y was passed when a 1d array was expected. Please change the shape of y to (n_samples, ), for example using ravel().\n",
      "  y = column_or_1d(y, warn=True)\n"
     ]
    }
   ],
   "source": [
    "categorical_zone = dataset[['zone']]\n",
    "print(\"Previous Categorical Data\")\n",
    "display(categorical_zone)\n",
    "zone_changed = compute_encoder(categorical_zone,0)\n",
    "print(\"After One Hot Encoder\")\n",
    "dataset['labels'] = zone_changed"
   ]
  },
  {
   "cell_type": "code",
   "execution_count": 25,
   "metadata": {},
   "outputs": [
    {
     "name": "stdout",
     "output_type": "stream",
     "text": [
      "Previous Categorical Data\n"
     ]
    },
    {
     "data": {
      "text/html": [
       "<div>\n",
       "<style scoped>\n",
       "    .dataframe tbody tr th:only-of-type {\n",
       "        vertical-align: middle;\n",
       "    }\n",
       "\n",
       "    .dataframe tbody tr th {\n",
       "        vertical-align: top;\n",
       "    }\n",
       "\n",
       "    .dataframe thead th {\n",
       "        text-align: right;\n",
       "    }\n",
       "</style>\n",
       "<table border=\"1\" class=\"dataframe\">\n",
       "  <thead>\n",
       "    <tr style=\"text-align: right;\">\n",
       "      <th></th>\n",
       "      <th>zone</th>\n",
       "    </tr>\n",
       "  </thead>\n",
       "  <tbody>\n",
       "    <tr>\n",
       "      <th>0</th>\n",
       "      <td>Public</td>\n",
       "    </tr>\n",
       "    <tr>\n",
       "      <th>1</th>\n",
       "      <td>Public</td>\n",
       "    </tr>\n",
       "    <tr>\n",
       "      <th>2</th>\n",
       "      <td>Public</td>\n",
       "    </tr>\n",
       "    <tr>\n",
       "      <th>3</th>\n",
       "      <td>Public</td>\n",
       "    </tr>\n",
       "    <tr>\n",
       "      <th>4</th>\n",
       "      <td>Public</td>\n",
       "    </tr>\n",
       "    <tr>\n",
       "      <th>...</th>\n",
       "      <td>...</td>\n",
       "    </tr>\n",
       "    <tr>\n",
       "      <th>3672</th>\n",
       "      <td>Personal</td>\n",
       "    </tr>\n",
       "    <tr>\n",
       "      <th>3673</th>\n",
       "      <td>Personal</td>\n",
       "    </tr>\n",
       "    <tr>\n",
       "      <th>3674</th>\n",
       "      <td>Personal</td>\n",
       "    </tr>\n",
       "    <tr>\n",
       "      <th>3675</th>\n",
       "      <td>Personal</td>\n",
       "    </tr>\n",
       "    <tr>\n",
       "      <th>3676</th>\n",
       "      <td>Personal</td>\n",
       "    </tr>\n",
       "  </tbody>\n",
       "</table>\n",
       "<p>3677 rows × 1 columns</p>\n",
       "</div>"
      ],
      "text/plain": [
       "          zone\n",
       "0       Public\n",
       "1       Public\n",
       "2       Public\n",
       "3       Public\n",
       "4       Public\n",
       "...        ...\n",
       "3672  Personal\n",
       "3673  Personal\n",
       "3674  Personal\n",
       "3675  Personal\n",
       "3676  Personal\n",
       "\n",
       "[3677 rows x 1 columns]"
      ]
     },
     "metadata": {},
     "output_type": "display_data"
    },
    {
     "name": "stdout",
     "output_type": "stream",
     "text": [
      "After One Hot Encoder\n"
     ]
    },
    {
     "name": "stderr",
     "output_type": "stream",
     "text": [
      "D:\\Programs\\Anaconda\\lib\\site-packages\\sklearn\\preprocessing\\_label.py:268: DataConversionWarning: A column-vector y was passed when a 1d array was expected. Please change the shape of y to (n_samples, ), for example using ravel().\n",
      "  y = column_or_1d(y, warn=True)\n"
     ]
    }
   ],
   "source": [
    "categorical_zone = test_dataset[['zone']]\n",
    "print(\"Previous Categorical Data\")\n",
    "display(categorical_zone)\n",
    "test_changed = compute_encoder(categorical_zone,1)\n",
    "print(\"After One Hot Encoder\")\n",
    "test_dataset['labels'] = test_changed"
   ]
  },
  {
   "cell_type": "code",
   "execution_count": 26,
   "metadata": {},
   "outputs": [
    {
     "name": "stdout",
     "output_type": "stream",
     "text": [
      "Previous Categorical Data\n"
     ]
    },
    {
     "data": {
      "text/html": [
       "<div>\n",
       "<style scoped>\n",
       "    .dataframe tbody tr th:only-of-type {\n",
       "        vertical-align: middle;\n",
       "    }\n",
       "\n",
       "    .dataframe tbody tr th {\n",
       "        vertical-align: top;\n",
       "    }\n",
       "\n",
       "    .dataframe thead th {\n",
       "        text-align: right;\n",
       "    }\n",
       "</style>\n",
       "<table border=\"1\" class=\"dataframe\">\n",
       "  <thead>\n",
       "    <tr style=\"text-align: right;\">\n",
       "      <th></th>\n",
       "      <th>zone</th>\n",
       "    </tr>\n",
       "  </thead>\n",
       "  <tbody>\n",
       "    <tr>\n",
       "      <th>0</th>\n",
       "      <td>Personal</td>\n",
       "    </tr>\n",
       "    <tr>\n",
       "      <th>1</th>\n",
       "      <td>Personal</td>\n",
       "    </tr>\n",
       "    <tr>\n",
       "      <th>2</th>\n",
       "      <td>Personal</td>\n",
       "    </tr>\n",
       "    <tr>\n",
       "      <th>3</th>\n",
       "      <td>Personal</td>\n",
       "    </tr>\n",
       "    <tr>\n",
       "      <th>4</th>\n",
       "      <td>Personal</td>\n",
       "    </tr>\n",
       "    <tr>\n",
       "      <th>...</th>\n",
       "      <td>...</td>\n",
       "    </tr>\n",
       "    <tr>\n",
       "      <th>12470</th>\n",
       "      <td>Social</td>\n",
       "    </tr>\n",
       "    <tr>\n",
       "      <th>12471</th>\n",
       "      <td>Social</td>\n",
       "    </tr>\n",
       "    <tr>\n",
       "      <th>12472</th>\n",
       "      <td>Social</td>\n",
       "    </tr>\n",
       "    <tr>\n",
       "      <th>12473</th>\n",
       "      <td>Social</td>\n",
       "    </tr>\n",
       "    <tr>\n",
       "      <th>12474</th>\n",
       "      <td>Social</td>\n",
       "    </tr>\n",
       "  </tbody>\n",
       "</table>\n",
       "<p>12475 rows × 1 columns</p>\n",
       "</div>"
      ],
      "text/plain": [
       "           zone\n",
       "0      Personal\n",
       "1      Personal\n",
       "2      Personal\n",
       "3      Personal\n",
       "4      Personal\n",
       "...         ...\n",
       "12470    Social\n",
       "12471    Social\n",
       "12472    Social\n",
       "12473    Social\n",
       "12474    Social\n",
       "\n",
       "[12475 rows x 1 columns]"
      ]
     },
     "metadata": {},
     "output_type": "display_data"
    },
    {
     "name": "stdout",
     "output_type": "stream",
     "text": [
      "After One Hot Encoder\n"
     ]
    },
    {
     "name": "stderr",
     "output_type": "stream",
     "text": [
      "D:\\Programs\\Anaconda\\lib\\site-packages\\sklearn\\preprocessing\\_label.py:268: DataConversionWarning: A column-vector y was passed when a 1d array was expected. Please change the shape of y to (n_samples, ), for example using ravel().\n",
      "  y = column_or_1d(y, warn=True)\n"
     ]
    }
   ],
   "source": [
    "categorical_zone = test_dataset_home_big[['zone']]\n",
    "print(\"Previous Categorical Data\")\n",
    "display(categorical_zone)\n",
    "test_changed = compute_encoder(categorical_zone,1)\n",
    "print(\"After One Hot Encoder\")\n",
    "test_dataset_home_big['labels'] = test_changed"
   ]
  },
  {
   "cell_type": "code",
   "execution_count": 27,
   "metadata": {},
   "outputs": [
    {
     "name": "stdout",
     "output_type": "stream",
     "text": [
      "Previous Categorical Data\n"
     ]
    },
    {
     "data": {
      "text/html": [
       "<div>\n",
       "<style scoped>\n",
       "    .dataframe tbody tr th:only-of-type {\n",
       "        vertical-align: middle;\n",
       "    }\n",
       "\n",
       "    .dataframe tbody tr th {\n",
       "        vertical-align: top;\n",
       "    }\n",
       "\n",
       "    .dataframe thead th {\n",
       "        text-align: right;\n",
       "    }\n",
       "</style>\n",
       "<table border=\"1\" class=\"dataframe\">\n",
       "  <thead>\n",
       "    <tr style=\"text-align: right;\">\n",
       "      <th></th>\n",
       "      <th>zone</th>\n",
       "    </tr>\n",
       "  </thead>\n",
       "  <tbody>\n",
       "    <tr>\n",
       "      <th>0</th>\n",
       "      <td>Personal</td>\n",
       "    </tr>\n",
       "    <tr>\n",
       "      <th>1</th>\n",
       "      <td>Personal</td>\n",
       "    </tr>\n",
       "    <tr>\n",
       "      <th>2</th>\n",
       "      <td>Personal</td>\n",
       "    </tr>\n",
       "    <tr>\n",
       "      <th>3</th>\n",
       "      <td>Personal</td>\n",
       "    </tr>\n",
       "    <tr>\n",
       "      <th>4</th>\n",
       "      <td>Personal</td>\n",
       "    </tr>\n",
       "    <tr>\n",
       "      <th>...</th>\n",
       "      <td>...</td>\n",
       "    </tr>\n",
       "    <tr>\n",
       "      <th>2279</th>\n",
       "      <td>Social</td>\n",
       "    </tr>\n",
       "    <tr>\n",
       "      <th>2280</th>\n",
       "      <td>Social</td>\n",
       "    </tr>\n",
       "    <tr>\n",
       "      <th>2281</th>\n",
       "      <td>Social</td>\n",
       "    </tr>\n",
       "    <tr>\n",
       "      <th>2282</th>\n",
       "      <td>Social</td>\n",
       "    </tr>\n",
       "    <tr>\n",
       "      <th>2283</th>\n",
       "      <td>Social</td>\n",
       "    </tr>\n",
       "  </tbody>\n",
       "</table>\n",
       "<p>2284 rows × 1 columns</p>\n",
       "</div>"
      ],
      "text/plain": [
       "          zone\n",
       "0     Personal\n",
       "1     Personal\n",
       "2     Personal\n",
       "3     Personal\n",
       "4     Personal\n",
       "...        ...\n",
       "2279    Social\n",
       "2280    Social\n",
       "2281    Social\n",
       "2282    Social\n",
       "2283    Social\n",
       "\n",
       "[2284 rows x 1 columns]"
      ]
     },
     "metadata": {},
     "output_type": "display_data"
    },
    {
     "name": "stdout",
     "output_type": "stream",
     "text": [
      "After One Hot Encoder\n"
     ]
    },
    {
     "name": "stderr",
     "output_type": "stream",
     "text": [
      "D:\\Programs\\Anaconda\\lib\\site-packages\\sklearn\\preprocessing\\_label.py:268: DataConversionWarning: A column-vector y was passed when a 1d array was expected. Please change the shape of y to (n_samples, ), for example using ravel().\n",
      "  y = column_or_1d(y, warn=True)\n"
     ]
    }
   ],
   "source": [
    "categorical_zone = test_dataset_home_small[['zone']]\n",
    "print(\"Previous Categorical Data\")\n",
    "display(categorical_zone)\n",
    "test_changed = compute_encoder(categorical_zone,1)\n",
    "print(\"After One Hot Encoder\")\n",
    "test_dataset_home_small['labels'] = test_changed"
   ]
  },
  {
   "cell_type": "code",
   "execution_count": 28,
   "metadata": {},
   "outputs": [
    {
     "name": "stdout",
     "output_type": "stream",
     "text": [
      "Previous Categorical Data\n"
     ]
    },
    {
     "data": {
      "text/html": [
       "<div>\n",
       "<style scoped>\n",
       "    .dataframe tbody tr th:only-of-type {\n",
       "        vertical-align: middle;\n",
       "    }\n",
       "\n",
       "    .dataframe tbody tr th {\n",
       "        vertical-align: top;\n",
       "    }\n",
       "\n",
       "    .dataframe thead th {\n",
       "        text-align: right;\n",
       "    }\n",
       "</style>\n",
       "<table border=\"1\" class=\"dataframe\">\n",
       "  <thead>\n",
       "    <tr style=\"text-align: right;\">\n",
       "      <th></th>\n",
       "      <th>zone</th>\n",
       "    </tr>\n",
       "  </thead>\n",
       "  <tbody>\n",
       "    <tr>\n",
       "      <th>0</th>\n",
       "      <td>Personal</td>\n",
       "    </tr>\n",
       "    <tr>\n",
       "      <th>1</th>\n",
       "      <td>Personal</td>\n",
       "    </tr>\n",
       "    <tr>\n",
       "      <th>2</th>\n",
       "      <td>Personal</td>\n",
       "    </tr>\n",
       "    <tr>\n",
       "      <th>3</th>\n",
       "      <td>Personal</td>\n",
       "    </tr>\n",
       "    <tr>\n",
       "      <th>4</th>\n",
       "      <td>Personal</td>\n",
       "    </tr>\n",
       "    <tr>\n",
       "      <th>...</th>\n",
       "      <td>...</td>\n",
       "    </tr>\n",
       "    <tr>\n",
       "      <th>410</th>\n",
       "      <td>Social</td>\n",
       "    </tr>\n",
       "    <tr>\n",
       "      <th>411</th>\n",
       "      <td>Social</td>\n",
       "    </tr>\n",
       "    <tr>\n",
       "      <th>412</th>\n",
       "      <td>Social</td>\n",
       "    </tr>\n",
       "    <tr>\n",
       "      <th>413</th>\n",
       "      <td>Social</td>\n",
       "    </tr>\n",
       "    <tr>\n",
       "      <th>414</th>\n",
       "      <td>Social</td>\n",
       "    </tr>\n",
       "  </tbody>\n",
       "</table>\n",
       "<p>415 rows × 1 columns</p>\n",
       "</div>"
      ],
      "text/plain": [
       "         zone\n",
       "0    Personal\n",
       "1    Personal\n",
       "2    Personal\n",
       "3    Personal\n",
       "4    Personal\n",
       "..        ...\n",
       "410    Social\n",
       "411    Social\n",
       "412    Social\n",
       "413    Social\n",
       "414    Social\n",
       "\n",
       "[415 rows x 1 columns]"
      ]
     },
     "metadata": {},
     "output_type": "display_data"
    },
    {
     "name": "stdout",
     "output_type": "stream",
     "text": [
      "After One Hot Encoder\n"
     ]
    },
    {
     "name": "stderr",
     "output_type": "stream",
     "text": [
      "D:\\Programs\\Anaconda\\lib\\site-packages\\sklearn\\preprocessing\\_label.py:268: DataConversionWarning: A column-vector y was passed when a 1d array was expected. Please change the shape of y to (n_samples, ), for example using ravel().\n",
      "  y = column_or_1d(y, warn=True)\n"
     ]
    }
   ],
   "source": [
    "categorical_zone = test_dataset_home_asus[['zone']]\n",
    "print(\"Previous Categorical Data\")\n",
    "display(categorical_zone)\n",
    "test_changed = compute_encoder(categorical_zone,1)\n",
    "print(\"After One Hot Encoder\")\n",
    "test_dataset_home_asus['labels'] = test_changed"
   ]
  },
  {
   "cell_type": "markdown",
   "metadata": {},
   "source": [
    "### Initialize Training Data\n",
    "Training Data intialization for predictions purposes"
   ]
  },
  {
   "cell_type": "code",
   "execution_count": 29,
   "metadata": {},
   "outputs": [
    {
     "data": {
      "text/plain": [
       "(24834, 1)"
      ]
     },
     "metadata": {},
     "output_type": "display_data"
    },
    {
     "data": {
      "text/plain": [
       "(24834, 1)"
      ]
     },
     "metadata": {},
     "output_type": "display_data"
    },
    {
     "data": {
      "text/plain": [
       "(24834, 2)"
      ]
     },
     "metadata": {},
     "output_type": "display_data"
    }
   ],
   "source": [
    "train_X_rssi = pd.DataFrame(dataset['rssi_Value']).values.reshape(-1,1)\n",
    "display(train_X_rssi.shape)\n",
    "train_X_rolling_mean = pd.DataFrame(dataset['rolling_mean_rssi']).values.reshape(-1,1)\n",
    "display(train_X_rolling_mean.shape)\n",
    "combination_features_X = dataset[['rssi_Value','rolling_mean_rssi']]\n",
    "display(combination_features_X.shape)\n",
    "default_groups = dataset['labels'].values.reshape(-1,1)"
   ]
  },
  {
   "cell_type": "code",
   "execution_count": 30,
   "metadata": {},
   "outputs": [
    {
     "data": {
      "text/plain": [
       "(24834, 1)"
      ]
     },
     "metadata": {},
     "output_type": "display_data"
    }
   ],
   "source": [
    "train_Y = pd.DataFrame(dataset['distance']).values.reshape(-1,1)\n",
    "display(train_Y.shape)"
   ]
  },
  {
   "cell_type": "code",
   "execution_count": 31,
   "metadata": {},
   "outputs": [
    {
     "data": {
      "text/html": [
       "<div>\n",
       "<style scoped>\n",
       "    .dataframe tbody tr th:only-of-type {\n",
       "        vertical-align: middle;\n",
       "    }\n",
       "\n",
       "    .dataframe tbody tr th {\n",
       "        vertical-align: top;\n",
       "    }\n",
       "\n",
       "    .dataframe thead th {\n",
       "        text-align: right;\n",
       "    }\n",
       "</style>\n",
       "<table border=\"1\" class=\"dataframe\">\n",
       "  <thead>\n",
       "    <tr style=\"text-align: right;\">\n",
       "      <th></th>\n",
       "      <th>rssi_Value</th>\n",
       "      <th>rolling_mean_rssi</th>\n",
       "    </tr>\n",
       "    <tr>\n",
       "      <th>distance</th>\n",
       "      <th></th>\n",
       "      <th></th>\n",
       "    </tr>\n",
       "  </thead>\n",
       "  <tbody>\n",
       "    <tr>\n",
       "      <th>0.0</th>\n",
       "      <td>-48.351984</td>\n",
       "      <td>-48.325565</td>\n",
       "    </tr>\n",
       "    <tr>\n",
       "      <th>0.5</th>\n",
       "      <td>-75.304314</td>\n",
       "      <td>-75.253245</td>\n",
       "    </tr>\n",
       "    <tr>\n",
       "      <th>1.0</th>\n",
       "      <td>-74.156908</td>\n",
       "      <td>-74.155786</td>\n",
       "    </tr>\n",
       "    <tr>\n",
       "      <th>1.5</th>\n",
       "      <td>-78.266151</td>\n",
       "      <td>-78.279493</td>\n",
       "    </tr>\n",
       "    <tr>\n",
       "      <th>2.0</th>\n",
       "      <td>-74.711171</td>\n",
       "      <td>-74.732949</td>\n",
       "    </tr>\n",
       "    <tr>\n",
       "      <th>2.5</th>\n",
       "      <td>-82.396866</td>\n",
       "      <td>-82.373984</td>\n",
       "    </tr>\n",
       "    <tr>\n",
       "      <th>3.0</th>\n",
       "      <td>-79.297379</td>\n",
       "      <td>-79.557064</td>\n",
       "    </tr>\n",
       "    <tr>\n",
       "      <th>3.5</th>\n",
       "      <td>-86.335602</td>\n",
       "      <td>-86.250861</td>\n",
       "    </tr>\n",
       "    <tr>\n",
       "      <th>4.0</th>\n",
       "      <td>-84.817666</td>\n",
       "      <td>-84.750632</td>\n",
       "    </tr>\n",
       "    <tr>\n",
       "      <th>4.5</th>\n",
       "      <td>-85.091660</td>\n",
       "      <td>-84.964964</td>\n",
       "    </tr>\n",
       "  </tbody>\n",
       "</table>\n",
       "</div>"
      ],
      "text/plain": [
       "          rssi_Value  rolling_mean_rssi\n",
       "distance                               \n",
       "0.0       -48.351984         -48.325565\n",
       "0.5       -75.304314         -75.253245\n",
       "1.0       -74.156908         -74.155786\n",
       "1.5       -78.266151         -78.279493\n",
       "2.0       -74.711171         -74.732949\n",
       "2.5       -82.396866         -82.373984\n",
       "3.0       -79.297379         -79.557064\n",
       "3.5       -86.335602         -86.250861\n",
       "4.0       -84.817666         -84.750632\n",
       "4.5       -85.091660         -84.964964"
      ]
     },
     "metadata": {},
     "output_type": "display_data"
    }
   ],
   "source": [
    "data_plot_means = dataset.groupby(['distance'])[['rssi_Value','rolling_mean_rssi']].mean()\n",
    "display(data_plot_means)"
   ]
  },
  {
   "cell_type": "markdown",
   "metadata": {},
   "source": [
    "### Plot Training Data\n",
    "Graphical Display of the observations in the dataset"
   ]
  },
  {
   "cell_type": "code",
   "execution_count": 32,
   "metadata": {},
   "outputs": [
    {
     "data": {
      "image/png": "[encoded data removed]",
      "text/plain": [
       "<Figure size 1008x360 with 1 Axes>"
      ]
     },
     "metadata": {},
     "output_type": "display_data"
    }
   ],
   "source": [
    "plt.figure(figsize=(14,5))\n",
    "plt.scatter(dataset['distance'],dataset['rssi_Value'],label='RSSI Value',color='blue')\n",
    "plt.scatter(dataset['distance'],dataset['rolling_mean_rssi'],label='Rolling Mean RSSI Value',color='orange')\n",
    "plt.title('Observations')  \n",
    "plt.xlabel('Zone')  \n",
    "plt.ylabel('RSSI(dB)')  \n",
    "plt.legend(loc='upper right');\n",
    "plt.show()"
   ]
  },
  {
   "cell_type": "markdown",
   "metadata": {},
   "source": [
    "### Initialize Test Data"
   ]
  },
  {
   "cell_type": "code",
   "execution_count": 33,
   "metadata": {},
   "outputs": [
    {
     "data": {
      "text/plain": [
       "(3677, 1)"
      ]
     },
     "metadata": {},
     "output_type": "display_data"
    },
    {
     "data": {
      "text/plain": [
       "(3677, 1)"
      ]
     },
     "metadata": {},
     "output_type": "display_data"
    },
    {
     "data": {
      "text/plain": [
       "(3677, 2)"
      ]
     },
     "metadata": {},
     "output_type": "display_data"
    }
   ],
   "source": [
    "test_X_rssi = pd.DataFrame(test_dataset['rssi_Value']).values.reshape(-1,1)\n",
    "display(test_X_rssi.shape)\n",
    "test_X_rolling_mean = pd.DataFrame(test_dataset['rolling_mean_rssi']).values.reshape(-1,1)\n",
    "display(test_X_rolling_mean.shape)\n",
    "test_combination_features_X = test_dataset[['rssi_Value','rolling_mean_rssi']]\n",
    "display(test_combination_features_X.shape)"
   ]
  },
  {
   "cell_type": "code",
   "execution_count": 34,
   "metadata": {},
   "outputs": [
    {
     "data": {
      "text/plain": [
       "(3677, 1)"
      ]
     },
     "metadata": {},
     "output_type": "display_data"
    }
   ],
   "source": [
    "test_Y = pd.DataFrame(test_dataset['distance']).values.reshape(-1,1)\n",
    "display(test_Y.shape)"
   ]
  },
  {
   "cell_type": "code",
   "execution_count": 35,
   "metadata": {},
   "outputs": [
    {
     "data": {
      "text/html": [
       "<div>\n",
       "<style scoped>\n",
       "    .dataframe tbody tr th:only-of-type {\n",
       "        vertical-align: middle;\n",
       "    }\n",
       "\n",
       "    .dataframe tbody tr th {\n",
       "        vertical-align: top;\n",
       "    }\n",
       "\n",
       "    .dataframe thead th {\n",
       "        text-align: right;\n",
       "    }\n",
       "</style>\n",
       "<table border=\"1\" class=\"dataframe\">\n",
       "  <thead>\n",
       "    <tr style=\"text-align: right;\">\n",
       "      <th></th>\n",
       "      <th>rssi_Value</th>\n",
       "      <th>rolling_mean_rssi</th>\n",
       "    </tr>\n",
       "    <tr>\n",
       "      <th>distance</th>\n",
       "      <th></th>\n",
       "      <th></th>\n",
       "    </tr>\n",
       "  </thead>\n",
       "  <tbody>\n",
       "    <tr>\n",
       "      <th>0.0</th>\n",
       "      <td>-57.010811</td>\n",
       "      <td>-56.935533</td>\n",
       "    </tr>\n",
       "    <tr>\n",
       "      <th>0.5</th>\n",
       "      <td>-67.061170</td>\n",
       "      <td>-66.866788</td>\n",
       "    </tr>\n",
       "    <tr>\n",
       "      <th>1.0</th>\n",
       "      <td>-75.950685</td>\n",
       "      <td>-76.102343</td>\n",
       "    </tr>\n",
       "    <tr>\n",
       "      <th>1.5</th>\n",
       "      <td>-74.568783</td>\n",
       "      <td>-74.328086</td>\n",
       "    </tr>\n",
       "    <tr>\n",
       "      <th>2.0</th>\n",
       "      <td>-79.493151</td>\n",
       "      <td>-79.722828</td>\n",
       "    </tr>\n",
       "    <tr>\n",
       "      <th>2.5</th>\n",
       "      <td>-76.904891</td>\n",
       "      <td>-76.593561</td>\n",
       "    </tr>\n",
       "    <tr>\n",
       "      <th>3.0</th>\n",
       "      <td>-79.255376</td>\n",
       "      <td>-79.142332</td>\n",
       "    </tr>\n",
       "    <tr>\n",
       "      <th>3.5</th>\n",
       "      <td>-81.024194</td>\n",
       "      <td>-80.634009</td>\n",
       "    </tr>\n",
       "    <tr>\n",
       "      <th>4.0</th>\n",
       "      <td>-80.708108</td>\n",
       "      <td>-80.924987</td>\n",
       "    </tr>\n",
       "    <tr>\n",
       "      <th>4.5</th>\n",
       "      <td>-82.231672</td>\n",
       "      <td>-82.169592</td>\n",
       "    </tr>\n",
       "  </tbody>\n",
       "</table>\n",
       "</div>"
      ],
      "text/plain": [
       "          rssi_Value  rolling_mean_rssi\n",
       "distance                               \n",
       "0.0       -57.010811         -56.935533\n",
       "0.5       -67.061170         -66.866788\n",
       "1.0       -75.950685         -76.102343\n",
       "1.5       -74.568783         -74.328086\n",
       "2.0       -79.493151         -79.722828\n",
       "2.5       -76.904891         -76.593561\n",
       "3.0       -79.255376         -79.142332\n",
       "3.5       -81.024194         -80.634009\n",
       "4.0       -80.708108         -80.924987\n",
       "4.5       -82.231672         -82.169592"
      ]
     },
     "metadata": {},
     "output_type": "display_data"
    }
   ],
   "source": [
    "data_plot_means = test_dataset.groupby(['distance'])[['rssi_Value','rolling_mean_rssi']].mean()\n",
    "display(data_plot_means)"
   ]
  },
  {
   "cell_type": "code",
   "execution_count": 36,
   "metadata": {},
   "outputs": [
    {
     "data": {
      "text/plain": [
       "(12475, 1)"
      ]
     },
     "metadata": {},
     "output_type": "display_data"
    },
    {
     "data": {
      "text/plain": [
       "(12475, 1)"
      ]
     },
     "metadata": {},
     "output_type": "display_data"
    },
    {
     "data": {
      "text/plain": [
       "(12475, 2)"
      ]
     },
     "metadata": {},
     "output_type": "display_data"
    }
   ],
   "source": [
    "test_X_rssi_home_big = pd.DataFrame(test_dataset_home_big['rssi_Value']).values.reshape(-1,1)\n",
    "display(test_X_rssi_home_big.shape)\n",
    "test_X_rolling_mean_home_big = pd.DataFrame(test_dataset_home_big['rolling_mean_rssi']).values.reshape(-1,1)\n",
    "display(test_X_rolling_mean_home_big.shape)\n",
    "test_combination_features_X_home_big = test_dataset_home_big[['rssi_Value','rolling_mean_rssi']]\n",
    "display(test_combination_features_X_home_big.shape)"
   ]
  },
  {
   "cell_type": "code",
   "execution_count": 37,
   "metadata": {},
   "outputs": [
    {
     "data": {
      "text/plain": [
       "(12475, 1)"
      ]
     },
     "metadata": {},
     "output_type": "display_data"
    }
   ],
   "source": [
    "test_Y_home_big = pd.DataFrame(test_dataset_home_big['distance']).values.reshape(-1,1)\n",
    "display(test_Y_home_big .shape)"
   ]
  },
  {
   "cell_type": "code",
   "execution_count": 38,
   "metadata": {},
   "outputs": [
    {
     "data": {
      "text/html": [
       "<div>\n",
       "<style scoped>\n",
       "    .dataframe tbody tr th:only-of-type {\n",
       "        vertical-align: middle;\n",
       "    }\n",
       "\n",
       "    .dataframe tbody tr th {\n",
       "        vertical-align: top;\n",
       "    }\n",
       "\n",
       "    .dataframe thead th {\n",
       "        text-align: right;\n",
       "    }\n",
       "</style>\n",
       "<table border=\"1\" class=\"dataframe\">\n",
       "  <thead>\n",
       "    <tr style=\"text-align: right;\">\n",
       "      <th></th>\n",
       "      <th>rssi_Value</th>\n",
       "      <th>rolling_mean_rssi</th>\n",
       "    </tr>\n",
       "    <tr>\n",
       "      <th>zone</th>\n",
       "      <th></th>\n",
       "      <th></th>\n",
       "    </tr>\n",
       "  </thead>\n",
       "  <tbody>\n",
       "    <tr>\n",
       "      <th>Personal</th>\n",
       "      <td>-60.626277</td>\n",
       "      <td>-60.688594</td>\n",
       "    </tr>\n",
       "    <tr>\n",
       "      <th>Social</th>\n",
       "      <td>-81.402474</td>\n",
       "      <td>-81.424138</td>\n",
       "    </tr>\n",
       "  </tbody>\n",
       "</table>\n",
       "</div>"
      ],
      "text/plain": [
       "          rssi_Value  rolling_mean_rssi\n",
       "zone                                   \n",
       "Personal  -60.626277         -60.688594\n",
       "Social    -81.402474         -81.424138"
      ]
     },
     "metadata": {},
     "output_type": "display_data"
    }
   ],
   "source": [
    "data_plot_means = test_dataset_home_big.groupby(['zone'])[['rssi_Value','rolling_mean_rssi']].mean()\n",
    "display(data_plot_means)"
   ]
  },
  {
   "cell_type": "code",
   "execution_count": 39,
   "metadata": {},
   "outputs": [
    {
     "data": {
      "text/plain": [
       "(2284, 1)"
      ]
     },
     "metadata": {},
     "output_type": "display_data"
    },
    {
     "data": {
      "text/plain": [
       "(2284, 1)"
      ]
     },
     "metadata": {},
     "output_type": "display_data"
    },
    {
     "data": {
      "text/plain": [
       "(2284, 2)"
      ]
     },
     "metadata": {},
     "output_type": "display_data"
    }
   ],
   "source": [
    "test_X_rssi_home_small = pd.DataFrame(test_dataset_home_small['rssi_Value']).values.reshape(-1,1)\n",
    "display(test_X_rssi_home_small.shape)\n",
    "test_X_rolling_mean_home_small = pd.DataFrame(test_dataset_home_small['rolling_mean_rssi']).values.reshape(-1,1)\n",
    "display(test_X_rolling_mean_home_small.shape)\n",
    "test_combination_features_X_home_small = test_dataset_home_small[['rssi_Value','rolling_mean_rssi']]\n",
    "display(test_combination_features_X_home_small.shape)"
   ]
  },
  {
   "cell_type": "code",
   "execution_count": 40,
   "metadata": {},
   "outputs": [
    {
     "data": {
      "text/plain": [
       "(2284, 1)"
      ]
     },
     "metadata": {},
     "output_type": "display_data"
    }
   ],
   "source": [
    "test_Y_home_small = pd.DataFrame(test_dataset_home_small['distance']).values.reshape(-1,1)\n",
    "display(test_Y_home_small .shape)"
   ]
  },
  {
   "cell_type": "code",
   "execution_count": 41,
   "metadata": {},
   "outputs": [
    {
     "data": {
      "text/html": [
       "<div>\n",
       "<style scoped>\n",
       "    .dataframe tbody tr th:only-of-type {\n",
       "        vertical-align: middle;\n",
       "    }\n",
       "\n",
       "    .dataframe tbody tr th {\n",
       "        vertical-align: top;\n",
       "    }\n",
       "\n",
       "    .dataframe thead th {\n",
       "        text-align: right;\n",
       "    }\n",
       "</style>\n",
       "<table border=\"1\" class=\"dataframe\">\n",
       "  <thead>\n",
       "    <tr style=\"text-align: right;\">\n",
       "      <th></th>\n",
       "      <th>rssi_Value</th>\n",
       "      <th>rolling_mean_rssi</th>\n",
       "    </tr>\n",
       "    <tr>\n",
       "      <th>zone</th>\n",
       "      <th></th>\n",
       "      <th></th>\n",
       "    </tr>\n",
       "  </thead>\n",
       "  <tbody>\n",
       "    <tr>\n",
       "      <th>Personal</th>\n",
       "      <td>-63.987165</td>\n",
       "      <td>-64.275969</td>\n",
       "    </tr>\n",
       "    <tr>\n",
       "      <th>Social</th>\n",
       "      <td>-80.535389</td>\n",
       "      <td>-80.579521</td>\n",
       "    </tr>\n",
       "  </tbody>\n",
       "</table>\n",
       "</div>"
      ],
      "text/plain": [
       "          rssi_Value  rolling_mean_rssi\n",
       "zone                                   \n",
       "Personal  -63.987165         -64.275969\n",
       "Social    -80.535389         -80.579521"
      ]
     },
     "metadata": {},
     "output_type": "display_data"
    }
   ],
   "source": [
    "data_plot_means = test_dataset_home_small.groupby(['zone'])[['rssi_Value','rolling_mean_rssi']].mean()\n",
    "display(data_plot_means)"
   ]
  },
  {
   "cell_type": "code",
   "execution_count": 42,
   "metadata": {},
   "outputs": [
    {
     "data": {
      "text/plain": [
       "(415, 1)"
      ]
     },
     "metadata": {},
     "output_type": "display_data"
    },
    {
     "data": {
      "text/plain": [
       "(415, 1)"
      ]
     },
     "metadata": {},
     "output_type": "display_data"
    },
    {
     "data": {
      "text/plain": [
       "(415, 2)"
      ]
     },
     "metadata": {},
     "output_type": "display_data"
    }
   ],
   "source": [
    "test_X_rssi_home_asus = pd.DataFrame(test_dataset_home_asus['rssi_Value']).values.reshape(-1,1)\n",
    "display(test_X_rssi_home_asus.shape)\n",
    "test_X_rolling_mean_home_asus = pd.DataFrame(test_dataset_home_asus['rolling_mean_rssi']).values.reshape(-1,1)\n",
    "display(test_X_rolling_mean_home_asus.shape)\n",
    "test_combination_features_X_home_asus = test_dataset_home_asus[['rssi_Value','rolling_mean_rssi']]\n",
    "display(test_combination_features_X_home_asus.shape)"
   ]
  },
  {
   "cell_type": "code",
   "execution_count": 43,
   "metadata": {},
   "outputs": [
    {
     "data": {
      "text/plain": [
       "(2284, 1)"
      ]
     },
     "metadata": {},
     "output_type": "display_data"
    }
   ],
   "source": [
    "test_Y_home_asus = pd.DataFrame(test_dataset_home_asus['distance']).values.reshape(-1,1)\n",
    "display(test_Y_home_small .shape)"
   ]
  },
  {
   "cell_type": "code",
   "execution_count": 44,
   "metadata": {},
   "outputs": [
    {
     "data": {
      "text/html": [
       "<div>\n",
       "<style scoped>\n",
       "    .dataframe tbody tr th:only-of-type {\n",
       "        vertical-align: middle;\n",
       "    }\n",
       "\n",
       "    .dataframe tbody tr th {\n",
       "        vertical-align: top;\n",
       "    }\n",
       "\n",
       "    .dataframe thead th {\n",
       "        text-align: right;\n",
       "    }\n",
       "</style>\n",
       "<table border=\"1\" class=\"dataframe\">\n",
       "  <thead>\n",
       "    <tr style=\"text-align: right;\">\n",
       "      <th></th>\n",
       "      <th>rssi_Value</th>\n",
       "      <th>rolling_mean_rssi</th>\n",
       "    </tr>\n",
       "    <tr>\n",
       "      <th>zone</th>\n",
       "      <th></th>\n",
       "      <th></th>\n",
       "    </tr>\n",
       "  </thead>\n",
       "  <tbody>\n",
       "    <tr>\n",
       "      <th>Personal</th>\n",
       "      <td>-69.205128</td>\n",
       "      <td>-69.220368</td>\n",
       "    </tr>\n",
       "    <tr>\n",
       "      <th>Social</th>\n",
       "      <td>-82.181467</td>\n",
       "      <td>-82.010114</td>\n",
       "    </tr>\n",
       "  </tbody>\n",
       "</table>\n",
       "</div>"
      ],
      "text/plain": [
       "          rssi_Value  rolling_mean_rssi\n",
       "zone                                   \n",
       "Personal  -69.205128         -69.220368\n",
       "Social    -82.181467         -82.010114"
      ]
     },
     "metadata": {},
     "output_type": "display_data"
    }
   ],
   "source": [
    "data_plot_means = test_dataset_home_asus.groupby(['zone'])[['rssi_Value','rolling_mean_rssi']].mean()\n",
    "display(data_plot_means)"
   ]
  },
  {
   "cell_type": "markdown",
   "metadata": {},
   "source": [
    "### Plot Test Data"
   ]
  },
  {
   "cell_type": "code",
   "execution_count": 45,
   "metadata": {},
   "outputs": [
    {
     "data": {
      "image/png": "[encoded data removed]",
      "text/plain": [
       "<Figure size 1008x360 with 1 Axes>"
      ]
     },
     "metadata": {},
     "output_type": "display_data"
    }
   ],
   "source": [
    "plt.figure(figsize=(14,5))\n",
    "plt.scatter(test_dataset['distance'],test_dataset['rssi_Value'],label='Test RSSI Value',color='blue')\n",
    "plt.scatter(test_dataset['distance'],test_dataset['rolling_mean_rssi'],label='Test Rolling Mean RSSI Value',color='orange')\n",
    "plt.title('Observations')  \n",
    "plt.xlabel('Zone')  \n",
    "plt.ylabel('RSSI(dB)')  \n",
    "plt.legend(loc='upper right');\n",
    "plt.show()"
   ]
  },
  {
   "cell_type": "code",
   "execution_count": 46,
   "metadata": {},
   "outputs": [
    {
     "data": {
      "image/png": "[encoded data removed]",
      "text/plain": [
       "<Figure size 1008x360 with 1 Axes>"
      ]
     },
     "metadata": {},
     "output_type": "display_data"
    }
   ],
   "source": [
    "plt.figure(figsize=(14,5))\n",
    "plt.scatter(test_dataset_home_big['distance'],test_dataset_home_big['rssi_Value'],label='Test SAMSUNG RSSI Value',color='blue')\n",
    "plt.scatter(test_dataset_home_big['distance'],test_dataset_home_big['rolling_mean_rssi'],label='Test SAMSUNG Rolling Mean RSSI Value',color='orange')\n",
    "plt.title('Observations')  \n",
    "plt.xlabel('Zone')  \n",
    "plt.ylabel('RSSI(dB)')  \n",
    "plt.legend(loc='upper right');\n",
    "plt.show()"
   ]
  },
  {
   "cell_type": "code",
   "execution_count": 47,
   "metadata": {},
   "outputs": [
    {
     "data": {
      "image/png": "[encoded data removed]",
      "text/plain": [
       "<Figure size 1008x360 with 1 Axes>"
      ]
     },
     "metadata": {},
     "output_type": "display_data"
    }
   ],
   "source": [
    "plt.figure(figsize=(14,5))\n",
    "plt.scatter(test_dataset_home_small['distance'],test_dataset_home_small['rssi_Value'],label='Test SAMSUNG RSSI Value',color='blue')\n",
    "plt.scatter(test_dataset_home_small['distance'],test_dataset_home_small['rolling_mean_rssi'],label='Test SAMSUNG Rolling Mean RSSI Value',color='orange')\n",
    "plt.title('Observations')  \n",
    "plt.xlabel('Zone')  \n",
    "plt.ylabel('RSSI(dB)')  \n",
    "plt.legend(loc='upper right');\n",
    "plt.show()"
   ]
  },
  {
   "cell_type": "code",
   "execution_count": 48,
   "metadata": {},
   "outputs": [
    {
     "data": {
      "image/png": "[encoded data removed]",
      "text/plain": [
       "<Figure size 1008x360 with 1 Axes>"
      ]
     },
     "metadata": {},
     "output_type": "display_data"
    }
   ],
   "source": [
    "plt.figure(figsize=(14,5))\n",
    "plt.scatter(test_dataset_home_asus['distance'],test_dataset_home_asus['rssi_Value'],label='Test ASUS RSSI Value',color='blue')\n",
    "plt.scatter(test_dataset_home_asus['distance'],test_dataset_home_asus['rolling_mean_rssi'],label='Test ASUS Rolling Mean RSSI Value',color='orange')\n",
    "plt.title('Observations')  \n",
    "plt.xlabel('Zone')  \n",
    "plt.ylabel('RSSI(dB)')  \n",
    "plt.legend(loc='upper right');\n",
    "plt.show()"
   ]
  },
  {
   "cell_type": "markdown",
   "metadata": {},
   "source": [
    "### Initialize Hyperparameters for tunning"
   ]
  },
  {
   "cell_type": "code",
   "execution_count": 49,
   "metadata": {},
   "outputs": [],
   "source": [
    "#Preprocessing options\n",
    "scaler = [StandardScaler(),MaxAbsScaler(),MinMaxScaler(),None]\n",
    "# Batch size of samples\n",
    "batch_size = [10, 20, 40, 60, 80, 100]\n",
    "# Epochs \n",
    "epochs = [10, 50, 100]\n",
    "# Optimization function\n",
    "optimizer = ['SGD', 'RMSprop', 'Adagrad', 'Adadelta', 'Adam', 'Adamax', 'Nadam']\n",
    "# Learning Rate - only used with SGD optimizer\n",
    "learn_rate = [0.001, 0.01, 0.1, 0.2, 0.3]\n",
    "# Momentum - only used with SGD optimizer\n",
    "momentum = [0.0, 0.2, 0.4, 0.6, 0.8, 0.9]\n",
    "# Activation Function\n",
    "activation = ['softmax', 'softplus', 'softsign', 'relu', 'tanh', 'sigmoid', 'hard_sigmoid', 'linear']\n",
    "# Number of neurons in a hidden layer\n",
    "neurons = [100,300,400,500,600]"
   ]
  },
  {
   "cell_type": "markdown",
   "metadata": {},
   "source": [
    "### Statistics Output Format\n",
    "Structure of the statistical output of each call to the machine learning algorithm"
   ]
  },
  {
   "cell_type": "code",
   "execution_count": 50,
   "metadata": {},
   "outputs": [],
   "source": [
    "def structure_data(data,rsquared):\n",
    "    mae = data['error'].abs().mean()\n",
    "    mse = np.power(data['error'],2).mean()\n",
    "    rsme = np.sqrt(mse)\n",
    "    std = data['error'].std()\n",
    "    q25 = data['error'].quantile(q=0.25)\n",
    "    q50= data['error'].quantile(q=0.5)\n",
    "    q75 =data['error'].quantile(q=0.7)\n",
    "    q95= data['error'].quantile(q=0.95)\n",
    "    r_squared = rsquared\n",
    "    minValue= data['error'].min()\n",
    "    maxValue = data['error'].max()\n",
    "    statistical_results = [mae,mse,rsme,std,q25,q50,q75,q95,minValue,maxValue,r_squared]\n",
    "    return statistical_results"
   ]
  },
  {
   "cell_type": "markdown",
   "metadata": {},
   "source": [
    "### Feature Selection\n",
    "Check strength of features using ensemble algorithm Random Forest"
   ]
  },
  {
   "cell_type": "code",
   "execution_count": 51,
   "metadata": {},
   "outputs": [
    {
     "name": "stdout",
     "output_type": "stream",
     "text": [
      "Feature Selection Computation\n"
     ]
    },
    {
     "data": {
      "text/plain": [
       "array([0.16321038, 0.83678962])"
      ]
     },
     "metadata": {},
     "output_type": "display_data"
    },
    {
     "data": {
      "text/plain": [
       "rolling_mean_rssi    0.83679\n",
       "rssi_Value           0.16321\n",
       "dtype: float64"
      ]
     },
     "metadata": {},
     "output_type": "display_data"
    },
    {
     "data": {
      "image/png": "[encoded data removed]",
      "text/plain": [
       "<Figure size 432x288 with 1 Axes>"
      ]
     },
     "metadata": {},
     "output_type": "display_data"
    }
   ],
   "source": [
    "print(\"Feature Selection Computation\")\n",
    "random_forest_estimator = RandomForestRegressor()\n",
    "main_estimator = make_pipeline(StandardScaler(),random_forest_estimator)\n",
    "main_estimator.fit(combination_features_X,train_Y.ravel())\n",
    "display(random_forest_estimator.feature_importances_)\n",
    "feature_imp = pd.Series(random_forest_estimator.feature_importances_,index=combination_features_X.columns).sort_values(ascending=False)\n",
    "display(feature_imp)\n",
    "# Creating a bar plot\n",
    "sns.barplot(x=feature_imp, y=feature_imp.index)\n",
    "# Add labels to your graph\n",
    "plt.xlabel('Feature Importance Score')\n",
    "plt.ylabel('Features')\n",
    "plt.title(\"Visualizing Important Features\")\n",
    "plt.show()"
   ]
  },
  {
   "cell_type": "markdown",
   "metadata": {},
   "source": [
    "### Model Training and Evaluation - MLP Regression Model\n",
    "Experiments with MLP algorithm"
   ]
  },
  {
   "cell_type": "code",
   "execution_count": 52,
   "metadata": {},
   "outputs": [
    {
     "name": "stdout",
     "output_type": "stream",
     "text": [
      "Default number of neurons: 180\n",
      "WARNING:tensorflow:From D:\\Programs\\Anaconda\\lib\\site-packages\\tensorflow\\python\\ops\\resource_variable_ops.py:435: colocate_with (from tensorflow.python.framework.ops) is deprecated and will be removed in a future version.\n",
      "Instructions for updating:\n",
      "Colocations handled automatically by placer.\n",
      "Model: \"sequential_1\"\n",
      "_________________________________________________________________\n",
      "Layer (type)                 Output Shape              Param #   \n",
      "=================================================================\n",
      "dense_1 (Dense)              (None, 180)               540       \n",
      "_________________________________________________________________\n",
      "dense_2 (Dense)              (None, 180)               32580     \n",
      "_________________________________________________________________\n",
      "dense_3 (Dense)              (None, 1)                 181       \n",
      "=================================================================\n",
      "Total params: 33,301\n",
      "Trainable params: 33,301\n",
      "Non-trainable params: 0\n",
      "_________________________________________________________________\n"
     ]
    },
    {
     "data": {
      "text/plain": [
       "None"
      ]
     },
     "metadata": {},
     "output_type": "display_data"
    }
   ],
   "source": [
    "num_neurons_basic = 180\n",
    "print(\"Default number of neurons: \" + str(num_neurons_basic))\n",
    "# Function to create model, required for KerasRegressor\n",
    "def create_model(dim=2,num_neurons=num_neurons_basic,activation ='relu',optimizer = 'adam'):\n",
    "    model = Sequential()\n",
    "    model.add(Dense(num_neurons,input_dim=dim,activation=activation))\n",
    "    model.add(Dense(num_neurons,activation=activation))\n",
    "    model.add(Dense(1))\n",
    "    model.compile(loss='mean_squared_error',optimizer=optimizer,metrics=['accuracy','mean_absolute_error'])\n",
    "    return model\n",
    "model = create_model()\n",
    "display(model.summary())"
   ]
  },
  {
   "cell_type": "code",
   "execution_count": 53,
   "metadata": {},
   "outputs": [],
   "source": [
    "def compute_MLP_Regressor(flag=0,dim=2,\n",
    "                              trainX_data = None, trainY_data = None,\n",
    "                              testX_data = None,testY_data = None, \n",
    "                              scaler = None,cross_validation = None,batch_size=10,epochs=50,verbose=0,num_neurons_param=180,\n",
    "                          optimizer_func='adam',activation_func='relu'):\n",
    "    keras_regressor = KerasRegressor(build_fn=create_model,dim=dim,epochs=epochs,num_neurons=num_neurons_param,\n",
    "                                     optimizer=optimizer_func,activation=activation_func,batch_size=batch_size,verbose=verbose)\n",
    "    seed = 7\n",
    "    np.random.seed(seed)\n",
    "    if scaler is not None:\n",
    "        # Make pipeline using scaler transformation\n",
    "        main_estimator = make_pipeline(scaler,keras_regressor)\n",
    "    else:\n",
    "        main_estimator = keras_regressor\n",
    "    if cross_validation is None:\n",
    "        # Fit the training data\n",
    "        main_estimator.fit(trainX_data,trainY_data)\n",
    "        # Predict the results of the testing data features\n",
    "        predict_test = main_estimator.predict(testX_data)\n",
    "        coefficient_determination = sklearn.metrics.r2_score(testY_data,predict_test)\n",
    "    else:\n",
    "        print(\"Cross Validation Activated. CV = \" + str(cross_validation))\n",
    "        predict_test = cross_val_predict(main_estimator,testX_data,testY_data,cv = cross_validation,groups=default_groups)\n",
    "        coefficient_determination = sklearn.metrics.r2_score(testY_data,predict_test)\n",
    "    statistical_array = list()\n",
    "    error_dataframe = pd.DataFrame({'Actual': testY_data.flatten(), 'Predicted':predict_test.flatten()})\n",
    "    if flag == 1:\n",
    "        display(error_dataframe)\n",
    "        error_dataframe.apply(pd.value_counts).plot(kind='bar', subplots=True)\n",
    "    observed_errors = error_dataframe['Predicted'] - error_dataframe['Actual']\n",
    "    error = pd.DataFrame(observed_errors, columns=[\"error\"])\n",
    "    result = pd.DataFrame(train_Y,columns=[\"distance\"]).join(error)\n",
    "    return structure_data(result,coefficient_determination)"
   ]
  },
  {
   "cell_type": "markdown",
   "metadata": {},
   "source": [
    "#### Check Training model with no cross validation\n",
    "Use MLP Regressor to check the results on the training data alone"
   ]
  },
  {
   "cell_type": "code",
   "execution_count": 54,
   "metadata": {},
   "outputs": [
    {
     "name": "stdout",
     "output_type": "stream",
     "text": [
      "WARNING:tensorflow:From D:\\Programs\\Anaconda\\lib\\site-packages\\tensorflow\\python\\ops\\math_ops.py:3066: to_int32 (from tensorflow.python.ops.math_ops) is deprecated and will be removed in a future version.\n",
      "Instructions for updating:\n",
      "Use tf.cast instead.\n"
     ]
    },
    {
     "data": {
      "text/html": [
       "<div>\n",
       "<style scoped>\n",
       "    .dataframe tbody tr th:only-of-type {\n",
       "        vertical-align: middle;\n",
       "    }\n",
       "\n",
       "    .dataframe tbody tr th {\n",
       "        vertical-align: top;\n",
       "    }\n",
       "\n",
       "    .dataframe thead th {\n",
       "        text-align: right;\n",
       "    }\n",
       "</style>\n",
       "<table border=\"1\" class=\"dataframe\">\n",
       "  <thead>\n",
       "    <tr style=\"text-align: right;\">\n",
       "      <th></th>\n",
       "      <th>Actual</th>\n",
       "      <th>Predicted</th>\n",
       "    </tr>\n",
       "  </thead>\n",
       "  <tbody>\n",
       "    <tr>\n",
       "      <th>0</th>\n",
       "      <td>0.0</td>\n",
       "      <td>-0.013727</td>\n",
       "    </tr>\n",
       "    <tr>\n",
       "      <th>1</th>\n",
       "      <td>0.0</td>\n",
       "      <td>-0.013727</td>\n",
       "    </tr>\n",
       "    <tr>\n",
       "      <th>2</th>\n",
       "      <td>0.0</td>\n",
       "      <td>-0.013727</td>\n",
       "    </tr>\n",
       "    <tr>\n",
       "      <th>3</th>\n",
       "      <td>0.0</td>\n",
       "      <td>-0.013727</td>\n",
       "    </tr>\n",
       "    <tr>\n",
       "      <th>4</th>\n",
       "      <td>0.0</td>\n",
       "      <td>-0.062288</td>\n",
       "    </tr>\n",
       "    <tr>\n",
       "      <th>...</th>\n",
       "      <td>...</td>\n",
       "      <td>...</td>\n",
       "    </tr>\n",
       "    <tr>\n",
       "      <th>24829</th>\n",
       "      <td>4.5</td>\n",
       "      <td>4.143732</td>\n",
       "    </tr>\n",
       "    <tr>\n",
       "      <th>24830</th>\n",
       "      <td>4.5</td>\n",
       "      <td>4.169512</td>\n",
       "    </tr>\n",
       "    <tr>\n",
       "      <th>24831</th>\n",
       "      <td>4.5</td>\n",
       "      <td>3.955359</td>\n",
       "    </tr>\n",
       "    <tr>\n",
       "      <th>24832</th>\n",
       "      <td>4.5</td>\n",
       "      <td>3.955359</td>\n",
       "    </tr>\n",
       "    <tr>\n",
       "      <th>24833</th>\n",
       "      <td>4.5</td>\n",
       "      <td>3.506739</td>\n",
       "    </tr>\n",
       "  </tbody>\n",
       "</table>\n",
       "<p>24834 rows × 2 columns</p>\n",
       "</div>"
      ],
      "text/plain": [
       "       Actual  Predicted\n",
       "0         0.0  -0.013727\n",
       "1         0.0  -0.013727\n",
       "2         0.0  -0.013727\n",
       "3         0.0  -0.013727\n",
       "4         0.0  -0.062288\n",
       "...       ...        ...\n",
       "24829     4.5   4.143732\n",
       "24830     4.5   4.169512\n",
       "24831     4.5   3.955359\n",
       "24832     4.5   3.955359\n",
       "24833     4.5   3.506739\n",
       "\n",
       "[24834 rows x 2 columns]"
      ]
     },
     "metadata": {},
     "output_type": "display_data"
    },
    {
     "data": {
      "text/html": [
       "<div>\n",
       "<style scoped>\n",
       "    .dataframe tbody tr th:only-of-type {\n",
       "        vertical-align: middle;\n",
       "    }\n",
       "\n",
       "    .dataframe tbody tr th {\n",
       "        vertical-align: top;\n",
       "    }\n",
       "\n",
       "    .dataframe thead th {\n",
       "        text-align: right;\n",
       "    }\n",
       "</style>\n",
       "<table border=\"1\" class=\"dataframe\">\n",
       "  <thead>\n",
       "    <tr style=\"text-align: right;\">\n",
       "      <th></th>\n",
       "      <th>Actual</th>\n",
       "      <th>Predicted</th>\n",
       "    </tr>\n",
       "  </thead>\n",
       "  <tbody>\n",
       "    <tr>\n",
       "      <th>0</th>\n",
       "      <td>0.0</td>\n",
       "      <td>-0.129679</td>\n",
       "    </tr>\n",
       "    <tr>\n",
       "      <th>1</th>\n",
       "      <td>0.0</td>\n",
       "      <td>-0.129679</td>\n",
       "    </tr>\n",
       "    <tr>\n",
       "      <th>2</th>\n",
       "      <td>0.0</td>\n",
       "      <td>-0.129679</td>\n",
       "    </tr>\n",
       "    <tr>\n",
       "      <th>3</th>\n",
       "      <td>0.0</td>\n",
       "      <td>-0.129679</td>\n",
       "    </tr>\n",
       "    <tr>\n",
       "      <th>4</th>\n",
       "      <td>0.0</td>\n",
       "      <td>-0.141453</td>\n",
       "    </tr>\n",
       "    <tr>\n",
       "      <th>...</th>\n",
       "      <td>...</td>\n",
       "      <td>...</td>\n",
       "    </tr>\n",
       "    <tr>\n",
       "      <th>24829</th>\n",
       "      <td>4.5</td>\n",
       "      <td>4.077177</td>\n",
       "    </tr>\n",
       "    <tr>\n",
       "      <th>24830</th>\n",
       "      <td>4.5</td>\n",
       "      <td>4.084289</td>\n",
       "    </tr>\n",
       "    <tr>\n",
       "      <th>24831</th>\n",
       "      <td>4.5</td>\n",
       "      <td>4.082721</td>\n",
       "    </tr>\n",
       "    <tr>\n",
       "      <th>24832</th>\n",
       "      <td>4.5</td>\n",
       "      <td>4.081265</td>\n",
       "    </tr>\n",
       "    <tr>\n",
       "      <th>24833</th>\n",
       "      <td>4.5</td>\n",
       "      <td>4.072319</td>\n",
       "    </tr>\n",
       "  </tbody>\n",
       "</table>\n",
       "<p>24834 rows × 2 columns</p>\n",
       "</div>"
      ],
      "text/plain": [
       "       Actual  Predicted\n",
       "0         0.0  -0.129679\n",
       "1         0.0  -0.129679\n",
       "2         0.0  -0.129679\n",
       "3         0.0  -0.129679\n",
       "4         0.0  -0.141453\n",
       "...       ...        ...\n",
       "24829     4.5   4.077177\n",
       "24830     4.5   4.084289\n",
       "24831     4.5   4.082721\n",
       "24832     4.5   4.081265\n",
       "24833     4.5   4.072319\n",
       "\n",
       "[24834 rows x 2 columns]"
      ]
     },
     "metadata": {},
     "output_type": "display_data"
    },
    {
     "data": {
      "text/html": [
       "<div>\n",
       "<style scoped>\n",
       "    .dataframe tbody tr th:only-of-type {\n",
       "        vertical-align: middle;\n",
       "    }\n",
       "\n",
       "    .dataframe tbody tr th {\n",
       "        vertical-align: top;\n",
       "    }\n",
       "\n",
       "    .dataframe thead th {\n",
       "        text-align: right;\n",
       "    }\n",
       "</style>\n",
       "<table border=\"1\" class=\"dataframe\">\n",
       "  <thead>\n",
       "    <tr style=\"text-align: right;\">\n",
       "      <th></th>\n",
       "      <th>Actual</th>\n",
       "      <th>Predicted</th>\n",
       "    </tr>\n",
       "  </thead>\n",
       "  <tbody>\n",
       "    <tr>\n",
       "      <th>0</th>\n",
       "      <td>0.0</td>\n",
       "      <td>-0.017075</td>\n",
       "    </tr>\n",
       "    <tr>\n",
       "      <th>1</th>\n",
       "      <td>0.0</td>\n",
       "      <td>-0.017075</td>\n",
       "    </tr>\n",
       "    <tr>\n",
       "      <th>2</th>\n",
       "      <td>0.0</td>\n",
       "      <td>-0.017075</td>\n",
       "    </tr>\n",
       "    <tr>\n",
       "      <th>3</th>\n",
       "      <td>0.0</td>\n",
       "      <td>-0.017075</td>\n",
       "    </tr>\n",
       "    <tr>\n",
       "      <th>4</th>\n",
       "      <td>0.0</td>\n",
       "      <td>-0.078244</td>\n",
       "    </tr>\n",
       "    <tr>\n",
       "      <th>...</th>\n",
       "      <td>...</td>\n",
       "      <td>...</td>\n",
       "    </tr>\n",
       "    <tr>\n",
       "      <th>24829</th>\n",
       "      <td>4.5</td>\n",
       "      <td>4.164013</td>\n",
       "    </tr>\n",
       "    <tr>\n",
       "      <th>24830</th>\n",
       "      <td>4.5</td>\n",
       "      <td>4.190123</td>\n",
       "    </tr>\n",
       "    <tr>\n",
       "      <th>24831</th>\n",
       "      <td>4.5</td>\n",
       "      <td>4.172097</td>\n",
       "    </tr>\n",
       "    <tr>\n",
       "      <th>24832</th>\n",
       "      <td>4.5</td>\n",
       "      <td>4.167914</td>\n",
       "    </tr>\n",
       "    <tr>\n",
       "      <th>24833</th>\n",
       "      <td>4.5</td>\n",
       "      <td>4.462550</td>\n",
       "    </tr>\n",
       "  </tbody>\n",
       "</table>\n",
       "<p>24834 rows × 2 columns</p>\n",
       "</div>"
      ],
      "text/plain": [
       "       Actual  Predicted\n",
       "0         0.0  -0.017075\n",
       "1         0.0  -0.017075\n",
       "2         0.0  -0.017075\n",
       "3         0.0  -0.017075\n",
       "4         0.0  -0.078244\n",
       "...       ...        ...\n",
       "24829     4.5   4.164013\n",
       "24830     4.5   4.190123\n",
       "24831     4.5   4.172097\n",
       "24832     4.5   4.167914\n",
       "24833     4.5   4.462550\n",
       "\n",
       "[24834 rows x 2 columns]"
      ]
     },
     "metadata": {},
     "output_type": "display_data"
    },
    {
     "data": {
      "text/html": [
       "<div>\n",
       "<style scoped>\n",
       "    .dataframe tbody tr th:only-of-type {\n",
       "        vertical-align: middle;\n",
       "    }\n",
       "\n",
       "    .dataframe tbody tr th {\n",
       "        vertical-align: top;\n",
       "    }\n",
       "\n",
       "    .dataframe thead th {\n",
       "        text-align: right;\n",
       "    }\n",
       "</style>\n",
       "<table border=\"1\" class=\"dataframe\">\n",
       "  <thead>\n",
       "    <tr style=\"text-align: right;\">\n",
       "      <th></th>\n",
       "      <th>mae</th>\n",
       "      <th>mse</th>\n",
       "      <th>rmse</th>\n",
       "      <th>std</th>\n",
       "      <th>.25</th>\n",
       "      <th>0.5</th>\n",
       "      <th>0.75</th>\n",
       "      <th>0.95</th>\n",
       "      <th>min</th>\n",
       "      <th>max</th>\n",
       "      <th>r-squared</th>\n",
       "      <th>type</th>\n",
       "    </tr>\n",
       "  </thead>\n",
       "  <tbody>\n",
       "    <tr>\n",
       "      <th>2</th>\n",
       "      <td>0.517824</td>\n",
       "      <td>0.546406</td>\n",
       "      <td>0.739193</td>\n",
       "      <td>0.736813</td>\n",
       "      <td>-0.285008</td>\n",
       "      <td>-0.011492</td>\n",
       "      <td>0.308908</td>\n",
       "      <td>1.182037</td>\n",
       "      <td>-3.460676</td>\n",
       "      <td>3.964392</td>\n",
       "      <td>0.735219</td>\n",
       "      <td>Both</td>\n",
       "    </tr>\n",
       "    <tr>\n",
       "      <th>0</th>\n",
       "      <td>0.655817</td>\n",
       "      <td>0.785887</td>\n",
       "      <td>0.886503</td>\n",
       "      <td>0.886442</td>\n",
       "      <td>-0.591575</td>\n",
       "      <td>-0.014704</td>\n",
       "      <td>0.347084</td>\n",
       "      <td>1.555165</td>\n",
       "      <td>-3.091575</td>\n",
       "      <td>3.669512</td>\n",
       "      <td>0.619169</td>\n",
       "      <td>RSSI Only</td>\n",
       "    </tr>\n",
       "    <tr>\n",
       "      <th>1</th>\n",
       "      <td>0.663768</td>\n",
       "      <td>0.753159</td>\n",
       "      <td>0.867847</td>\n",
       "      <td>0.867864</td>\n",
       "      <td>-0.462804</td>\n",
       "      <td>-0.097369</td>\n",
       "      <td>0.467060</td>\n",
       "      <td>1.393482</td>\n",
       "      <td>-2.828263</td>\n",
       "      <td>3.652326</td>\n",
       "      <td>0.635029</td>\n",
       "      <td>Rolling Mean RSSI</td>\n",
       "    </tr>\n",
       "  </tbody>\n",
       "</table>\n",
       "</div>"
      ],
      "text/plain": [
       "        mae       mse      rmse       std       .25       0.5      0.75  \\\n",
       "2  0.517824  0.546406  0.739193  0.736813 -0.285008 -0.011492  0.308908   \n",
       "0  0.655817  0.785887  0.886503  0.886442 -0.591575 -0.014704  0.347084   \n",
       "1  0.663768  0.753159  0.867847  0.867864 -0.462804 -0.097369  0.467060   \n",
       "\n",
       "       0.95       min       max  r-squared               type  \n",
       "2  1.182037 -3.460676  3.964392   0.735219               Both  \n",
       "0  1.555165 -3.091575  3.669512   0.619169          RSSI Only  \n",
       "1  1.393482 -2.828263  3.652326   0.635029  Rolling Mean RSSI  "
      ]
     },
     "metadata": {},
     "output_type": "display_data"
    },
    {
     "data": {
      "image/png": "[encoded data removed]",
      "text/plain": [
       "<Figure size 432x288 with 2 Axes>"
      ]
     },
     "metadata": {},
     "output_type": "display_data"
    },
    {
     "data": {
      "image/png": "[encoded data removed]",
      "text/plain": [
       "<Figure size 432x288 with 2 Axes>"
      ]
     },
     "metadata": {},
     "output_type": "display_data"
    },
    {
     "data": {
      "image/png": "[encoded data removed]",
      "text/plain": [
       "<Figure size 432x288 with 2 Axes>"
      ]
     },
     "metadata": {},
     "output_type": "display_data"
    }
   ],
   "source": [
    "statistical_cols = ['mae','mse','rmse','std','.25','0.5','0.75','0.95','min','max','r-squared','type']\n",
    "types = ['RSSI Only','Rolling Mean RSSI','Both']\n",
    "results = list()\n",
    "for feature in types:\n",
    "    if feature == 'RSSI Only':\n",
    "        trainX_data = train_X_rssi\n",
    "        dim = 1\n",
    "    elif feature == 'Rolling Mean RSSI':\n",
    "        trainX_data = train_X_rolling_mean\n",
    "        dim =1\n",
    "    else:\n",
    "        trainX_data = combination_features_X \n",
    "        dim = 2\n",
    "    result = compute_MLP_Regressor(flag=1,dim=dim,trainX_data=trainX_data,trainY_data=train_Y,\n",
    "                                   testX_data=trainX_data,testY_data=train_Y,\n",
    "                                   scaler=StandardScaler())\n",
    "    result.append(feature)\n",
    "    results.append(result)\n",
    "statistics = pd.DataFrame(columns=statistical_cols,data=results)\n",
    "display(statistics.sort_values(by=['mae']))"
   ]
  },
  {
   "cell_type": "markdown",
   "metadata": {},
   "source": [
    "#### Experiment - Validation_split"
   ]
  },
  {
   "cell_type": "code",
   "execution_count": 55,
   "metadata": {},
   "outputs": [
    {
     "name": "stdout",
     "output_type": "stream",
     "text": [
      "Train on 17383 samples, validate on 7451 samples\n",
      "Epoch 1/50\n",
      "17383/17383 [==============================] - 3s 175us/step - loss: 1.0145 - accuracy: 0.1856 - mean_absolute_error: 0.8058 - val_loss: 3.0466 - val_accuracy: 9.3947e-04 - val_mean_absolute_error: 1.6842\n",
      "Epoch 2/50\n",
      "17383/17383 [==============================] - 3s 157us/step - loss: 0.6659 - accuracy: 0.2517 - mean_absolute_error: 0.6687 - val_loss: 3.0231 - val_accuracy: 0.0011 - val_mean_absolute_error: 1.6712\n",
      "Epoch 3/50\n",
      "17383/17383 [==============================] - 3s 164us/step - loss: 0.5766 - accuracy: 0.2903 - mean_absolute_error: 0.6162 - val_loss: 2.6821 - val_accuracy: 0.0044 - val_mean_absolute_error: 1.5543\n",
      "Epoch 4/50\n",
      "17383/17383 [==============================] - 3s 168us/step - loss: 0.5348 - accuracy: 0.3018 - mean_absolute_error: 0.5972 - val_loss: 3.3369 - val_accuracy: 1.3421e-04 - val_mean_absolute_error: 1.7629\n",
      "Epoch 5/50\n",
      "17383/17383 [==============================] - 3s 182us/step - loss: 0.5085 - accuracy: 0.3118 - mean_absolute_error: 0.5775 - val_loss: 4.6625 - val_accuracy: 0.0000e+00 - val_mean_absolute_error: 2.1042\n",
      "Epoch 6/50\n",
      "17383/17383 [==============================] - 3s 155us/step - loss: 0.4933 - accuracy: 0.3196 - mean_absolute_error: 0.5641 - val_loss: 3.1844 - val_accuracy: 6.7105e-04 - val_mean_absolute_error: 1.7143\n",
      "Epoch 7/50\n",
      "17383/17383 [==============================] - 3s 166us/step - loss: 0.4913 - accuracy: 0.3201 - mean_absolute_error: 0.5597 - val_loss: 4.0824 - val_accuracy: 0.0000e+00 - val_mean_absolute_error: 1.9476\n",
      "Epoch 8/50\n",
      "17383/17383 [==============================] - 3s 180us/step - loss: 0.4904 - accuracy: 0.3182 - mean_absolute_error: 0.5597 - val_loss: 3.3709 - val_accuracy: 0.0000e+00 - val_mean_absolute_error: 1.7642\n",
      "Epoch 9/50\n",
      "17383/17383 [==============================] - 3s 190us/step - loss: 0.4845 - accuracy: 0.3202 - mean_absolute_error: 0.5564 - val_loss: 4.9155 - val_accuracy: 0.0000e+00 - val_mean_absolute_error: 2.1516\n",
      "Epoch 10/50\n",
      "17383/17383 [==============================] - 3s 190us/step - loss: 0.4844 - accuracy: 0.3215 - mean_absolute_error: 0.5535 - val_loss: 3.0426 - val_accuracy: 0.0012 - val_mean_absolute_error: 1.6652\n",
      "Epoch 11/50\n",
      "17383/17383 [==============================] - 3s 175us/step - loss: 0.4782 - accuracy: 0.3208 - mean_absolute_error: 0.5477 - val_loss: 3.6901 - val_accuracy: 0.0000e+00 - val_mean_absolute_error: 1.8489\n",
      "Epoch 12/50\n",
      "17383/17383 [==============================] - 3s 173us/step - loss: 0.4751 - accuracy: 0.3223 - mean_absolute_error: 0.5433 - val_loss: 3.9046 - val_accuracy: 0.0000e+00 - val_mean_absolute_error: 1.8990\n",
      "Epoch 13/50\n",
      "17383/17383 [==============================] - 3s 175us/step - loss: 0.4694 - accuracy: 0.3268 - mean_absolute_error: 0.5387 - val_loss: 3.4944 - val_accuracy: 0.0000e+00 - val_mean_absolute_error: 1.7898\n",
      "Epoch 14/50\n",
      "17383/17383 [==============================] - 3s 173us/step - loss: 0.4733 - accuracy: 0.3238 - mean_absolute_error: 0.5420 - val_loss: 3.1754 - val_accuracy: 8.0526e-04 - val_mean_absolute_error: 1.7000\n",
      "Epoch 15/50\n",
      "17383/17383 [==============================] - 3s 173us/step - loss: 0.4667 - accuracy: 0.3273 - mean_absolute_error: 0.5363 - val_loss: 1.9372 - val_accuracy: 0.0059 - val_mean_absolute_error: 1.2744\n",
      "Epoch 16/50\n",
      "17383/17383 [==============================] - 3s 165us/step - loss: 0.4688 - accuracy: 0.3268 - mean_absolute_error: 0.5360 - val_loss: 2.3279 - val_accuracy: 0.0048 - val_mean_absolute_error: 1.4265\n",
      "Epoch 17/50\n",
      "17383/17383 [==============================] - 3s 161us/step - loss: 0.4679 - accuracy: 0.3247 - mean_absolute_error: 0.5364 - val_loss: 3.2083 - val_accuracy: 0.0013 - val_mean_absolute_error: 1.7035\n",
      "Epoch 18/50\n",
      "17383/17383 [==============================] - 3s 165us/step - loss: 0.4656 - accuracy: 0.3288 - mean_absolute_error: 0.5347 - val_loss: 3.8575 - val_accuracy: 0.0000e+00 - val_mean_absolute_error: 1.8927\n",
      "Epoch 19/50\n",
      "17383/17383 [==============================] - 3s 156us/step - loss: 0.4645 - accuracy: 0.3277 - mean_absolute_error: 0.5338 - val_loss: 2.8931 - val_accuracy: 0.0019 - val_mean_absolute_error: 1.6072\n",
      "Epoch 20/50\n",
      "17383/17383 [==============================] - 3s 162us/step - loss: 0.4605 - accuracy: 0.3299 - mean_absolute_error: 0.5312 - val_loss: 3.9243 - val_accuracy: 0.0000e+00 - val_mean_absolute_error: 1.9067\n",
      "Epoch 21/50\n",
      "17383/17383 [==============================] - 3s 174us/step - loss: 0.4597 - accuracy: 0.3299 - mean_absolute_error: 0.5289 - val_loss: 2.3735 - val_accuracy: 0.0038 - val_mean_absolute_error: 1.4348\n",
      "Epoch 22/50\n",
      "17383/17383 [==============================] - 3s 161us/step - loss: 0.4566 - accuracy: 0.3287 - mean_absolute_error: 0.5272 - val_loss: 2.7279 - val_accuracy: 0.0019 - val_mean_absolute_error: 1.5507\n",
      "Epoch 23/50\n",
      "17383/17383 [==============================] - 3s 167us/step - loss: 0.4598 - accuracy: 0.3325 - mean_absolute_error: 0.5287 - val_loss: 3.8397 - val_accuracy: 2.6842e-04 - val_mean_absolute_error: 1.8847\n",
      "Epoch 24/50\n",
      "17383/17383 [==============================] - 3s 164us/step - loss: 0.4602 - accuracy: 0.3276 - mean_absolute_error: 0.5302 - val_loss: 2.7111 - val_accuracy: 0.0040 - val_mean_absolute_error: 1.5522\n",
      "Epoch 25/50\n",
      "17383/17383 [==============================] - 3s 171us/step - loss: 0.4580 - accuracy: 0.3292 - mean_absolute_error: 0.5288 - val_loss: 2.6896 - val_accuracy: 0.0019 - val_mean_absolute_error: 1.5429\n",
      "Epoch 26/50\n",
      "17383/17383 [==============================] - 3s 184us/step - loss: 0.4565 - accuracy: 0.3348 - mean_absolute_error: 0.5260 - val_loss: 3.4458 - val_accuracy: 9.3947e-04 - val_mean_absolute_error: 1.7772\n",
      "Epoch 27/50\n",
      "17383/17383 [==============================] - 3s 168us/step - loss: 0.4598 - accuracy: 0.3342 - mean_absolute_error: 0.5299 - val_loss: 3.3399 - val_accuracy: 5.3684e-04 - val_mean_absolute_error: 1.7411\n",
      "Epoch 28/50\n",
      "17383/17383 [==============================] - 3s 170us/step - loss: 0.4583 - accuracy: 0.3339 - mean_absolute_error: 0.5268 - val_loss: 3.0250 - val_accuracy: 0.0027 - val_mean_absolute_error: 1.6548\n",
      "Epoch 29/50\n",
      "17383/17383 [==============================] - 3s 161us/step - loss: 0.4547 - accuracy: 0.3343 - mean_absolute_error: 0.5264 - val_loss: 3.4431 - val_accuracy: 8.0526e-04 - val_mean_absolute_error: 1.7766\n",
      "Epoch 30/50\n",
      "17383/17383 [==============================] - 3s 184us/step - loss: 0.4526 - accuracy: 0.3375 - mean_absolute_error: 0.5243 - val_loss: 3.1449 - val_accuracy: 9.3947e-04 - val_mean_absolute_error: 1.6915\n",
      "Epoch 31/50\n",
      "17383/17383 [==============================] - 4s 254us/step - loss: 0.4534 - accuracy: 0.3347 - mean_absolute_error: 0.5249 - val_loss: 3.2367 - val_accuracy: 5.3684e-04 - val_mean_absolute_error: 1.7149\n",
      "Epoch 32/50\n",
      "17383/17383 [==============================] - 3s 186us/step - loss: 0.4548 - accuracy: 0.3371 - mean_absolute_error: 0.5267 - val_loss: 3.4190 - val_accuracy: 9.3947e-04 - val_mean_absolute_error: 1.7647\n",
      "Epoch 33/50\n",
      "17383/17383 [==============================] - 3s 172us/step - loss: 0.4538 - accuracy: 0.3386 - mean_absolute_error: 0.5256 - val_loss: 3.4636 - val_accuracy: 2.6842e-04 - val_mean_absolute_error: 1.7823\n",
      "Epoch 34/50\n",
      "17383/17383 [==============================] - 3s 178us/step - loss: 0.4544 - accuracy: 0.3360 - mean_absolute_error: 0.5241 - val_loss: 3.5586 - val_accuracy: 2.6842e-04 - val_mean_absolute_error: 1.8075\n",
      "Epoch 35/50\n",
      "17383/17383 [==============================] - 3s 163us/step - loss: 0.4513 - accuracy: 0.3369 - mean_absolute_error: 0.5225 - val_loss: 2.9869 - val_accuracy: 0.0024 - val_mean_absolute_error: 1.6407\n",
      "Epoch 36/50\n",
      "17383/17383 [==============================] - 3s 184us/step - loss: 0.4492 - accuracy: 0.3407 - mean_absolute_error: 0.5217 - val_loss: 3.3896 - val_accuracy: 1.3421e-04 - val_mean_absolute_error: 1.7576\n",
      "Epoch 37/50\n",
      "17383/17383 [==============================] - 3s 171us/step - loss: 0.4488 - accuracy: 0.3395 - mean_absolute_error: 0.5204 - val_loss: 2.9540 - val_accuracy: 0.0035 - val_mean_absolute_error: 1.6298\n",
      "Epoch 38/50\n",
      "17383/17383 [==============================] - 3s 161us/step - loss: 0.4479 - accuracy: 0.3427 - mean_absolute_error: 0.5210 - val_loss: 2.5563 - val_accuracy: 0.0042 - val_mean_absolute_error: 1.5021\n",
      "Epoch 39/50\n",
      "17383/17383 [==============================] - 3s 165us/step - loss: 0.4475 - accuracy: 0.3455 - mean_absolute_error: 0.5188 - val_loss: 3.6667 - val_accuracy: 0.0013 - val_mean_absolute_error: 1.8341\n",
      "Epoch 40/50\n",
      "17383/17383 [==============================] - 3s 163us/step - loss: 0.4466 - accuracy: 0.3432 - mean_absolute_error: 0.5206 - val_loss: 2.6051 - val_accuracy: 0.0042 - val_mean_absolute_error: 1.5165\n",
      "Epoch 41/50\n",
      "17383/17383 [==============================] - 3s 170us/step - loss: 0.4460 - accuracy: 0.3428 - mean_absolute_error: 0.5188 - val_loss: 3.2577 - val_accuracy: 0.0016 - val_mean_absolute_error: 1.7218\n",
      "Epoch 42/50\n",
      "17383/17383 [==============================] - 3s 172us/step - loss: 0.4473 - accuracy: 0.3413 - mean_absolute_error: 0.5200 - val_loss: 3.1403 - val_accuracy: 0.0013 - val_mean_absolute_error: 1.6925\n",
      "Epoch 43/50\n",
      "17383/17383 [==============================] - 3s 165us/step - loss: 0.4406 - accuracy: 0.3481 - mean_absolute_error: 0.5157 - val_loss: 3.2736 - val_accuracy: 0.0013 - val_mean_absolute_error: 1.7286\n",
      "Epoch 44/50\n",
      "17383/17383 [==============================] - 4s 202us/step - loss: 0.4439 - accuracy: 0.3441 - mean_absolute_error: 0.5177 - val_loss: 3.1308 - val_accuracy: 0.0016 - val_mean_absolute_error: 1.6864\n",
      "Epoch 45/50\n",
      "17383/17383 [==============================] - 3s 164us/step - loss: 0.4425 - accuracy: 0.3472 - mean_absolute_error: 0.5159 - val_loss: 3.4221 - val_accuracy: 0.0012 - val_mean_absolute_error: 1.7730\n",
      "Epoch 46/50\n",
      "17383/17383 [==============================] - 3s 161us/step - loss: 0.4404 - accuracy: 0.3472 - mean_absolute_error: 0.5138 - val_loss: 2.5370 - val_accuracy: 0.0042 - val_mean_absolute_error: 1.5001\n",
      "Epoch 47/50\n",
      "17383/17383 [==============================] - 3s 174us/step - loss: 0.4406 - accuracy: 0.3455 - mean_absolute_error: 0.5163 - val_loss: 2.3187 - val_accuracy: 0.0043 - val_mean_absolute_error: 1.4206\n",
      "Epoch 48/50\n",
      "17383/17383 [==============================] - 3s 166us/step - loss: 0.4378 - accuracy: 0.3511 - mean_absolute_error: 0.5121 - val_loss: 3.7067 - val_accuracy: 8.0526e-04 - val_mean_absolute_error: 1.8490\n",
      "Epoch 49/50\n",
      "17383/17383 [==============================] - 3s 159us/step - loss: 0.4360 - accuracy: 0.3495 - mean_absolute_error: 0.5110 - val_loss: 3.3042 - val_accuracy: 0.0013 - val_mean_absolute_error: 1.7396\n",
      "Epoch 50/50\n",
      "17383/17383 [==============================] - 3s 165us/step - loss: 0.4358 - accuracy: 0.3496 - mean_absolute_error: 0.5120 - val_loss: 2.9899 - val_accuracy: 0.0019 - val_mean_absolute_error: 1.6488\n"
     ]
    },
    {
     "data": {
      "text/plain": [
       "<Figure size 864x432 with 0 Axes>"
      ]
     },
     "metadata": {},
     "output_type": "display_data"
    },
    {
     "data": {
      "image/png": "[encoded data removed]",
      "text/plain": [
       "<Figure size 576x360 with 1 Axes>"
      ]
     },
     "metadata": {},
     "output_type": "display_data"
    },
    {
     "name": "stdout",
     "output_type": "stream",
     "text": [
      "24834/24834 [==============================] - 0s 18us/step\n"
     ]
    },
    {
     "data": {
      "text/plain": [
       "[1.1896135048613612, 0.24285253882408142, 0.8499979972839355]"
      ]
     },
     "execution_count": 55,
     "metadata": {},
     "output_type": "execute_result"
    }
   ],
   "source": [
    "model = create_model(dim=2)\n",
    "history = model.fit(combination_features_X,train_Y,validation_split=0.3,batch_size = 10,epochs=50,verbose=1)\n",
    "plt.figure(figsize=(12,6))\n",
    "pd.DataFrame(history.history).plot(figsize=(8, 5))\n",
    "plt.grid(True)\n",
    "plt.show()\n",
    "model.evaluate(combination_features_X,train_Y,verbose=1)"
   ]
  },
  {
   "cell_type": "markdown",
   "metadata": {},
   "source": [
    "#### Experiment -MLP with Stratified K-Fold\n",
    "Experiment using cross validation approach of StratifiedKFold"
   ]
  },
  {
   "cell_type": "code",
   "execution_count": null,
   "metadata": {},
   "outputs": [
    {
     "name": "stdout",
     "output_type": "stream",
     "text": [
      "Cross Validation Activated. CV = <generator object _BaseKFold.split at 0x000002ABD90867C8>\n",
      "Cross Validation Activated. CV = <generator object _BaseKFold.split at 0x000002ABBC9C9B48>\n",
      "Cross Validation Activated. CV = <generator object _BaseKFold.split at 0x000002ABBC375548>\n"
     ]
    }
   ],
   "source": [
    "statistical_cols = ['mae','mse','rmse','std','.25','0.5','0.75','0.95','min','max','r-squared','folds','type']\n",
    "types = ['RSSI Only','Rolling Mean RSSI','Both']\n",
    "cross_validation_list = np.arange(2,6)\n",
    "results = list()\n",
    "for feature in types:\n",
    "    #Decide on type of data\n",
    "    if feature == 'RSSI Only':\n",
    "        trainX_data = train_X_rssi\n",
    "        dim = 1\n",
    "    elif feature == 'Rolling Mean RSSI':\n",
    "        trainX_data = train_X_rolling_mean\n",
    "        dim = 1\n",
    "    else:\n",
    "        trainX_data = combination_features_X \n",
    "        dim = 2\n",
    "    for cv in cross_validation_list:\n",
    "        skf = StratifiedKFold(n_splits=cv)\n",
    "        splited = skf.split(trainX_data,default_groups)\n",
    "        result = compute_MLP_Regressor(testX_data=trainX_data,dim=dim,testY_data=train_Y.ravel(),epochs=25,\n",
    "                                   scaler=StandardScaler(),cross_validation=splited)\n",
    "        result.append(cv)\n",
    "        result.append(feature)\n",
    "        results.append(result)\n",
    "statistics = pd.DataFrame(columns=statistical_cols,data=results)\n",
    "display(statistics.sort_values(by=['mae']))\n",
    "selected_fold = statistics.sort_values(by=['mae'])['folds'].head(1).values[0]\n",
    "print(\"Number of Folds: \",selected_fold)"
   ]
  },
  {
   "cell_type": "markdown",
   "metadata": {},
   "source": [
    "#### Experiment - MLP with HoldOut\n",
    "Experiment using cross validation approach of HoldOut (Train test split)"
   ]
  },
  {
   "cell_type": "code",
   "execution_count": null,
   "metadata": {},
   "outputs": [],
   "source": [
    "statistical_cols = ['mae','mse','rmse','std','.25','0.5','0.75','0.95','min','max','r-squared','test_size','type']\n",
    "test_sizes =[0.1,0.2,0.3,0.4,0.5,0.6,0.7,0.8,0.9]\n",
    "results = list()\n",
    "types = ['RSSI Only','Rolling Mean RSSI','Both']\n",
    "for feature in types:\n",
    "    #Decide on type of data\n",
    "    if feature == 'RSSI Only':\n",
    "        trainX_data = train_X_rssi\n",
    "        dim =1\n",
    "    elif feature == 'Rolling Mean RSSI':\n",
    "        trainX_data = train_X_rolling_mean\n",
    "        dim = 1\n",
    "    else:\n",
    "        trainX_data = combination_features_X\n",
    "        dim = 2\n",
    "    for size in test_sizes:\n",
    "        X_train_split, X_test_split, y_train_split, y_test_split = train_test_split(trainX_data,train_Y, test_size = size, random_state = 42,stratify=default_groups)\n",
    "        result = compute_MLP_Regressor(dim=dim,epochs=25,trainX_data=X_train_split,trainY_data=y_train_split,testX_data=X_test_split,testY_data=y_test_split,\n",
    "                                       scaler=StandardScaler())\n",
    "        result.append(size)\n",
    "        result.append(feature)\n",
    "        results.append(result)\n",
    "statistics = pd.DataFrame(columns=statistical_cols,data=results)\n",
    "display(statistics.sort_values(by=['mae']))"
   ]
  },
  {
   "cell_type": "markdown",
   "metadata": {},
   "source": [
    "#### Experiment - MLP with Leave One Group Out\n",
    "Experiment using cross validation approach of Leave One Group Out"
   ]
  },
  {
   "cell_type": "code",
   "execution_count": null,
   "metadata": {},
   "outputs": [],
   "source": [
    "statistical_cols = ['mae','mse','rmse','std','.25','0.5','0.75','0.95','min','max','r-squared','type']\n",
    "results = list()\n",
    "types = ['RSSI Only','Rolling Mean RSSI','Both']\n",
    "for feature in types:\n",
    "    #Decide on type of data\n",
    "    if feature == 'RSSI Only':\n",
    "        trainX_data = train_X_rssi\n",
    "        dim = 1\n",
    "    elif feature == 'Rolling Mean RSSI':\n",
    "        trainX_data = train_X_rolling_mean\n",
    "        dim = 1\n",
    "    else:\n",
    "        trainX_data = combination_features_X\n",
    "        dim = 2\n",
    "    cv = LeaveOneGroupOut()\n",
    "    splited = cv.split(trainX_data,train_Y,groups=default_groups.ravel())\n",
    "    result = compute_MLP_Regressor(testX_data=trainX_data,testY_data=train_Y,dim=dim,epochs=25,scaler=StandardScaler(),cross_validation = splited)\n",
    "    result.append(feature)\n",
    "    results.append(result)\n",
    "statistics = pd.DataFrame(columns=statistical_cols,data=results)\n",
    "display(statistics.sort_values(by=['mae']))"
   ]
  },
  {
   "cell_type": "markdown",
   "metadata": {},
   "source": [
    "#### Evaluation Model Cross-Validation Experiment - Best cross-validation technique\n",
    "Best parameters found using MLP"
   ]
  },
  {
   "cell_type": "code",
   "execution_count": null,
   "metadata": {},
   "outputs": [],
   "source": [
    "statistical_cols = ['mae','mse','rmse','std','.25','0.5','0.75','0.95','min','max','r-squared','method','type']\n",
    "types = ['RSSI Only','Rolling Mean RSSI','Both']\n",
    "results = list()\n",
    "for feature in types:\n",
    "    #Decide on type of data\n",
    "    if feature == 'RSSI Only':\n",
    "        trainX_data = train_X_rssi\n",
    "        dim = 1\n",
    "    elif feature == 'Rolling Mean RSSI':\n",
    "        trainX_data = train_X_rolling_mean\n",
    "        dim = 1\n",
    "    else:\n",
    "        trainX_data = combination_features_X\n",
    "        dim = 2\n",
    "    X_train_split, X_test_split, y_train_split, y_test_split = train_test_split(trainX_data,train_Y, test_size = 0.3, random_state = 42,stratify=default_groups)\n",
    "    holdout = compute_MLP_Regressor(verbose=1,dim=dim,epochs=25,trainX_data=X_train_split,trainY_data=y_train_split,testX_data=X_test_split,testY_data=y_test_split,scaler=StandardScaler())\n",
    "    cv = LeaveOneGroupOut()\n",
    "    splited = cv.split(trainX_data,train_Y,groups=default_groups.ravel())\n",
    "    loo = compute_MLP_Regressor(testX_data=trainX_data,dim=dim,epochs=25,testY_data=train_Y,scaler=StandardScaler(),cross_validation = splited)  \n",
    "    loo.append('LOO')\n",
    "    loo.append(feature)\n",
    "    results.append(loo)\n",
    "    holdout.append('HoldOut')\n",
    "    holdout.append(feature)\n",
    "    results.append(holdout)\n",
    "    skf = StratifiedKFold(n_splits=selected_fold)\n",
    "    splited = skf.split(trainX_data,default_groups)\n",
    "    skfold = compute_MLP_Regressor(testX_data=trainX_data,dim=dim,epochs=25,testY_data=train_Y,scaler=StandardScaler(),cross_validation = splited)  \n",
    "    skfold.append('Stratified K-Fold')\n",
    "    skfold.append(feature)\n",
    "    results.append(skfold)\n",
    "statistics = pd.DataFrame(columns=statistical_cols,data=results)\n",
    "display(statistics.sort_values(by=['mae']))\n",
    "selected_method = statistics.sort_values(by=['mae'])['method'].head(1).values[0]\n",
    "print(\"Selected cross validation method: \",selected_method)"
   ]
  },
  {
   "cell_type": "markdown",
   "metadata": {},
   "source": [
    "#### Experiment - Best preprocessing technique\n",
    "Experiment with the different preprocessing techniques"
   ]
  },
  {
   "cell_type": "code",
   "execution_count": null,
   "metadata": {},
   "outputs": [],
   "source": [
    "statistical_cols = ['mae','mse','rmse','std','.25','0.5','0.75','0.95','min','max','r-squared','preprocessing','preprocessingFunc','type']\n",
    "types = ['RSSI Only','Rolling Mean RSSI','Both']\n",
    "results = list()\n",
    "dim = 2\n",
    "for scannedType in types:\n",
    "    if scannedType == 'RSSI Only':\n",
    "        trainX_data = train_X_rssi\n",
    "        dim = 1\n",
    "    elif scannedType == 'Rolling Mean RSSI':\n",
    "        trainX_data = train_X_rolling_mean\n",
    "        dim = 1\n",
    "    else:\n",
    "        trainX_data = combination_features_X\n",
    "        dim = 2\n",
    "    for preprocess in scaler:\n",
    "        if selected_method == 'LOO':\n",
    "            cv = LeaveOneGroupOut()\n",
    "            splited = cv.split(train_X_rssi,train_Y,groups=default_groups)\n",
    "            loo = compute_MLP_Regressor(flag = 0,testX_data=trainX_data,dim=dim,epochs=25,testY_data=train_Y,scaler=StandardScaler(),cross_validation = splited) \n",
    "        elif selected_method =='Stratified K-Fold':\n",
    "            skf = StratifiedKFold(n_splits=cv)\n",
    "            splited = skf.split(train_X_rssi,default_groups,default_groups)\n",
    "            result = compute_MLP_Regressor(flag = 0,testX_data=trainX_data,dim=dim,epochs=25,testY_data=train_Y,scaler=StandardScaler(),cross_validation = selected_fold)  \n",
    "        else:\n",
    "            X_train_split, X_test_split, y_train_split, y_test_split = train_test_split(trainX_data,train_Y, test_size = 0.4, random_state = 6,stratify=default_groups)\n",
    "            result = compute_MLP_Regressor(dim=dim,epochs=25,trainX_data=X_train_split,trainY_data=y_train_split,testX_data=X_test_split,testY_data=y_test_split,scaler=StandardScaler())\n",
    "        if(preprocess is None):\n",
    "            regex = 'None'\n",
    "        else:\n",
    "            regex = re.search('(\\w+)\\(',str(preprocess)).group(1)\n",
    "        result.append(regex)\n",
    "        result.append(preprocess)\n",
    "        result.append(scannedType)\n",
    "        results.append(result)\n",
    "statistics = pd.DataFrame(columns=statistical_cols,data=results)\n",
    "display(statistics.sort_values(by=['mae']))\n",
    "plt.plot(statistics['preprocessing'],statistics['mae'])\n",
    "selected_preprocessing = statistics.sort_values(by=['mae'])['preprocessing'].head(1).values[0]\n",
    "selected_preprocesssing_func = statistics.sort_values(by=['mae'])['preprocessingFunc'].head(1).values[0]\n",
    "print(\"Selected Preprocessing: \",selected_preprocessing)"
   ]
  },
  {
   "cell_type": "markdown",
   "metadata": {},
   "source": [
    "### Run RandomSearchCV for parameter tunning"
   ]
  },
  {
   "cell_type": "code",
   "execution_count": null,
   "metadata": {},
   "outputs": [],
   "source": [
    "score = 'neg_mean_absolute_error'\n",
    "scaler = StandardScaler()\n",
    "scaler.fit(train_X_rolling_mean)\n",
    "tr = scaler.transform(train_X_rolling_mean)\n",
    "model = KerasRegressor(build_fn=create_model,dim=1,epochs=50,batch_size=10,verbose=0)\n",
    "param_grid = dict(activation=activation,optimizer=optimizer,num_neurons=neurons)\n",
    "grid = RandomizedSearchCV(estimator=model, param_distributions=param_grid,\n",
    "                          cv=StratifiedKFold(n_splits=4, shuffle=True, random_state=6).split(trainX_data,default_groups,default_groups),\n",
    "                          scoring=score,random_state=42)\n",
    "display(grid)\n",
    "grid_result = grid.fit(tr.reshape(-1,1), train_Y.reshape(-1,1))\n",
    "# summarize results\n",
    "print(\"Best: %f using %s\" % (grid_result.best_score_, grid_result.best_params_))\n"
   ]
  },
  {
   "cell_type": "markdown",
   "metadata": {},
   "source": [
    "### Best Results\n",
    "Compute MLP with the best parameters"
   ]
  },
  {
   "cell_type": "code",
   "execution_count": null,
   "metadata": {},
   "outputs": [],
   "source": [
    "statistical_cols = ['mae','mse','rmse','std','.25','0.5','0.75','0.95','min','max','r-squared','type']\n",
    "types = ['RSSI Only','Rolling Mean RSSI','Both']\n",
    "results = list()\n",
    "dim = 2\n",
    "selected_method = 'HoldOut'\n",
    "for scannedType in types:\n",
    "    if scannedType == 'RSSI Only':\n",
    "        trainX_data = train_X_rssi\n",
    "        dim = 1\n",
    "    elif scannedType == 'Rolling Mean RSSI':\n",
    "        trainX_data = train_X_rolling_mean\n",
    "        dim = 1\n",
    "    else:\n",
    "        trainX_data = combination_features_X\n",
    "        dim = 2\n",
    "    if selected_method == 'LOO':\n",
    "        cv = LeaveOneGroupOut()\n",
    "        splited = cv.split(train_X_rssi,train_Y,groups=default_groups)\n",
    "        loo = compute_MLP_Regressor(flag = 0,verbose=1,testX_data=trainX_data,dim=dim,epochs=25,testY_data=train_Y,scaler=StandardScaler(),cross_validation = splited) \n",
    "    elif selected_method =='Stratified K-Fold':\n",
    "        skf = StratifiedKFold(n_splits=cv)\n",
    "        splited = skf.split(train_X_rssi,default_groups,default_groups)\n",
    "        result = compute_MLP_Regressor(flag = 0,verbose=1,testX_data=trainX_data,dim=dim,epochs=25,testY_data=train_Y,scaler=StandardScaler(),cross_validation = selected_fold)  \n",
    "    else:\n",
    "        X_train_split, X_test_split, y_train_split, y_test_split = train_test_split(trainX_data,train_Y, test_size = 0.4, random_state = 6,stratify=default_groups)\n",
    "        result = compute_MLP_Regressor(dim=dim,epochs=25,verbose=1,trainX_data=X_train_split,trainY_data=y_train_split,testX_data=X_test_split,testY_data=y_test_split,scaler=StandardScaler())\n",
    "    result.append(scannedType)\n",
    "    results.append(result)\n",
    "statistics = pd.DataFrame(columns=statistical_cols,data=results)\n",
    "display(statistics.sort_values(by=['mae']))"
   ]
  }
 ],
 "metadata": {
  "kernelspec": {
   "display_name": "Python 3",
   "language": "python",
   "name": "python3"
  },
  "language_info": {
   "codemirror_mode": {
    "name": "ipython",
    "version": 3
   },
   "file_extension": ".py",
   "mimetype": "text/x-python",
   "name": "python",
   "nbconvert_exporter": "python",
   "pygments_lexer": "ipython3",
   "version": "3.7.6"
  }
 },
 "nbformat": 4,
 "nbformat_minor": 4
}
