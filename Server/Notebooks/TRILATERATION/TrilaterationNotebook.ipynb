{
 "cells": [
  {
   "cell_type": "markdown",
   "metadata": {},
   "source": [
    "## Trilateration Notebook\n",
    "### Experiments based on the computation of the intersection of three or more beacons to compute the user's position"
   ]
  },
  {
   "cell_type": "markdown",
   "metadata": {},
   "source": [
    "### Imports\n",
    "Imports of required libraries"
   ]
  },
  {
   "cell_type": "code",
   "execution_count": null,
   "metadata": {},
   "outputs": [],
   "source": [
    "#CSV Related\n",
    "import pandas as pd\n",
    "import csv\n",
    "\n",
    "# Machine Learning\n",
    "import numpy as np\n",
    "from sklearn.neighbors import KNeighborsRegressor\n",
    "from sklearn.ensemble import RandomForestRegressor\n",
    "from sklearn.metrics import  accuracy_score\n",
    "from sklearn.preprocessing import OneHotEncoder,LabelEncoder\n",
    "from sklearn.model_selection import train_test_split,KFold,StratifiedKFold\n",
    "from sklearn.model_selection import cross_val_score, cross_val_predict\n",
    "from sklearn.preprocessing import StandardScaler, MinMaxScaler, MaxAbsScaler\n",
    "from sklearn.pipeline import Pipeline\n",
    "from sklearn.model_selection import GridSearchCV,RandomizedSearchCV\n",
    "from sklearn.model_selection import LeaveOneGroupOut\n",
    "from sklearn.pipeline import make_pipeline\n",
    "import sklearn\n",
    "import scipy\n",
    "\n",
    "#Graphical Display\n",
    "%matplotlib inline\n",
    "import math\n",
    "from IPython.display import display, HTML\n",
    "import matplotlib.pyplot as plt\n",
    "import seaborn as sns\n",
    "sns.set_style(\"whitegrid\")\n",
    "sns.despine()\n",
    "from pandas.plotting import scatter_matrix\n",
    "\n",
    "plt.style.use('seaborn-whitegrid')\n",
    "\n",
    "#Additional Helper Libraries\n",
    "from operator import itemgetter\n",
    "import re"
   ]
  },
  {
   "cell_type": "markdown",
   "metadata": {},
   "source": [
    "### Load File\n",
    "Function that allows to load a file from disk"
   ]
  },
  {
   "cell_type": "code",
   "execution_count": null,
   "metadata": {},
   "outputs": [],
   "source": [
    "#Function that reads a csv file and structures the data accordingly\n",
    "def load_file(filename):\n",
    "    dataset = pd.read_csv(filename)\n",
    "    return dataset"
   ]
  },
  {
   "cell_type": "markdown",
   "metadata": {},
   "source": [
    "### Replace 0 with Nan RSSI Values"
   ]
  },
  {
   "cell_type": "code",
   "execution_count": null,
   "metadata": {},
   "outputs": [],
   "source": [
    "def replace_features_nan(dataset):\n",
    "    dataset['rssi_Value'] = dataset['rssi_Value'].replace(0,np.nan)\n",
    "    dataset['rolling_mean_rssi'] = dataset['rolling_mean_rssi'].replace(0,np.nan)"
   ]
  },
  {
   "cell_type": "markdown",
   "metadata": {},
   "source": [
    "### Initialize Dataset\n",
    "Initialization of the data from the file"
   ]
  },
  {
   "cell_type": "code",
   "execution_count": null,
   "metadata": {},
   "outputs": [],
   "source": [
    "dataset = load_file('trilateration_test.csv')\n",
    "display(dataset)\n",
    "display(dataset.shape)"
   ]
  },
  {
   "cell_type": "markdown",
   "metadata": {},
   "source": [
    "### Initialize Training Dataset\n",
    "Initialization of the data from the file"
   ]
  },
  {
   "cell_type": "code",
   "execution_count": null,
   "metadata": {},
   "outputs": [],
   "source": [
    "train_dataset = load_file('../../dataset_train_university.csv')\n",
    "positions = train_dataset['coordinate_Y']\n",
    "train_dataset['distance'] = positions\n",
    "replace_features_nan(train_dataset)\n",
    "display(train_dataset)\n",
    "display(train_dataset.shape)\n",
    "train_dataset.hist(bins=50,figsize=(12,6))\n",
    "plt.show()"
   ]
  },
  {
   "cell_type": "markdown",
   "metadata": {},
   "source": [
    "### Initialize Test Set"
   ]
  },
  {
   "cell_type": "code",
   "execution_count": null,
   "metadata": {},
   "outputs": [],
   "source": [
    "test_dataset = load_file('dataset_test_trilateration_university.csv')\n",
    "positions = test_dataset['coordinate_Y']\n",
    "test_dataset['distance'] = positions\n",
    "replace_features_nan(test_dataset)\n",
    "display(test_dataset)\n",
    "display(test_dataset.shape)\n",
    "test_dataset.hist(bins=50,figsize=(12,6))\n",
    "plt.show()"
   ]
  },
  {
   "cell_type": "markdown",
   "metadata": {},
   "source": [
    "### File Overall Description\n",
    "Usage of describe pandas function on the dataset"
   ]
  },
  {
   "cell_type": "code",
   "execution_count": null,
   "metadata": {},
   "outputs": [],
   "source": [
    "display(dataset.describe().transpose())"
   ]
  },
  {
   "cell_type": "markdown",
   "metadata": {},
   "source": [
    "### % of Missing Values on Test Dataset"
   ]
  },
  {
   "cell_type": "code",
   "execution_count": null,
   "metadata": {},
   "outputs": [],
   "source": [
    "def compute_missing_values(dataset): \n",
    "    missing_values = dataset.isnull().sum()\n",
    "    missing_values_dataset = pd.DataFrame(missing_values,columns=['Missing Values'])\n",
    "    missing_percentage = (dataset.isnull().sum() / dataset.count())\n",
    "    missing_percentage_dataset = pd.DataFrame(missing_percentage,columns=['% of Missing Values'])\n",
    "    missing_dataset = missing_values_dataset.join(missing_percentage_dataset)\n",
    "    display(missing_dataset)"
   ]
  },
  {
   "cell_type": "code",
   "execution_count": null,
   "metadata": {},
   "outputs": [],
   "source": [
    "compute_missing_values(test_dataset)\n",
    "compute_missing_values(train_dataset)"
   ]
  },
  {
   "cell_type": "markdown",
   "metadata": {},
   "source": [
    "### Overall Histogram of dataset atributes"
   ]
  },
  {
   "cell_type": "code",
   "execution_count": null,
   "metadata": {},
   "outputs": [],
   "source": [
    "dataset.hist(bins=50,figsize=(12,6))\n",
    "plt.show()"
   ]
  },
  {
   "cell_type": "markdown",
   "metadata": {},
   "source": [
    "### Beacon RSSI Display of Test Dataset\n",
    "Graphical display of the rssi values recorded at each position"
   ]
  },
  {
   "cell_type": "code",
   "execution_count": null,
   "metadata": {},
   "outputs": [],
   "source": [
    "plt.figure(figsize=(6,3))\n",
    "# Title\n",
    "plt.title('RSSI Probability Distribution')\n",
    "\n",
    "sns.distplot(train_dataset['rssi_Value'])\n",
    "# The X Label\n",
    "plt.xlabel('RSSI (dB)')\n",
    "# The Y Label\n",
    "plt.ylabel('Probability')\n",
    "# Show the plot\n",
    "plt.show()"
   ]
  },
  {
   "cell_type": "code",
   "execution_count": null,
   "metadata": {},
   "outputs": [],
   "source": [
    "plt.figure(figsize=(6,3))\n",
    "# Title\n",
    "plt.title('RSSI Probability Distribution')\n",
    "\n",
    "sns.distplot(test_dataset['rssi_Value'])\n",
    "# The X Label\n",
    "plt.xlabel('RSSI (dB)')\n",
    "# The Y Label\n",
    "plt.ylabel('Probability')\n",
    "# Show the plot\n",
    "plt.show()"
   ]
  },
  {
   "cell_type": "markdown",
   "metadata": {},
   "source": [
    "### Beacon Rolling Mean RSSI Display of Test Dataset\n",
    "Graphical adisplay of the rolling mean value recorded at each position"
   ]
  },
  {
   "cell_type": "code",
   "execution_count": null,
   "metadata": {},
   "outputs": [],
   "source": [
    "plt.figure(figsize=(6,3))\n",
    "# Title\n",
    "plt.title('RSSI Rolling Mean Probability Distribution')\n",
    "# The KDE plot for the Rolling Mean column\n",
    "sns.distplot(train_dataset['rolling_mean_rssi'])\n",
    "# The X Label\n",
    "plt.xlabel('RSSI (dB)')\n",
    "# The Y Label\n",
    "plt.ylabel('Probability')\n",
    "# Show the plot\n",
    "plt.show()"
   ]
  },
  {
   "cell_type": "code",
   "execution_count": null,
   "metadata": {},
   "outputs": [],
   "source": [
    "plt.figure(figsize=(6,3))\n",
    "# Title\n",
    "plt.title('RSSI Rolling Mean Probability Distribution')\n",
    "# The KDE plot for the Rolling Mean column\n",
    "sns.distplot(test_dataset['rolling_mean_rssi'])\n",
    "# The X Label\n",
    "plt.xlabel('RSSI (dB)')\n",
    "# The Y Label\n",
    "plt.ylabel('Probability')\n",
    "# Show the plot\n",
    "plt.show()"
   ]
  },
  {
   "cell_type": "markdown",
   "metadata": {},
   "source": [
    "### Graphical Display of RSSI/Rolling Mean Distribution of Test Dataset\n",
    "Graphical display of the previous measures - rssi and rolling mean"
   ]
  },
  {
   "cell_type": "code",
   "execution_count": null,
   "metadata": {},
   "outputs": [],
   "source": [
    "plt.figure(figsize=(6,3))\n",
    "# Title\n",
    "plt.title('RSSI Probability Distribution')\n",
    "# The KDE plot for the RSSI column\n",
    "sns.kdeplot(train_dataset['rssi_Value'], label='RSSI')\n",
    "# The KDE plot for the Rolling Mean column\n",
    "sns.kdeplot(train_dataset['rolling_mean_rssi'], label='Rolling Mean RSSI')\n",
    "# The X Label\n",
    "plt.xlabel('RSSI (dB)')\n",
    "# The Y Label\n",
    "plt.ylabel('Probability')\n",
    "# Show the plot\n",
    "plt.show()"
   ]
  },
  {
   "cell_type": "code",
   "execution_count": null,
   "metadata": {},
   "outputs": [],
   "source": [
    "plt.figure(figsize=(6,3))\n",
    "# Title\n",
    "plt.title('RSSI Probability Distribution')\n",
    "# The KDE plot for the RSSI column\n",
    "sns.kdeplot(test_dataset['rssi_Value'], label='RSSI')\n",
    "# The KDE plot for the Rolling Mean column\n",
    "sns.kdeplot(test_dataset['rolling_mean_rssi'], label='Rolling Mean RSSI')\n",
    "# The X Label\n",
    "plt.xlabel('RSSI (dB)')\n",
    "# The Y Label\n",
    "plt.ylabel('Probability')\n",
    "# Show the plot\n",
    "plt.show()"
   ]
  },
  {
   "cell_type": "markdown",
   "metadata": {},
   "source": [
    "### Correlations\n",
    "Check how much each attribute collerates with each other. Valures frange from -1 to 1. Close to 1 means a strong positive correlation."
   ]
  },
  {
   "cell_type": "code",
   "execution_count": null,
   "metadata": {},
   "outputs": [],
   "source": [
    "def compute_correlations(dataset,attribute,flag=0):\n",
    "    corr_matrix = dataset.corr()\n",
    "    display(corr_matrix)\n",
    "    display(corr_matrix[attribute].sort_values(ascending=False))\n",
    "    if flag == 1:\n",
    "        attributes = [\"distance\",\"rssi_Value\", \"rolling_mean_rssi\"]\n",
    "        scatter_matrix(dataset[attributes], figsize=(12, 8))"
   ]
  },
  {
   "cell_type": "code",
   "execution_count": null,
   "metadata": {},
   "outputs": [],
   "source": [
    "compute_correlations(dataset,'X')\n",
    "compute_correlations(train_dataset,'distance',1)"
   ]
  },
  {
   "cell_type": "markdown",
   "metadata": {},
   "source": [
    "### Data Cleaning\n",
    "Fill in missing values and fix/remove outliers"
   ]
  },
  {
   "cell_type": "code",
   "execution_count": null,
   "metadata": {},
   "outputs": [],
   "source": [
    "def compute_data_cleaning(dataset,feature):\n",
    "    nan_filler = dataset[feature].min()*1.010\n",
    "    dataset[feature] = dataset[feature].fillna(nan_filler) # Fill missing values"
   ]
  },
  {
   "cell_type": "code",
   "execution_count": null,
   "metadata": {},
   "outputs": [],
   "source": [
    "compute_data_cleaning(train_dataset,'rssi_Value')\n",
    "compute_data_cleaning(train_dataset,'rolling_mean_rssi')\n",
    "compute_data_cleaning(test_dataset,'rssi_Value')\n",
    "compute_data_cleaning(test_dataset,'rolling_mean_rssi')"
   ]
  },
  {
   "cell_type": "markdown",
   "metadata": {},
   "source": [
    "### Dealing with Categorical Data\n",
    "Using Hot-Encoder or Label Encoder to convert text/categorical data into numerical data. ML algorithms prefer it"
   ]
  },
  {
   "cell_type": "code",
   "execution_count": null,
   "metadata": {},
   "outputs": [],
   "source": [
    "label_encoder = LabelEncoder()\n",
    "def compute_encoder(categorical_data,flag):\n",
    "    if flag == 0:\n",
    "        labels = label_encoder.fit_transform(categorical_data)\n",
    "    else:\n",
    "        labels = label_encoder.transform(categorical_data)\n",
    "    return labels"
   ]
  },
  {
   "cell_type": "code",
   "execution_count": null,
   "metadata": {},
   "outputs": [],
   "source": [
    "categorical_zone = train_dataset[['zone']]\n",
    "print(\"Previous Categorical Data\")\n",
    "display(categorical_zone)\n",
    "zone_changed = compute_encoder(categorical_zone,0)\n",
    "print(\"After One Hot Encoder\")\n",
    "train_dataset['labels'] = zone_changed\n",
    "display(train_dataset.head(5))"
   ]
  },
  {
   "cell_type": "code",
   "execution_count": null,
   "metadata": {},
   "outputs": [],
   "source": [
    "categorical_zone = test_dataset[['zone']]\n",
    "print(\"Previous Categorical Data\")\n",
    "display(categorical_zone)\n",
    "zone_changed = compute_encoder(categorical_zone,0)\n",
    "print(\"After One Hot Encoder\")\n",
    "test_dataset['labels'] = zone_changed\n",
    "display(test_dataset.head(5))"
   ]
  },
  {
   "cell_type": "markdown",
   "metadata": {},
   "source": [
    "### Plot Dataset\n",
    "Graphical Display of the observations in the dataset"
   ]
  },
  {
   "cell_type": "code",
   "execution_count": null,
   "metadata": {},
   "outputs": [],
   "source": [
    "plt.figure(figsize=(14,5))\n",
    "plt.scatter(dataset['X'],dataset['Y'],label='Reference Points',color='orange')\n",
    "plt.title('Observations')  \n",
    "plt.xlabel('Zone')  \n",
    "plt.ylabel('RSSI(dB)')  \n",
    "plt.legend(loc='upper right');\n",
    "plt.show()"
   ]
  },
  {
   "cell_type": "markdown",
   "metadata": {},
   "source": [
    "### Initialize Training Data\n",
    "Training Data intialization for predictions purposes"
   ]
  },
  {
   "cell_type": "code",
   "execution_count": null,
   "metadata": {},
   "outputs": [],
   "source": [
    "trainX_data = train_dataset[['rssi_Value','rolling_mean_rssi']]\n",
    "display(trainX_data.shape)\n",
    "default_groups = train_dataset['labels'].values.reshape(-1,1)\n",
    "initial_prediction = tuple()"
   ]
  },
  {
   "cell_type": "code",
   "execution_count": null,
   "metadata": {},
   "outputs": [],
   "source": [
    "train_Y = pd.DataFrame(train_dataset['distance']).values.reshape(-1,1)\n",
    "display(train_Y.shape)"
   ]
  },
  {
   "cell_type": "code",
   "execution_count": null,
   "metadata": {},
   "outputs": [],
   "source": [
    "data_plot_means = train_dataset.groupby(['distance'])[['rssi_Value','rolling_mean_rssi']].mean()\n",
    "display(data_plot_means)"
   ]
  },
  {
   "cell_type": "markdown",
   "metadata": {},
   "source": [
    "### Plot Training Data\n",
    "Graphical Display of the observations in the dataset"
   ]
  },
  {
   "cell_type": "code",
   "execution_count": null,
   "metadata": {},
   "outputs": [],
   "source": [
    "plt.figure(figsize=(14,5))\n",
    "plt.scatter(train_dataset['distance'],train_dataset['rssi_Value'],label='RSSI Value',color='blue')\n",
    "plt.scatter(train_dataset['distance'],train_dataset['rolling_mean_rssi'],label='Rolling Mean RSSI Value',color='orange')\n",
    "plt.title('Observations')  \n",
    "plt.xlabel('Zone')  \n",
    "plt.ylabel('RSSI(dB)')  \n",
    "plt.legend(loc='upper right');\n",
    "plt.show()"
   ]
  },
  {
   "cell_type": "markdown",
   "metadata": {},
   "source": [
    "### Initialize Test Data"
   ]
  },
  {
   "cell_type": "code",
   "execution_count": null,
   "metadata": {},
   "outputs": [],
   "source": [
    "test_X_rssi = pd.DataFrame(test_dataset['rssi_Value']).values.reshape(-1,1)\n",
    "display(test_X_rssi.shape)\n",
    "test_X_rolling_mean = pd.DataFrame(test_dataset['rolling_mean_rssi']).values.reshape(-1,1)\n",
    "display(test_X_rolling_mean.shape)\n",
    "test_combination_features_X = test_dataset[['rssi_Value','rolling_mean_rssi']]\n",
    "display(test_combination_features_X.shape)"
   ]
  },
  {
   "cell_type": "code",
   "execution_count": null,
   "metadata": {},
   "outputs": [],
   "source": [
    "test_Y = pd.DataFrame(test_dataset['distance']).values.reshape(-1,1)\n",
    "display(test_Y.shape)"
   ]
  },
  {
   "cell_type": "code",
   "execution_count": null,
   "metadata": {},
   "outputs": [],
   "source": [
    "data_plot_means = test_dataset.groupby(['distance'])[['rssi_Value','rolling_mean_rssi']].mean()\n",
    "display(data_plot_means)"
   ]
  },
  {
   "cell_type": "markdown",
   "metadata": {},
   "source": [
    "### Plot Test Data"
   ]
  },
  {
   "cell_type": "code",
   "execution_count": null,
   "metadata": {},
   "outputs": [],
   "source": [
    "plt.figure(figsize=(14,5))\n",
    "plt.scatter(test_dataset['distance'],test_dataset['rssi_Value'],label='Test RSSI Value',color='blue')\n",
    "plt.scatter(test_dataset['distance'],test_dataset['rolling_mean_rssi'],label='Test Rolling Mean RSSI Value',color='orange')\n",
    "plt.title('Observations')  \n",
    "plt.xlabel('Zone')  \n",
    "plt.ylabel('RSSI(dB)')  \n",
    "plt.legend(loc='upper right');\n",
    "plt.show()"
   ]
  },
  {
   "cell_type": "markdown",
   "metadata": {},
   "source": [
    "### Statistics Output Format\n",
    "Structure of the statistical output of each call to the machine learning algorithm"
   ]
  },
  {
   "cell_type": "code",
   "execution_count": null,
   "metadata": {},
   "outputs": [],
   "source": [
    "def structure_data(data):\n",
    "    mae = data['error'].abs().mean()\n",
    "    mse = np.power(data['error'],2).mean()\n",
    "    rsme = np.sqrt(mse)\n",
    "    std = data['error'].std()\n",
    "    q25 = data['error'].quantile(q=0.25)\n",
    "    q50= data['error'].quantile(q=0.5)\n",
    "    q75 =data['error'].quantile(q=0.7)\n",
    "    q95= data['error'].quantile(q=0.95)\n",
    "    minValue= data['error'].min()\n",
    "    maxValue = data['error'].max()\n",
    "    statistical_results = [mae,mse,rsme,std,q25,q50,q75,q95,minValue,maxValue]\n",
    "    return statistical_results"
   ]
  },
  {
   "cell_type": "markdown",
   "metadata": {},
   "source": [
    "### Proximity ML Algorithm to compute Distances"
   ]
  },
  {
   "cell_type": "code",
   "execution_count": null,
   "metadata": {},
   "outputs": [],
   "source": [
    "def compute_KNN_with_Regression(testX_data=None, scaler=None, n_neighbors=5,\n",
    "                                weights='uniform', algorithm='auto', leaf_size=30, p=2, metric='minkowski',\n",
    "                                metric_params=None, n_jobs=1):\n",
    "    # Init the KNN Regressor Estimator\n",
    "    knn_regression_estimator = KNeighborsRegressor(n_neighbors, weights, algorithm, leaf_size, p, metric, metric_params,\n",
    "                                                   n_jobs)\n",
    "    if scaler is not None:\n",
    "        # Make pipeline using scaler transformation\n",
    "        main_estimator = make_pipeline(scaler, knn_regression_estimator)\n",
    "    else:\n",
    "        main_estimator = knn_regression_estimator\n",
    "    # Fit the training data\n",
    "    main_estimator.fit(trainX_data, train_Y)\n",
    "    # Predict the results of the testing data features\n",
    "    predict_test = main_estimator.predict(testX_data)\n",
    "    return predict_test"
   ]
  },
  {
   "cell_type": "code",
   "execution_count": null,
   "metadata": {},
   "outputs": [],
   "source": [
    "distances = {}\n",
    "beacons = []\n",
    "def compute_distance(flag=0):\n",
    "    rf = test_dataset.groupby((['BLE Beacon']))\n",
    "    for k, v in rf:\n",
    "        if flag == 0:\n",
    "            print(\"BEACON \" + str(k))\n",
    "            display(v)\n",
    "        test_combination_features_X = v[['rssi_Value','rolling_mean_rssi']]\n",
    "        prediction_list = compute_KNN_with_Regression(testX_data=test_combination_features_X,scaler=StandardScaler(),n_neighbors=30,\n",
    "                                                      metric='manhattan')\n",
    "        if flag == 0:\n",
    "            display(prediction_list.shape)\n",
    "        distances[k] = np.mean(prediction_list)\n",
    "        beacons.append(k)\n",
    "        if flag == 0:\n",
    "            print(\"PREDICTION: \" + str(distances[k]))\n",
    "            print(\"\\n\")\n",
    "    if flag == 0:\n",
    "        print(\"DISTANCES ESTIMATIONS\")\n",
    "        print(distances)"
   ]
  },
  {
   "cell_type": "markdown",
   "metadata": {},
   "source": [
    "### Compute Trilateration Method"
   ]
  },
  {
   "cell_type": "code",
   "execution_count": null,
   "metadata": {},
   "outputs": [],
   "source": [
    "def compute_squared_errors(d1,d2):\n",
    "    squared_errors = math.pow(d1 - d2, 2.0)\n",
    "    return squared_errors"
   ]
  },
  {
   "cell_type": "code",
   "execution_count": null,
   "metadata": {},
   "outputs": [],
   "source": [
    "def compute_display(results_mse):\n",
    "    xs = []\n",
    "    ys = []\n",
    "    for k,v in results_mse.items():\n",
    "        xs.append(str(k))\n",
    "        ys.append(v)\n",
    "    plt.figure(figsize=(23,8))\n",
    "    plt.plot(xs,ys)\n",
    "    plt.show()"
   ]
  },
  {
   "cell_type": "code",
   "execution_count": null,
   "metadata": {},
   "outputs": [],
   "source": [
    "def compute_trilateration(flag = 0):\n",
    "    results_mse = {}\n",
    "    for index, row in dataset.iterrows():\n",
    "        x = row['X']\n",
    "        y = row['Y']\n",
    "        squared_errors = 0.0\n",
    "        for beacon in beacons:\n",
    "            distance_known = row[beacon]\n",
    "            squared_errors += compute_squared_errors(distance_known,distances[beacon])\n",
    "        mse = squared_errors / len(beacons)\n",
    "        if flag == 0:\n",
    "            print('MSE FOR POINT: x: ' + str(x) + \", y: \" + str(y) + \" is \" + str(mse))\n",
    "        results_mse[(x,y)] = mse\n",
    "    prediction = min(results_mse,key=results_mse.get)\n",
    "    print(\"PREDICTION is \" + str(prediction))\n",
    "    if flag == 0:\n",
    "        compute_display(results_mse)\n",
    "    return prediction"
   ]
  },
  {
   "cell_type": "markdown",
   "metadata": {},
   "source": [
    "### Experiment - Compute Distances\n",
    "Make initial prediction on distances "
   ]
  },
  {
   "cell_type": "code",
   "execution_count": null,
   "metadata": {},
   "outputs": [],
   "source": [
    "compute_distance()"
   ]
  },
  {
   "cell_type": "markdown",
   "metadata": {},
   "source": [
    "### Experiment - Compute Trilateration\n",
    "Make initial prediction on trilateration"
   ]
  },
  {
   "cell_type": "code",
   "execution_count": null,
   "metadata": {},
   "outputs": [],
   "source": [
    "initial_prediction = compute_trilateration()"
   ]
  },
  {
   "cell_type": "markdown",
   "metadata": {},
   "source": [
    "### Experiment - Make several runs on Trilateration\n",
    "This experiment allows to check the consistency of the predictions"
   ]
  },
  {
   "cell_type": "code",
   "execution_count": null,
   "metadata": {},
   "outputs": [],
   "source": [
    "statistical_cols = ['mae','mse','rmse','std','.25','0.5','0.75','0.95','min','max']\n",
    "runs = list(range(1, 31))\n",
    "predictions = list()\n",
    "actual = list()\n",
    "results_stats = list()\n",
    "for run in runs:\n",
    "    compute_distance(flag=1)\n",
    "    prediction = compute_trilateration(flag=1)\n",
    "    predictions.append(prediction)\n",
    "    actual.append(initial_prediction)\n",
    "results = list(zip(actual,predictions))\n",
    "error_dataframe = pd.DataFrame(results,columns=['Actual','Prediction'])\n",
    "observed_errors = list()\n",
    "for index, row in error_dataframe.iterrows():\n",
    "        x1 = row['Actual']\n",
    "        x2 = row['Prediction']\n",
    "        error = math.hypot(x2[0] - x1[0], x2[1] - x1[1])\n",
    "        observed_errors.append(error)\n",
    "error = pd.DataFrame(observed_errors, columns=[\"error\"])\n",
    "result = error_dataframe.join(error)\n",
    "display(result)\n",
    "stats = structure_data(result)\n",
    "results_stats.append(stats)\n",
    "statistics = pd.DataFrame(columns=statistical_cols,data=results_stats)\n",
    "display(statistics)"
   ]
  },
  {
   "cell_type": "markdown",
   "metadata": {},
   "source": [
    "### Experiment - Having data labeled to a certain position, can the algorithm correctly figure the position"
   ]
  },
  {
   "cell_type": "code",
   "execution_count": null,
   "metadata": {},
   "outputs": [],
   "source": []
  }
 ],
 "metadata": {
  "kernelspec": {
   "display_name": "Python 3",
   "language": "python",
   "name": "python3"
  },
  "language_info": {
   "codemirror_mode": {
    "name": "ipython",
    "version": 3
   },
   "file_extension": ".py",
   "mimetype": "text/x-python",
   "name": "python",
   "nbconvert_exporter": "python",
   "pygments_lexer": "ipython3",
   "version": "3.7.6"
  }
 },
 "nbformat": 4,
 "nbformat_minor": 4
}
